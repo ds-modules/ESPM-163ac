{
 "cells": [
  {
   "cell_type": "markdown",
   "metadata": {},
   "source": [
    "# Fun with Graphs"
   ]
  },
  {
   "cell_type": "markdown",
   "metadata": {},
   "source": [
    "Now that you have had an introduction to programming, we are going to start using these tools to explore our dataset!"
   ]
  },
  {
   "cell_type": "code",
   "execution_count": 2,
   "metadata": {},
   "outputs": [],
   "source": [
    "# This is import code we will use later. Just run the cell.\n",
    "import numpy as np\n",
    "import matplotlib.pyplot as plt\n",
    "from datascience import *\n",
    "%matplotlib inline \n",
    "plt.style.use(\"fivethirtyeight\")"
   ]
  },
  {
   "cell_type": "code",
   "execution_count": 3,
   "metadata": {},
   "outputs": [
    {
     "data": {
      "text/html": [
       "<table border=\"1\" class=\"dataframe\">\n",
       "    <thead>\n",
       "        <tr>\n",
       "            <th>Census Tract</th> <th>CES 3.0 Score</th> <th>CES 3.0 Percentile</th> <th>CES 3.0 Percentile Range</th> <th>Total Population</th> <th>California County</th> <th>Children < 10 (%)</th> <th>Pop 11-64 years (%)</th> <th>Elderly > 65 (%)</th> <th>Hispanic (%)</th> <th>White (%)</th> <th>African American (%)</th> <th>Native American (%)</th> <th>Asian American (%)</th> <th>Other (%)</th> <th>ZIP</th> <th>Nearby City \r\n",
       "(to help approximate location only)</th> <th>Longitude</th> <th>Latitude</th> <th> CES 3.0 Percentile</th> <th>CES 3.0 \r\n",
       "Percentile Range</th> <th>SB 535 Disadvantaged Community</th> <th>Ozone</th> <th>Ozone Pctl</th> <th>PM2.5</th> <th>PM2.5 Pctl</th> <th>Diesel PM</th> <th>Diesel PM Pctl</th> <th>Drinking Water</th> <th>Drinking Water Pctl</th> <th>Pesticides</th> <th>Pesticides Pctl</th> <th>Tox. Release</th> <th>Tox. Release Pctl</th> <th>Traffic</th> <th>Traffic Pctl</th> <th>Cleanup Sites</th> <th>Cleanup Sites Pctl</th> <th>Groundwater Threats</th> <th>Groundwater Threats Pctl</th> <th>Haz. Waste</th> <th>Haz. Waste Pctl</th> <th>Imp. Water Bodies</th> <th>Imp. Water Bodies Pctl</th> <th>Solid Waste</th> <th>Solid Waste Pctl</th> <th>Pollution Burden</th> <th>Pollution Burden Score</th> <th>Pollution Burden Pctl</th> <th>Asthma</th> <th>Asthma Pctl</th> <th>Low Birth Weight</th> <th>Low Birth Weight Pctl</th> <th>Cardiovascular Disease</th> <th>Cardiovascular Disease Pctl</th> <th>Education</th> <th>Education Pctl</th> <th>Linguistic Isolation</th> <th>Linguistic Isolation Pctl</th> <th>Poverty</th> <th>Poverty Pctl</th> <th>Unemployment</th> <th>Unemployment Pctl</th> <th>Housing Burden</th> <th>Housing Burden Pctl</th> <th>Pop. Char. </th> <th>Pop. Char. Score</th> <th>Pop. Char. Pctl</th>\n",
       "        </tr>\n",
       "    </thead>\n",
       "    <tbody>\n",
       "        <tr>\n",
       "            <td>6.019e+09   </td> <td>94.09        </td> <td>100               </td> <td>95-100% (highest scores)</td> <td>3174            </td> <td>Fresno           </td> <td>18.8             </td> <td>73.6               </td> <td>7.6             </td> <td>65.3        </td> <td>4.2      </td> <td>24.6                </td> <td>0.5                </td> <td>3.5               </td> <td>1.8      </td> <td>93706</td> <td>Fresno                                           </td> <td>-119.782 </td> <td>36.7097 </td> <td>100                </td> <td>95-100% (highest scores)  </td> <td>Yes                           </td> <td>0.065</td> <td>98.18     </td> <td>15.4 </td> <td>97.22     </td> <td>48.524   </td> <td>95.54         </td> <td>681.2         </td> <td>80.92              </td> <td>2.75      </td> <td>47.82          </td> <td>18552       </td> <td>97.46            </td> <td>909.14 </td> <td>62.98       </td> <td>80.5         </td> <td>98.67             </td> <td>45.75              </td> <td>89.85                   </td> <td>0.795     </td> <td>84.32          </td> <td>0                </td> <td>0                     </td> <td>21.75      </td> <td>97.81           </td> <td>79.96           </td> <td>9.85                  </td> <td>99.95                </td> <td>131.64</td> <td>97.67      </td> <td>7.44            </td> <td>93.84                </td> <td>14.13                 </td> <td>96.31                      </td> <td>53.3     </td> <td>95.76         </td> <td>16.2                </td> <td>77.51                    </td> <td>76.3   </td> <td>97.12       </td> <td>17.6        </td> <td>91.72            </td> <td>26            </td> <td>79.4               </td> <td>92.12      </td> <td>9.55            </td> <td>99.7           </td>\n",
       "        </tr>\n",
       "        <tr>\n",
       "            <td>6.071e+09   </td> <td>90.68        </td> <td>99.99             </td> <td>95-100% (highest scores)</td> <td>6133            </td> <td>San Bernardino   </td> <td>19.7             </td> <td>76.1               </td> <td>4.2             </td> <td>91.1        </td> <td>5.8      </td> <td>0.7                 </td> <td>0.3                </td> <td>1.4               </td> <td>0.7      </td> <td>91761</td> <td>Ontario                                          </td> <td>-117.618 </td> <td>34.0578 </td> <td>99.99              </td> <td>95-100% (highest scores)  </td> <td>Yes                           </td> <td>0.062</td> <td>91.1      </td> <td>13.31</td> <td>93.64     </td> <td>38.556   </td> <td>92.12         </td> <td>904.66        </td> <td>96.11              </td> <td>1.37      </td> <td>41.34          </td> <td>7494.24     </td> <td>89.05            </td> <td>782.26 </td> <td>55.66       </td> <td>66.2         </td> <td>97.68             </td> <td>36                 </td> <td>85.57                   </td> <td>1.25      </td> <td>88.77          </td> <td>5                </td> <td>55.01                 </td> <td>12         </td> <td>92.17           </td> <td>81.19           </td> <td>10                    </td> <td>100                  </td> <td>60.66 </td> <td>69.78      </td> <td>7.04            </td> <td>90.85                </td> <td>12.94                 </td> <td>92.66                      </td> <td>53.3     </td> <td>95.76         </td> <td>33.4                </td> <td>96.25                    </td> <td>72.5   </td> <td>94.63       </td> <td>12.3        </td> <td>71.82            </td> <td>34.1          </td> <td>93.75              </td> <td>87.44      </td> <td>9.07            </td> <td>98.11          </td>\n",
       "        </tr>\n",
       "        <tr>\n",
       "            <td>6.019e+09   </td> <td>85.97        </td> <td>99.97             </td> <td>95-100% (highest scores)</td> <td>3167            </td> <td>Fresno           </td> <td>21.5             </td> <td>72.5               </td> <td>6               </td> <td>63.6        </td> <td>5.3      </td> <td>18.9                </td> <td>0.6                </td> <td>9.8               </td> <td>1.8      </td> <td>93706</td> <td>Fresno                                           </td> <td>-119.806 </td> <td>36.7355 </td> <td>99.97              </td> <td>95-100% (highest scores)  </td> <td>Yes                           </td> <td>0.062</td> <td>91.1      </td> <td>15.4 </td> <td>97.22     </td> <td>47.445   </td> <td>95.42         </td> <td>681.2         </td> <td>80.92              </td> <td>3.03      </td> <td>48.75          </td> <td>12454.9     </td> <td>95.42            </td> <td>576.52 </td> <td>39          </td> <td>22           </td> <td>85.13             </td> <td>30.25              </td> <td>81.93                   </td> <td>0.2       </td> <td>60.5           </td> <td>0                </td> <td>0                     </td> <td>2.5        </td> <td>57.18           </td> <td>71.16           </td> <td>8.76                  </td> <td>99                   </td> <td>142.12</td> <td>98.33      </td> <td>10.16           </td> <td>99.78                </td> <td>14.96                 </td> <td>97.67                      </td> <td>42.3     </td> <td>89.06         </td> <td>16.7                </td> <td>78.39                    </td> <td>86.8   </td> <td>99.56       </td> <td>16.1        </td> <td>87.98            </td> <td>40.1          </td> <td>97.85              </td> <td>94.58      </td> <td>9.81            </td> <td>99.99          </td>\n",
       "        </tr>\n",
       "        <tr>\n",
       "            <td>6.077e+09   </td> <td>82.49        </td> <td>99.96             </td> <td>95-100% (highest scores)</td> <td>6692            </td> <td>San Joaquin      </td> <td>18.7             </td> <td>74.5               </td> <td>6.8             </td> <td>57.4        </td> <td>6        </td> <td>12.5                </td> <td>0.3                </td> <td>20.9              </td> <td>2.8      </td> <td>95203</td> <td>Stockton                                         </td> <td>-121.315 </td> <td>37.9405 </td> <td>99.96              </td> <td>95-100% (highest scores)  </td> <td>Yes                           </td> <td>0.046</td> <td>53.02     </td> <td>12.54</td> <td>84.02     </td> <td>24.117   </td> <td>73.52         </td> <td>278.76        </td> <td>29.11              </td> <td>12.93     </td> <td>60.56          </td> <td>2387.78     </td> <td>69.97            </td> <td>1305.01</td> <td>78.29       </td> <td>50.1         </td> <td>96.1              </td> <td>132.1              </td> <td>98.41                   </td> <td>0.795     </td> <td>84.32          </td> <td>19               </td> <td>98.63                 </td> <td>27         </td> <td>99.1            </td> <td>74.48           </td> <td>9.17                  </td> <td>99.59                </td> <td>142.17</td> <td>98.34      </td> <td>6.23            </td> <td>80.65                </td> <td>14.72                 </td> <td>97.17                      </td> <td>40.8     </td> <td>87.52         </td> <td>15.3                </td> <td>75.14                    </td> <td>61.3   </td> <td>85.57       </td> <td>19.6        </td> <td>94.97            </td> <td>21.1          </td> <td>63.54              </td> <td>86.7       </td> <td>8.99            </td> <td>97.72          </td>\n",
       "        </tr>\n",
       "        <tr>\n",
       "            <td>6.019e+09   </td> <td>82.03        </td> <td>99.95             </td> <td>95-100% (highest scores)</td> <td>2206            </td> <td>Fresno           </td> <td>14.8             </td> <td>72.1               </td> <td>13.1            </td> <td>71.8        </td> <td>21.4     </td> <td>1.2                 </td> <td>0.5                </td> <td>4.5               </td> <td>0.6      </td> <td>93725</td> <td>Fresno                                           </td> <td>-119.718 </td> <td>36.6816 </td> <td>99.95              </td> <td>95-100% (highest scores)  </td> <td>Yes                           </td> <td>0.065</td> <td>98.18     </td> <td>15.4 </td> <td>97.22     </td> <td>18.846   </td> <td>58.22         </td> <td>1000.24       </td> <td>98.64              </td> <td>3518.41   </td> <td>95.15          </td> <td>21790.7     </td> <td>98.15            </td> <td>435.16 </td> <td>24.3        </td> <td>60           </td> <td>97.15             </td> <td>54.2               </td> <td>92.09                   </td> <td>13.1      </td> <td>99.7           </td> <td>0                </td> <td>0                     </td> <td>50.8       </td> <td>99.91           </td> <td>80.2            </td> <td>9.88                  </td> <td>99.99                </td> <td>90.48 </td> <td>89.54      </td> <td>4.5             </td> <td>38.92                </td> <td>12.82                 </td> <td>92.36                      </td> <td>45.1     </td> <td>91.13         </td> <td>14.7                </td> <td>73.72                    </td> <td>66.4   </td> <td>90.23       </td> <td>18.6        </td> <td>93.65            </td> <td>28.1          </td> <td>83.98              </td> <td>80.08      </td> <td>8.3             </td> <td>92.76          </td>\n",
       "        </tr>\n",
       "        <tr>\n",
       "            <td>6.0372e+09  </td> <td>80.73        </td> <td>99.94             </td> <td>95-100% (highest scores)</td> <td>2598            </td> <td>Los Angeles      </td> <td>15.3             </td> <td>74.5               </td> <td>10.2            </td> <td>98.1        </td> <td>1.2      </td> <td>0.1                 </td> <td>0.1                </td> <td>0.2               </td> <td>0.3      </td> <td>90023</td> <td>Los Angeles                                      </td> <td>-118.197 </td> <td>34.0175 </td> <td>99.94              </td> <td>95-100% (highest scores)  </td> <td>Yes                           </td> <td>0.046</td> <td>53.02     </td> <td>12.89</td> <td>92.89     </td> <td>56.52    </td> <td>96.98         </td> <td>714.48        </td> <td>83.49              </td> <td>0         </td> <td>0              </td> <td>39040.2     </td> <td>99.3             </td> <td>2943.44</td> <td>97.19       </td> <td>36.7         </td> <td>93.14             </td> <td>25                 </td> <td>77.29                   </td> <td>4.93      </td> <td>96.31          </td> <td>7                </td> <td>71.61                 </td> <td>3.85       </td> <td>65.67           </td> <td>76.73           </td> <td>9.45                  </td> <td>99.88                </td> <td>68.74 </td> <td>77.63      </td> <td>7.35            </td> <td>93.21                </td> <td>10.4                  </td> <td>77.62                      </td> <td>53.1     </td> <td>95.67         </td> <td>23.7                </td> <td>89.15                    </td> <td>66.4   </td> <td>90.23       </td> <td>11.6        </td> <td>67.42            </td> <td>22            </td> <td>67.03              </td> <td>82.36      </td> <td>8.54            </td> <td>94.89          </td>\n",
       "        </tr>\n",
       "        <tr>\n",
       "            <td>6.077e+09   </td> <td>80.18        </td> <td>99.92             </td> <td>95-100% (highest scores)</td> <td>2396            </td> <td>San Joaquin      </td> <td>16.7             </td> <td>69.8               </td> <td>13.5            </td> <td>51.8        </td> <td>16.4     </td> <td>16.4                </td> <td>1.3                </td> <td>9.9               </td> <td>4.1      </td> <td>95203</td> <td>Stockton                                         </td> <td>-121.302 </td> <td>37.9524 </td> <td>99.92              </td> <td>95-100% (highest scores)  </td> <td>Yes                           </td> <td>0.046</td> <td>53.02     </td> <td>13.44</td> <td>94        </td> <td>21.76    </td> <td>66.48         </td> <td>278.76        </td> <td>29.11              </td> <td>172.49    </td> <td>79.19          </td> <td>707.536     </td> <td>56.11            </td> <td>885.52 </td> <td>61.94       </td> <td>89.7         </td> <td>98.89             </td> <td>149.05             </td> <td>98.74                   </td> <td>0.135     </td> <td>50.68          </td> <td>14               </td> <td>94.41                 </td> <td>2.3        </td> <td>52.98           </td> <td>68.27           </td> <td>8.41                  </td> <td>98.07                </td> <td>169.56</td> <td>99.36      </td> <td>8.36            </td> <td>97.86                </td> <td>12.7                  </td> <td>91.68                      </td> <td>46       </td> <td>91.72         </td> <td>27.1                </td> <td>92.4                     </td> <td>76.2   </td> <td>97.03       </td> <td>14.4        </td> <td>82               </td> <td>24.3          </td> <td>74.73              </td> <td>91.94      </td> <td>9.53            </td> <td>99.65          </td>\n",
       "        </tr>\n",
       "        <tr>\n",
       "            <td>6.019e+09   </td> <td>80.13        </td> <td>99.91             </td> <td>95-100% (highest scores)</td> <td>4106            </td> <td>Fresno           </td> <td>21               </td> <td>71.3               </td> <td>7.7             </td> <td>52.7        </td> <td>2.7      </td> <td>28.7                </td> <td>0.4                </td> <td>14.3              </td> <td>1.2      </td> <td>93706</td> <td>Fresno                                           </td> <td>-119.804 </td> <td>36.6978 </td> <td>99.91              </td> <td>95-100% (highest scores)  </td> <td>Yes                           </td> <td>0.065</td> <td>98.18     </td> <td>15.4 </td> <td>97.22     </td> <td>20.848   </td> <td>64.14         </td> <td>788.02        </td> <td>89.12              </td> <td>1435.93   </td> <td>90.89          </td> <td>6996.96     </td> <td>88.06            </td> <td>243.54 </td> <td>7.97        </td> <td>15.45        </td> <td>77.6              </td> <td>20                 </td> <td>71.07                   </td> <td>0         </td> <td>0              </td> <td>0                </td> <td>0                     </td> <td>10         </td> <td>89.46           </td> <td>66.88           </td> <td>8.24                  </td> <td>97.35                </td> <td>142.28</td> <td>98.42      </td> <td>7.83            </td> <td>95.91                </td> <td>14.96                 </td> <td>97.67                      </td> <td>47.4     </td> <td>92.58         </td> <td>15.8                </td> <td>76.58                    </td> <td>74.5   </td> <td>95.9        </td> <td>20          </td> <td>95.49            </td> <td>31.8          </td> <td>90.72              </td> <td>93.79      </td> <td>9.73            </td> <td>99.91          </td>\n",
       "        </tr>\n",
       "        <tr>\n",
       "            <td>6.03721e+09 </td> <td>79.03        </td> <td>99.9              </td> <td>95-100% (highest scores)</td> <td>2146            </td> <td>Los Angeles      </td> <td>12.4             </td> <td>63.2               </td> <td>24.4            </td> <td>79.3        </td> <td>8.9      </td> <td>4.1                 </td> <td>0.1                </td> <td>7.2               </td> <td>0.5      </td> <td>90023</td> <td>Los Angeles                                      </td> <td>-118.224 </td> <td>34.0299 </td> <td>99.9               </td> <td>95-100% (highest scores)  </td> <td>Yes                           </td> <td>0.046</td> <td>53.02     </td> <td>12.89</td> <td>92.89     </td> <td>53.958   </td> <td>96.42         </td> <td>664.07        </td> <td>78.57              </td> <td>0         </td> <td>0              </td> <td>10378.2     </td> <td>94.06            </td> <td>2810.82</td> <td>96.63       </td> <td>36.05        </td> <td>92.96             </td> <td>16.25              </td> <td>63.8                    </td> <td>10.025    </td> <td>99.13          </td> <td>7                </td> <td>71.61                 </td> <td>22.1       </td> <td>98.02           </td> <td>77.09           </td> <td>9.5                   </td> <td>99.9                 </td> <td>58.03 </td> <td>66.53      </td> <td>6.71            </td> <td>87.5                 </td> <td>7.24                  </td> <td>40.56                      </td> <td>50.4     </td> <td>94.36         </td> <td>35.7                </td> <td>97.12                    </td> <td>75.7   </td> <td>96.64       </td> <td>28.5        </td> <td>99.51            </td> <td>31.7          </td> <td>90.56              </td> <td>80.25      </td> <td>8.32            </td> <td>92.96          </td>\n",
       "        </tr>\n",
       "        <tr>\n",
       "            <td>6.019e+09   </td> <td>78.53        </td> <td>99.89             </td> <td>95-100% (highest scores)</td> <td>6343            </td> <td>Fresno           </td> <td>18.3             </td> <td>75.8               </td> <td>5.9             </td> <td>78          </td> <td>9.1      </td> <td>5.8                 </td> <td>0.8                </td> <td>5.3               </td> <td>0.9      </td> <td>93721</td> <td>Fresno                                           </td> <td>-119.776 </td> <td>36.7277 </td> <td>99.89              </td> <td>95-100% (highest scores)  </td> <td>Yes                           </td> <td>0.065</td> <td>98.18     </td> <td>15.4 </td> <td>97.22     </td> <td>54.356   </td> <td>96.74         </td> <td>681.2         </td> <td>80.92              </td> <td>114.96    </td> <td>76.84          </td> <td>125384      </td> <td>99.93            </td> <td>815.36 </td> <td>57.96       </td> <td>15.95        </td> <td>78.24             </td> <td>13.5               </td> <td>57.6                    </td> <td>0.755     </td> <td>83.84          </td> <td>0                </td> <td>0                     </td> <td>0.5        </td> <td>20.49           </td> <td>73.89           </td> <td>9.1                   </td> <td>99.48                </td> <td>107.8 </td> <td>94.23      </td> <td>4.79            </td> <td>46.47                </td> <td>14.75                 </td> <td>97.26                      </td> <td>52.5     </td> <td>95.32         </td> <td>13.7                </td> <td>71.35                    </td> <td>83.4   </td> <td>99.08       </td> <td>23.5        </td> <td>98.27            </td> <td>23.2          </td> <td>71.34              </td> <td>83.2       </td> <td>8.63            </td> <td>95.71          </td>\n",
       "        </tr>\n",
       "    </tbody>\n",
       "</table>\n",
       "<p>... (8025 rows omitted)</p>"
      ],
      "text/plain": [
       "Census Tract | CES 3.0 Score | CES 3.0 Percentile | CES 3.0 Percentile Range | Total Population | California County | Children < 10 (%) | Pop 11-64 years (%) | Elderly > 65 (%) | Hispanic (%) | White (%) | African American (%) | Native American (%) | Asian American (%) | Other (%) | ZIP   | Nearby City \n",
       "(to help approximate location only) | Longitude | Latitude |  CES 3.0 Percentile | CES 3.0 \n",
       "Percentile Range | SB 535 Disadvantaged Community | Ozone | Ozone Pctl | PM2.5 | PM2.5 Pctl | Diesel PM | Diesel PM Pctl | Drinking Water | Drinking Water Pctl | Pesticides | Pesticides Pctl | Tox. Release | Tox. Release Pctl | Traffic | Traffic Pctl | Cleanup Sites | Cleanup Sites Pctl | Groundwater Threats | Groundwater Threats Pctl | Haz. Waste | Haz. Waste Pctl | Imp. Water Bodies | Imp. Water Bodies Pctl | Solid Waste | Solid Waste Pctl | Pollution Burden | Pollution Burden Score | Pollution Burden Pctl | Asthma | Asthma Pctl | Low Birth Weight | Low Birth Weight Pctl | Cardiovascular Disease | Cardiovascular Disease Pctl | Education | Education Pctl | Linguistic Isolation | Linguistic Isolation Pctl | Poverty | Poverty Pctl | Unemployment | Unemployment Pctl | Housing Burden | Housing Burden Pctl | Pop. Char.  | Pop. Char. Score | Pop. Char. Pctl\n",
       "6.019e+09    | 94.09         | 100                | 95-100% (highest scores) | 3174             | Fresno            | 18.8              | 73.6                | 7.6              | 65.3         | 4.2       | 24.6                 | 0.5                 | 3.5                | 1.8       | 93706 | Fresno                                            | -119.782  | 36.7097  | 100                 | 95-100% (highest scores)   | Yes                            | 0.065 | 98.18      | 15.4  | 97.22      | 48.524    | 95.54          | 681.2          | 80.92               | 2.75       | 47.82           | 18552        | 97.46             | 909.14  | 62.98        | 80.5          | 98.67              | 45.75               | 89.85                    | 0.795      | 84.32           | 0                 | 0                      | 21.75       | 97.81            | 79.96            | 9.85                   | 99.95                 | 131.64 | 97.67       | 7.44             | 93.84                 | 14.13                  | 96.31                       | 53.3      | 95.76          | 16.2                 | 77.51                     | 76.3    | 97.12        | 17.6         | 91.72             | 26             | 79.4                | 92.12       | 9.55             | 99.7\n",
       "6.071e+09    | 90.68         | 99.99              | 95-100% (highest scores) | 6133             | San Bernardino    | 19.7              | 76.1                | 4.2              | 91.1         | 5.8       | 0.7                  | 0.3                 | 1.4                | 0.7       | 91761 | Ontario                                           | -117.618  | 34.0578  | 99.99               | 95-100% (highest scores)   | Yes                            | 0.062 | 91.1       | 13.31 | 93.64      | 38.556    | 92.12          | 904.66         | 96.11               | 1.37       | 41.34           | 7494.24      | 89.05             | 782.26  | 55.66        | 66.2          | 97.68              | 36                  | 85.57                    | 1.25       | 88.77           | 5                 | 55.01                  | 12          | 92.17            | 81.19            | 10                     | 100                   | 60.66  | 69.78       | 7.04             | 90.85                 | 12.94                  | 92.66                       | 53.3      | 95.76          | 33.4                 | 96.25                     | 72.5    | 94.63        | 12.3         | 71.82             | 34.1           | 93.75               | 87.44       | 9.07             | 98.11\n",
       "6.019e+09    | 85.97         | 99.97              | 95-100% (highest scores) | 3167             | Fresno            | 21.5              | 72.5                | 6                | 63.6         | 5.3       | 18.9                 | 0.6                 | 9.8                | 1.8       | 93706 | Fresno                                            | -119.806  | 36.7355  | 99.97               | 95-100% (highest scores)   | Yes                            | 0.062 | 91.1       | 15.4  | 97.22      | 47.445    | 95.42          | 681.2          | 80.92               | 3.03       | 48.75           | 12454.9      | 95.42             | 576.52  | 39           | 22            | 85.13              | 30.25               | 81.93                    | 0.2        | 60.5            | 0                 | 0                      | 2.5         | 57.18            | 71.16            | 8.76                   | 99                    | 142.12 | 98.33       | 10.16            | 99.78                 | 14.96                  | 97.67                       | 42.3      | 89.06          | 16.7                 | 78.39                     | 86.8    | 99.56        | 16.1         | 87.98             | 40.1           | 97.85               | 94.58       | 9.81             | 99.99\n",
       "6.077e+09    | 82.49         | 99.96              | 95-100% (highest scores) | 6692             | San Joaquin       | 18.7              | 74.5                | 6.8              | 57.4         | 6         | 12.5                 | 0.3                 | 20.9               | 2.8       | 95203 | Stockton                                          | -121.315  | 37.9405  | 99.96               | 95-100% (highest scores)   | Yes                            | 0.046 | 53.02      | 12.54 | 84.02      | 24.117    | 73.52          | 278.76         | 29.11               | 12.93      | 60.56           | 2387.78      | 69.97             | 1305.01 | 78.29        | 50.1          | 96.1               | 132.1               | 98.41                    | 0.795      | 84.32           | 19                | 98.63                  | 27          | 99.1             | 74.48            | 9.17                   | 99.59                 | 142.17 | 98.34       | 6.23             | 80.65                 | 14.72                  | 97.17                       | 40.8      | 87.52          | 15.3                 | 75.14                     | 61.3    | 85.57        | 19.6         | 94.97             | 21.1           | 63.54               | 86.7        | 8.99             | 97.72\n",
       "6.019e+09    | 82.03         | 99.95              | 95-100% (highest scores) | 2206             | Fresno            | 14.8              | 72.1                | 13.1             | 71.8         | 21.4      | 1.2                  | 0.5                 | 4.5                | 0.6       | 93725 | Fresno                                            | -119.718  | 36.6816  | 99.95               | 95-100% (highest scores)   | Yes                            | 0.065 | 98.18      | 15.4  | 97.22      | 18.846    | 58.22          | 1000.24        | 98.64               | 3518.41    | 95.15           | 21790.7      | 98.15             | 435.16  | 24.3         | 60            | 97.15              | 54.2                | 92.09                    | 13.1       | 99.7            | 0                 | 0                      | 50.8        | 99.91            | 80.2             | 9.88                   | 99.99                 | 90.48  | 89.54       | 4.5              | 38.92                 | 12.82                  | 92.36                       | 45.1      | 91.13          | 14.7                 | 73.72                     | 66.4    | 90.23        | 18.6         | 93.65             | 28.1           | 83.98               | 80.08       | 8.3              | 92.76\n",
       "6.0372e+09   | 80.73         | 99.94              | 95-100% (highest scores) | 2598             | Los Angeles       | 15.3              | 74.5                | 10.2             | 98.1         | 1.2       | 0.1                  | 0.1                 | 0.2                | 0.3       | 90023 | Los Angeles                                       | -118.197  | 34.0175  | 99.94               | 95-100% (highest scores)   | Yes                            | 0.046 | 53.02      | 12.89 | 92.89      | 56.52     | 96.98          | 714.48         | 83.49               | 0          | 0               | 39040.2      | 99.3              | 2943.44 | 97.19        | 36.7          | 93.14              | 25                  | 77.29                    | 4.93       | 96.31           | 7                 | 71.61                  | 3.85        | 65.67            | 76.73            | 9.45                   | 99.88                 | 68.74  | 77.63       | 7.35             | 93.21                 | 10.4                   | 77.62                       | 53.1      | 95.67          | 23.7                 | 89.15                     | 66.4    | 90.23        | 11.6         | 67.42             | 22             | 67.03               | 82.36       | 8.54             | 94.89\n",
       "6.077e+09    | 80.18         | 99.92              | 95-100% (highest scores) | 2396             | San Joaquin       | 16.7              | 69.8                | 13.5             | 51.8         | 16.4      | 16.4                 | 1.3                 | 9.9                | 4.1       | 95203 | Stockton                                          | -121.302  | 37.9524  | 99.92               | 95-100% (highest scores)   | Yes                            | 0.046 | 53.02      | 13.44 | 94         | 21.76     | 66.48          | 278.76         | 29.11               | 172.49     | 79.19           | 707.536      | 56.11             | 885.52  | 61.94        | 89.7          | 98.89              | 149.05              | 98.74                    | 0.135      | 50.68           | 14                | 94.41                  | 2.3         | 52.98            | 68.27            | 8.41                   | 98.07                 | 169.56 | 99.36       | 8.36             | 97.86                 | 12.7                   | 91.68                       | 46        | 91.72          | 27.1                 | 92.4                      | 76.2    | 97.03        | 14.4         | 82                | 24.3           | 74.73               | 91.94       | 9.53             | 99.65\n",
       "6.019e+09    | 80.13         | 99.91              | 95-100% (highest scores) | 4106             | Fresno            | 21                | 71.3                | 7.7              | 52.7         | 2.7       | 28.7                 | 0.4                 | 14.3               | 1.2       | 93706 | Fresno                                            | -119.804  | 36.6978  | 99.91               | 95-100% (highest scores)   | Yes                            | 0.065 | 98.18      | 15.4  | 97.22      | 20.848    | 64.14          | 788.02         | 89.12               | 1435.93    | 90.89           | 6996.96      | 88.06             | 243.54  | 7.97         | 15.45         | 77.6               | 20                  | 71.07                    | 0          | 0               | 0                 | 0                      | 10          | 89.46            | 66.88            | 8.24                   | 97.35                 | 142.28 | 98.42       | 7.83             | 95.91                 | 14.96                  | 97.67                       | 47.4      | 92.58          | 15.8                 | 76.58                     | 74.5    | 95.9         | 20           | 95.49             | 31.8           | 90.72               | 93.79       | 9.73             | 99.91\n",
       "6.03721e+09  | 79.03         | 99.9               | 95-100% (highest scores) | 2146             | Los Angeles       | 12.4              | 63.2                | 24.4             | 79.3         | 8.9       | 4.1                  | 0.1                 | 7.2                | 0.5       | 90023 | Los Angeles                                       | -118.224  | 34.0299  | 99.9                | 95-100% (highest scores)   | Yes                            | 0.046 | 53.02      | 12.89 | 92.89      | 53.958    | 96.42          | 664.07         | 78.57               | 0          | 0               | 10378.2      | 94.06             | 2810.82 | 96.63        | 36.05         | 92.96              | 16.25               | 63.8                     | 10.025     | 99.13           | 7                 | 71.61                  | 22.1        | 98.02            | 77.09            | 9.5                    | 99.9                  | 58.03  | 66.53       | 6.71             | 87.5                  | 7.24                   | 40.56                       | 50.4      | 94.36          | 35.7                 | 97.12                     | 75.7    | 96.64        | 28.5         | 99.51             | 31.7           | 90.56               | 80.25       | 8.32             | 92.96\n",
       "6.019e+09    | 78.53         | 99.89              | 95-100% (highest scores) | 6343             | Fresno            | 18.3              | 75.8                | 5.9              | 78           | 9.1       | 5.8                  | 0.8                 | 5.3                | 0.9       | 93721 | Fresno                                            | -119.776  | 36.7277  | 99.89               | 95-100% (highest scores)   | Yes                            | 0.065 | 98.18      | 15.4  | 97.22      | 54.356    | 96.74          | 681.2          | 80.92               | 114.96     | 76.84           | 125384       | 99.93             | 815.36  | 57.96        | 15.95         | 78.24              | 13.5                | 57.6                     | 0.755      | 83.84           | 0                 | 0                      | 0.5         | 20.49            | 73.89            | 9.1                    | 99.48                 | 107.8  | 94.23       | 4.79             | 46.47                 | 14.75                  | 97.26                       | 52.5      | 95.32          | 13.7                 | 71.35                     | 83.4    | 99.08        | 23.5         | 98.27             | 23.2           | 71.34               | 83.2        | 8.63             | 95.71\n",
       "... (8025 rows omitted)"
      ]
     },
     "execution_count": 3,
     "metadata": {},
     "output_type": "execute_result"
    }
   ],
   "source": [
    "# Here is our dataset for reference.\n",
    "Table.read_table(\"./data/ces_data.csv\")"
   ]
  },
  {
   "cell_type": "markdown",
   "metadata": {},
   "source": [
    "## Correlation\n",
    "\n",
    "Correlation is used to test relationships between quantitative variables or categorical variables. In other words, it’s a measure of how things are related. The study of how variables are correlated is called correlation analysis.\n",
    "\n",
    "Some examples of data that have a high correlation:\n",
    "\n",
    "    Your caloric intake vs. your weight.\n",
    "    Your eye color vs. your relatives’ eye colors.\n",
    "    The amount of time your study vs. your GPA.\n",
    "\n",
    "Some examples of data that have a low correlation (or none at all):\n",
    "\n",
    "    Your sexual preference vs. the type of cereal you eat.\n",
    "    A dog’s name vs. the type of dog biscuit they prefer.\n",
    "    The cost of a car wash vs. how long it takes to buy a soda inside the station.\n",
    "\n",
    "Correlations are useful because if you can find out what relationship variables have, you can make predictions about future behavior. Knowing what the future holds is very important in many social science fields, like government and healthcare."
   ]
  },
  {
   "cell_type": "markdown",
   "metadata": {},
   "source": [
    "The **correlation coefficient** ( r ) puts a value to the relationship and shows how strong it is. The value is between -1 and 1 where 0 is no relationship, -1 is a perfect negative relationship, and 1 is a perfect positive relationship. Correlation is also the heart of linear regression for prediction (which we will explore later).\n",
    "\n",
    "<span style=\"color:green\"> this text will be green</span>\n",
    "You make decisions based on relationships of two events all the time: if it's 2pm on a Thursday of Deadweek, you predict the number of seats avaiable in Moffitt Floor 5 would be close to none and would think twice about trying your luck there. As simple as this is, this is correlation and prediction at work: time of semester vs. the number of seats available in Moffitt Floor 5. This is exacltly waht we are going in this lab -- the correlation coefficient simply assigns a number to the strength of a relationship between two events. </span>"
   ]
  },
  {
   "cell_type": "markdown",
   "metadata": {},
   "source": [
    "## Let's try it on our data set.\n",
    "\n",
    "If we wanted to look at the relationship between two of the variables in our dataset, we could calculate the correlation. For example, asking how race is related to a particular health factor, such as asthma."
   ]
  },
  {
   "cell_type": "markdown",
   "metadata": {},
   "source": [
    "![image](./images/Correlation.png)"
   ]
  },
  {
   "cell_type": "markdown",
   "metadata": {},
   "source": [
    "## Regression"
   ]
  },
  {
   "cell_type": "markdown",
   "metadata": {},
   "source": [
    "Linear regression is a type of statistical modeling that explores the relationship between variables and determines whether one variable is related on other variables. This relationship can then be illustrated by a trend-line that’s overlaid on your data (also called a best-fit line) as shown below. "
   ]
  },
  {
   "cell_type": "markdown",
   "metadata": {},
   "source": [
    "![image](./images/cat-fur.png)"
   ]
  },
  {
   "cell_type": "markdown",
   "metadata": {},
   "source": [
    "Linear regression consists of finding the best-fitting straight line thorugh points. The best-fitting line is called a regression line with the equation:"
   ]
  },
  {
   "cell_type": "markdown",
   "metadata": {},
   "source": [
    "y = ax + b  (You've seen this before)\n",
    "\n",
    "**y** being the result. (Length of Fur)\n",
    "\n",
    "**x** being the variable. (Time Spent Vacuuming)\n",
    "\n",
    "**a** being a value that is to be determined. It is referred to as the coefficient, and is sort of like magnitude of change that y goes through when x changes. (Relationship)\n",
    "\n",
    "**b** being a constant that is to be determined. It is referred to as the intercept because, when x is 0 then y = b\n",
    "Simple linear regression follows the assumption that with all the data you’ve found so far, you can draw a line [y = ax + b] to identify a trend with these points and then figure out what y is at any value that x is."
   ]
  },
  {
   "cell_type": "markdown",
   "metadata": {},
   "source": [
    "Some other examples of statistical relationships might include:\n",
    "\n",
    "- Height and weight — as height increases, you'd expect weight to increase, but not perfectly.\n",
    "\n",
    "- Alcohol consumed and blood alcohol content — as alcohol consumption increases, you'd expect one's blood alcohol content to increase, but not perfectly.\n",
    "\n",
    "- Vital lung capacity and pack-years of smoking — as amount of smoking increases (as quantified by the number of pack-years of smoking), you'd expect lung function (as quantified by vital lung capacity) to decrease, but not perfectly.\n",
    "\n",
    "- Driving speed and gas mileage — as driving speed increases, you'd expect gas mileage to decrease, but not perfectly."
   ]
  },
  {
   "cell_type": "markdown",
   "metadata": {},
   "source": [
    "## Back to our data set"
   ]
  },
  {
   "cell_type": "markdown",
   "metadata": {},
   "source": [
    "Given a census table, our goal is to discover something about the data that will enhance our understanding of a population. Correlation allows us to determine a preliminary relationship between two variables (such as **asthma** and **race**) and allows us to continue with regression, which explores the relationship further. In the next lab, we will be putting these skills to use and calculating the correlation coefficients and regression lines with factors from our dataset. We will do this using functions that calculate it for us! They will look something like this:"
   ]
  },
  {
   "cell_type": "code",
   "execution_count": 9,
   "metadata": {},
   "outputs": [],
   "source": [
    "def correlation(t, label_x, label_y):\n",
    "    return np.mean(standard_units(t.column(label_x))*standard_units(t.column(label_y)))"
   ]
  },
  {
   "cell_type": "markdown",
   "metadata": {},
   "source": [
    "This is similar to the table functions we used in the first lab except it is not already made for us."
   ]
  },
  {
   "cell_type": "markdown",
   "metadata": {},
   "source": [
    "Predictions are a powerful tool that we will explore more in the next lab using these techniques!"
   ]
  }
 ],
 "metadata": {
  "kernelspec": {
   "display_name": "Python 3",
   "language": "python",
   "name": "python3"
  },
  "language_info": {
   "codemirror_mode": {
    "name": "ipython",
    "version": 3
   },
   "file_extension": ".py",
   "mimetype": "text/x-python",
   "name": "python",
   "nbconvert_exporter": "python",
   "pygments_lexer": "ipython3",
   "version": "3.6.5"
  }
 },
 "nbformat": 4,
 "nbformat_minor": 2
}
