{
 "cells": [
  {
   "cell_type": "markdown",
   "metadata": {},
   "source": [
    "# [ESPM-163AC]: Lab2 - Introduction to Prediction Part 2!\n",
    "\n",
    "*Estimated Time: ~50 minutes*\n",
    "\n",
    "One of the most important and interesting aspects of data science is making predictions about the future. How can we learn about temperatures a few decades from now by analyzing historical data about climate change and pollution? Based on a person's social media profile, what conclusions can we draw about their interests? How can we use a patient's medical history to judge how well he or she will respond to a treatment?\n",
    "\n",
    "In last week's lab, you learned a bunch of data science techniques to manipulate tables and make cool visualizations out of them. In lecture this week, we studied concepts of correlation and regression to make predictions in one outcome based on another factor (or factors). Today, we will be putting these skills to use to study relationships between race, environmental factors, and health outcomes. Specifically, we will **predict health outcomes (cardiovascular disease, asthma, etc.) based on an environmental factor and race**. We will interpret the correlation coefficients and visualizations of predictions.\n",
    "\n",
    "You've already seen how all of this comes together in lecture this week. In this lab, we will revisit our example of **the effect of race and air pollution on reported asthma rates** and, in the end, have you follow our steps to run a prediction using a **different** set of variables and interpret the results. \n",
    "\n",
    "If you feel comfortable with the concepts we covered in class, feel free to skim through Part 1 (Review Section) and start on Part 2 (your own analysis)! If you need some reinforcement, don't worry -- carefully read Part 1 and follow along with the provided example (from lecture) as you do your own analysis.\n",
    "\n",
    "\n",
    "\n",
    "### Table of Contents\n",
    "\n",
    "[The Data](#section data)<br>\n",
    "\n",
    "[Part I: Review](#section review)<br>\n",
    "\n",
    "&nbsp;&nbsp;&nbsp;&nbsp;&nbsp;&nbsp; 1 - [Correlation Coefficient](#subsection 1)\n",
    "\n",
    "&nbsp;&nbsp;&nbsp;&nbsp;&nbsp;&nbsp; 2 - [Linear Regression](#subsection 2)\n",
    "\n",
    "&nbsp;&nbsp;&nbsp;&nbsp;&nbsp;&nbsp; 3 - [Coefficient of Determination](#subsection 3)\n",
    "\n",
    "\n",
    "[Part II: Simple Linear Regression](#section linreg)<br>\n",
    "\n",
    "&nbsp;&nbsp;&nbsp;&nbsp;&nbsp;&nbsp; 4 - [Pollution vs. Asthma](#subsection 4)\n",
    "\n",
    "&nbsp;&nbsp;&nbsp;&nbsp;&nbsp;&nbsp; 5 - [Hispanic % vs. Asthma](#subsection 5)\n",
    "\n",
    "&nbsp;&nbsp;&nbsp;&nbsp;&nbsp;&nbsp; 6 - [You Try!](#subsection 6)\n",
    "\n",
    "[Part III: Multiple Regression!!](#section multreg)<br>\n",
    "\n",
    "\n",
    "\n",
    "\n",
    "### Let's get started! \n",
    "Run the cell below to import the tools we'll use in this notebook. Don't worry about getting an output -- simply run the cell!"
   ]
  },
  {
   "cell_type": "code",
   "execution_count": null,
   "metadata": {},
   "outputs": [],
   "source": [
    "#!pip install datascience\n",
    "#!pip install numpy\n",
    "#!pip install matplotlib\n",
    "#!pip install statsmodels.formula.api\n",
    "import datascience as ds\n",
    "import numpy as np\n",
    "import pandas as pd\n",
    "import matplotlib.pyplot as plots\n",
    "import scipy as sp\n",
    "%matplotlib inline\n",
    "from mpl_toolkits.mplot3d import Axes3D\n",
    "# import matplotlib.pyplot as plt\n",
    "import statsmodels.formula.api as sm\n"
   ]
  },
  {
   "cell_type": "markdown",
   "metadata": {},
   "source": [
    "# The Data <a id='section data'></a>\n",
    "\n",
    "We will be using data from the website of the Office of Environmental Health Hazard Assessment. The file includes environmental and population data across different counties of California. In order to analyze the data, we must first import it to our Jupyter notebook and create a table. We will call this table `data`.\n"
   ]
  },
  {
   "cell_type": "code",
   "execution_count": null,
   "metadata": {
    "scrolled": false
   },
   "outputs": [],
   "source": [
    "data = ds.Table.read_table(\"./data/ces_data.csv\")\n",
    "data.show(5)"
   ]
  },
  {
   "cell_type": "markdown",
   "metadata": {},
   "source": [
    "When dealing with large datasets, we will often encounter `NaN` values. These values are simply empty values that appear when we do not have a value available for a particular record. It is important to clean these meaningless values to carry out analysis of the dataset. Much of data science consists of **cleaning data** which includes **renaming columns**, **reducing the table size to include only the columns of interest**, and **removing `NaN` values**.  There are various methods of dealing with `NaN` values -- for our purposes, it is safe to simply remove these values from our table. \n",
    "\n",
    "**We have done this for you**: simply run the cell below to save a clean version of the data as `clean_data`."
   ]
  },
  {
   "cell_type": "code",
   "execution_count": null,
   "metadata": {},
   "outputs": [],
   "source": [
    "clean_data = ds.Table.read_table(\"data/cleaned_data_new.csv\")\n",
    "\n",
    "clean_data"
   ]
  },
  {
   "cell_type": "markdown",
   "metadata": {},
   "source": [
    "Since we removed some records, the **clean_data** table would have fewer rows than the original. How many `NaN` values were in our original table? Find out by comparing the lengths of the two tables!"
   ]
  },
  {
   "cell_type": "code",
   "execution_count": null,
   "metadata": {},
   "outputs": [],
   "source": [
    "length_of_original = len(data)\n",
    "length_of_cleaned = len(clean_data)\n",
    "difference = length_of_original - length_of_cleaned\n",
    "difference"
   ]
  },
  {
   "cell_type": "markdown",
   "metadata": {},
   "source": [
    "# Part I: Review<a id='section review'></a>\n",
    "\n",
    "We'll provide an overview of the concepts we covered in lecture. If you feel confident about the material on correlation (r), regression and coefficient of determination (r-squared), feel free to skip ahead! It is important to have a solid understanding of these concepts -- they are at the heart of the later parts of this lab. Make sure to ask any questions you have to clarify these concepts so you can get the most out of this lab!\n",
    "\n",
    "\n",
    "**Resources:**\n",
    "- If you need a more comprehensive review than what we offer here, we've attached [the lecture notebook here](http://datahub.berkeley.edu/user-redirect/interact?account=ds-modules&repo=ESPM-163ac&branch=master&path=Lecture%20Notebook.ipynb). \n",
    "\n",
    "- This lab utilized our Jupyter Notebook skills we developed last week in section. It's a good idea to have the [Introduction to Jupyter Notebook Lab]() open for your reference throughout this lab.\n",
    "\n",
    "## 1. The correlation coefficient - r<a id='subsection 1'></a>\n",
    "\n",
    "You came across this number last time in the lecture notebook. You already know that it's just a number between -1 and 1 that tells you:\n",
    "1. **What the relationship between two variables looks like** and \n",
    "2. **How strong that relationship is**.\n",
    "\n",
    "![image](./images/correlation-examples.svg)\n",
    "\n",
    "We defined functions that help us calculate the correlation coefficient in lecture. Don't worry about how it is defined -- simply run the cell below!"
   ]
  },
  {
   "cell_type": "code",
   "execution_count": null,
   "metadata": {},
   "outputs": [],
   "source": [
    "def standard_units(xyz): #helps us define the correlation function\n",
    "    return (xyz - np.mean(xyz))/np.std(xyz) \n",
    "\n",
    "#Finds the correlation between two columns of a table!\n",
    "def correlation(table, label_x, label_y):\n",
    "    return np.mean(standard_units(table.column(label_x))*standard_units(table.column(label_y)))"
   ]
  },
  {
   "cell_type": "markdown",
   "metadata": {},
   "source": [
    "We can use our `correlation()` function to calculate the correlation coeffient between any two variables in a table. Below is an example of how to use this: from the `clean_data` table, we will use the `hispanic` and `asthma` columns to see the relationship between these two variables."
   ]
  },
  {
   "cell_type": "code",
   "execution_count": null,
   "metadata": {},
   "outputs": [],
   "source": [
    "correlation(clean_data, 'hispanic', 'asthma')"
   ]
  },
  {
   "cell_type": "markdown",
   "metadata": {},
   "source": [
    "### Inpterpreting r\n",
    "So, we get a correlation coefficient of **0.359** from our calculation. What does this value mean regarding the relationship between the concentration of hispanic people and the frequency of asthma attacks in a census tract?"
   ]
  },
  {
   "cell_type": "markdown",
   "metadata": {},
   "source": [
    "- The value of the correlation coefficient is **positive**. This means that there is some sort of positive correlation between these variables: as the value of one variable increases, the other increases as well.\n",
    "\n",
    "- We can infer that places with a higher proportion of Hispanics **tend to have** a higher number of reported asthma attacks. \n",
    "\n",
    "- The value is not that close to 1 - we can only say that there is a **weak** positive relationship between the proportion of Hispanics and frequency of asthma attacks."
   ]
  },
  {
   "cell_type": "markdown",
   "metadata": {},
   "source": [
    "### You Try:"
   ]
  },
  {
   "cell_type": "markdown",
   "metadata": {},
   "source": [
    "Pick a race of your choice and calculate the correlation coefficient with cardio vascular disease."
   ]
  },
  {
   "cell_type": "code",
   "execution_count": null,
   "metadata": {},
   "outputs": [],
   "source": [
    "correlation(...,...,...)"
   ]
  },
  {
   "cell_type": "markdown",
   "metadata": {},
   "source": [
    "**Question 2: Interpret this value:**"
   ]
  },
  {
   "cell_type": "markdown",
   "metadata": {},
   "source": [
    "*Your Answer Here*"
   ]
  },
  {
   "cell_type": "markdown",
   "metadata": {},
   "source": [
    "## 2. Prediction Using Simple Linear Regression<a id='subsection 2'></a>"
   ]
  },
  {
   "cell_type": "markdown",
   "metadata": {},
   "source": [
    "Equation of a Simple Linear Regression line: $Y = mX+b$\n",
    "\n",
    "![image](http://onlinestatbook.com/2/regression/graphics/gpa.jpg)\n",
    "\n",
    "## Simple Linear Regression\n",
    "\n",
    "Linear regression is really just a term for **making predictions using lines**. That's right -- with two variabes, linear regression is just a plain old line:\n",
    "\n",
    "$$Y = mX+b$$\n",
    "\n",
    "![image](http://onlinestatbook.com/2/regression/graphics/gpa.jpg)\n",
    "\n",
    "In the example above:\n",
    "- `Y` is what you are predicting (e.g. University GPA) and\n",
    "- `X` is what you are basing the prediction off of (e.g. High School GPA)\n",
    "\n",
    "So, all we need to make predictions are two values:\n",
    "- the slope (`m`) and\n",
    "- the intercept (`b`) of the line!\n",
    "\n",
    "\n",
    "Amazingly, this simple line is the **best** linear predictor of the data: it is **the best line that \"fits\" the data**.\n",
    "\n",
    "If you recall from your algebra classes:\n",
    "\n",
    "- the **y-intercept**  is just what the Y-value is expected to be when X = 0 (where the line crosses the y-axis), and \n",
    "- the **slope** tell you how much the Y-value changes when the X-value changes. \n",
    "\n",
    "In other words, the **slope** is highly dependent on the **relationship** between X and Y -- it is dependent on the **the correlation coefficient**.\n",
    "\n",
    "That's right: **we need the correlation coefficient in order to find the equation for the regression line.**\n",
    "\n",
    "You don't need to know how any of the following functions are defined: we've given you everything you need to calculate the slope and intercept of the regression line -- all you need to do is to **run the cell below**, and we will show you how to use the functions."
   ]
  },
  {
   "cell_type": "code",
   "execution_count": null,
   "metadata": {},
   "outputs": [],
   "source": [
    "def standard_units(xyz): #ignore this function!\n",
    "    return (xyz - np.mean(xyz))/np.std(xyz) \n",
    "\n",
    "def correlation(table, label_x, label_y):\n",
    "    return np.mean(standard_units(table.column(label_x))*standard_units(table.column(label_y)))\n",
    "\n",
    "# We use these function to construct the regression line. As you can see, correlation is used to \n",
    "# evaluate the slope of the regression line below.\n",
    "\n",
    "def slope(table, label_x, label_y):\n",
    "    r = correlation(table, label_x, label_y) # correlation function used in slope!\n",
    "    return r*np.std(table.column(label_y))/np.std(table.column(label_x))\n",
    "\n",
    "def intercept(table, label_x, label_y):\n",
    "    return np.mean(table.column(label_y)) - slope(table, label_x, label_y)*np.mean(table.column(label_x))"
   ]
  },
  {
   "cell_type": "markdown",
   "metadata": {},
   "source": [
    "Suppose we want to find the equation of the regression line for the variables in the previous section - Race & Disease. We pick the same example again - Hispanic & Cardio Vascular."
   ]
  },
  {
   "cell_type": "code",
   "execution_count": null,
   "metadata": {},
   "outputs": [],
   "source": [
    "slope_of_reg_line = slope(clean_data, \"hispanic\", \"asthma\")\n",
    "slope_of_reg_line\n",
    "\n"
   ]
  },
  {
   "cell_type": "code",
   "execution_count": null,
   "metadata": {},
   "outputs": [],
   "source": [
    "intercept_of_reg_line = intercept(clean_data, \"hispanic\", \"asthma\")\n",
    "intercept_of_reg_line"
   ]
  },
  {
   "cell_type": "markdown",
   "metadata": {},
   "source": [
    "**Question:** Given the slope and intercept above, what would the equation of the regression line of best fit be?\n"
   ]
  },
  {
   "cell_type": "markdown",
   "metadata": {},
   "source": [
    "*YOUR ANSWER HERE*"
   ]
  },
  {
   "cell_type": "markdown",
   "metadata": {},
   "source": [
    "## 3. Coefficient of Determination (R-Squared)<a id='subsection 3'></a>\n",
    "\n",
    "### Coefficient of Determination: How Good is our Predictive Model?\n",
    "\n",
    "We know how to assess the relationship between two variables. This relationship is used to derive the linear regression equation. But what if we want to assess how **effective** our linear regression model is?\n",
    "\n",
    "That is where the **Coefficient of Determination**, also called **r-squared**, comes in. It helps us assess the effectiveness of our predictive model and, more importantly, allows us to **compare** the effectiveness amongst various predictive models.\n",
    "\n",
    "Here is all you need to know about **r-squared**:\n",
    "<div class=\"alert alert-info\">\n",
    "It's a number ranging from <b>0 to 1</b> that tells you how well the model predicts the outcome: 1 is a perfect prediction (if you know the X-value, you definitely know the Y-Value) while 0 is a terrible prediction (you might as well guess!)\n",
    "</div>\n",
    "\n",
    "\n",
    "*Side Note:*\n",
    "It's called **r-squared** because in simple linear regression, the **Coefficient of Determination** is just the **square of the Correlation Coefficient r**. However, when we get to Multiple Regression (where we use *TWO* X variables to predict a Y variable for a total of 3 variables), we can't just rely on the relationship between **two** variables to evaluate the effectiveness of the model because the model can use **three** (or more!) variables. So, using r-squared allows us to compare model performance between any type of regression model!\n",
    "\n",
    "For this lab, you are only responsible for **interpreting** the r-squared value."
   ]
  },
  {
   "cell_type": "markdown",
   "metadata": {},
   "source": [
    "# Part II: Simple Linear Regression  (from lecture)<a id='section linreg'></a>\n",
    "\n",
    "\n",
    "This section should be very familiar to you -- it's our example analysis from lecture! The goal of this lab is for you to use the tools we've shown you to conduct your own analysis of variables of your choice. Our focus is not on calculation but on the **interpretation** of graphs and analysis tools (r and r-squared); while you go through these examples, keep in mind the overarching question: **do environmental factors disproportionately affect the health outcomes of minority groups?**\n",
    "\n",
    "\n",
    "### Pollution Score vs. Asthma<a id='subsection 4'></a>\n",
    "\n",
    "Let's begin by analyzing the relationship between the pollution score of a census tract and the prevalence of asthma. The following graph shows a scatter plot between pollution score and asthma: each dot represents a census tract. At first, we will just look at the relationship (correlation: r) between pollution and asthma. Then we will draw a regression line over it and assess its effectiveness (r-squared). "
   ]
  },
  {
   "cell_type": "code",
   "execution_count": null,
   "metadata": {},
   "outputs": [],
   "source": [
    "print('r: ', correlation(clean_data, 'ces_pollution_score', 'asthma'))\n",
    "clean_data.scatter(\"ces_pollution_score\", \"asthma\", fit_line=True, alpha = .18, s = 10)"
   ]
  },
  {
   "cell_type": "markdown",
   "metadata": {},
   "source": [
    "Using the `correlation` function we defined above, we calculate the correlation coefficient (printed above the graph).\n",
    "\n",
    "**Question:** What does this correlation value tell us about the relationship between pollution score and asthma prevalance?"
   ]
  },
  {
   "cell_type": "markdown",
   "metadata": {},
   "source": [
    "*Your Answer Here*"
   ]
  },
  {
   "cell_type": "code",
   "execution_count": null,
   "metadata": {},
   "outputs": [],
   "source": [
    "print('r-squared: ', correlation(clean_data, 'ces_pollution_score', 'asthma')**2)\n",
    "clean_data.scatter(\"ces_pollution_score\", \"asthma\", fit_line=True, alpha = .18, s = 10)"
   ]
  },
  {
   "cell_type": "markdown",
   "metadata": {},
   "source": [
    "**correlation coefficient:**\n",
    "\n",
    "As we would assume, pollution score is correlated with asthma. But `r = 0.545` isn't a very strong relationship. Why? Think back to the example when `r` is nearly perfect: all the points in the scatter plot were almost in a perfect straight line. Does the above look like a near perfect straight line?\n",
    "\n",
    "No. Even though this plot is clearly exhibiting a positive relationship between the two variables, the scatter plot sprays out: for a given pollution score, there is a pretty wide range of possible asthma occurences. So, while we know that an increase in pollution score tends to increase the number of asthma attacks, we can't predict with much confidence exactly how many attacks there might be. \n",
    "\n",
    "\n",
    "The regression line is drawn over the scatter plot to show the best \"guess\" for asthma prevalence given a particular pollution score."
   ]
  },
  {
   "cell_type": "markdown",
   "metadata": {},
   "source": [
    "\n",
    "**r-squared:**\n",
    "\n",
    "Now looking at the regression line, how can we assess how predictive our model (line) actually is? We turn to `r-squared`, a metric we use to measure how well the prediction line fits in with the scatter plot. \n",
    "\n",
    "Take a look at when the pollution score is equal to 40, for example. The regression line predicts somewhere around 60 asthma incidents, but there have been as many as 200 incidents in several census tracts and as few as 20 in others. In other words, the data is super spread out and not centered around the prediction line. **Knowing the pollution score, therefore, doen't give us very much power to predict Asthma.** This is what the r-squared tells us: it helps us assess the effectiveness of our predictive model.\n",
    "\n",
    "Run the cell below to find the value of r-squared for the above plot."
   ]
  },
  {
   "cell_type": "code",
   "execution_count": null,
   "metadata": {},
   "outputs": [],
   "source": [
    "model = sm.ols(formula='asthma ~ ces_pollution_score', data = clean_data)\n",
    "fit = model.fit()\n",
    "fit.summary()"
   ]
  },
  {
   "cell_type": "code",
   "execution_count": null,
   "metadata": {},
   "outputs": [],
   "source": [
    ".5452*.5452"
   ]
  },
  {
   "cell_type": "markdown",
   "metadata": {},
   "source": [
    "We get that `r-squared = 0.297`. Recall that r-squared, similarly to the correlation coefficient, is a number between 0 and 1, where 1 indicates the model produces a perfect prediction, and 0 indicates that you're just as well off taking a wild guess. Notice also that:\n",
    "\n",
    "$r\\_squared = 0.297 = 0.5452^2 = (correlation\\_coefficient)^2$\n",
    "\n",
    "That's right. In **simple** linear regression, the `r-squared` metric is simply the square of the correlation coefficient! So why use `r-squared` when we already know `r`? Because `r` helps us understand the relationship between two variables, but once we start looking at 3 or more variables at a time we must turn to another metric: the `r-squared`. In fact, `r-squared` is often called the Multiple Correlation Coefficient (the correlation coefficient between multiple variables). It allows us to compare prediction results even if we don't use the same number of variables. We'll come back to this in the last section on Multiple Regression."
   ]
  },
  {
   "cell_type": "markdown",
   "metadata": {},
   "source": [
    "\n",
    "### African American (%) vs. Asthma<a id='subsection 5'></a>"
   ]
  },
  {
   "cell_type": "code",
   "execution_count": null,
   "metadata": {},
   "outputs": [],
   "source": [
    "print('r: ', correlation(clean_data, 'african_american', 'asthma'))\n",
    "clean_data.scatter(\"african_american\", \"asthma\", fit_line=True, alpha = .18, s = 10)"
   ]
  },
  {
   "cell_type": "code",
   "execution_count": null,
   "metadata": {},
   "outputs": [],
   "source": [
    "model = sm.ols(formula='asthma ~ african_american', data = clean_data)\n",
    "fit = model.fit()\n",
    "fit.summary()"
   ]
  },
  {
   "cell_type": "markdown",
   "metadata": {},
   "source": [
    "**Question:**\n",
    "- Interpret your correlation coefficient\n",
    "- Interpret your graph -- do you notice anything interesting?\n",
    "- Interpret the r-squared value"
   ]
  },
  {
   "cell_type": "markdown",
   "metadata": {},
   "source": [
    "*Your Answer Here:*\n",
    "\n",
    "- \n",
    "- \n",
    "- "
   ]
  },
  {
   "cell_type": "markdown",
   "metadata": {},
   "source": [
    "# Your Turn!!<a id='subsection 6'></a>\n",
    "\n",
    "Run the cell below to look at all the possible variables available to you to choose from. From this table, choose **one** Health Outcome variable (this will be your Y variable), **one** Environmental Factor Variable, and **one** Race (%) variable. Conduct Simple Regression Analysis of Health Outcome and each of the other two variables, just as we did in the example above."
   ]
  },
  {
   "cell_type": "code",
   "execution_count": null,
   "metadata": {},
   "outputs": [],
   "source": [
    "clean_data.show(5)"
   ]
  },
  {
   "cell_type": "markdown",
   "metadata": {},
   "source": [
    "### 1. Health Outcome ~ Environmental Factor (Single Regression)"
   ]
  },
  {
   "cell_type": "code",
   "execution_count": null,
   "metadata": {},
   "outputs": [],
   "source": [
    "# Calculate your the correlation coefficient here\n",
    "correlation(..., ..., ...)"
   ]
  },
  {
   "cell_type": "code",
   "execution_count": null,
   "metadata": {},
   "outputs": [],
   "source": [
    "# Plot your scatter plot and regression line here\n",
    "clean_data.scatter(..., ..., fit_line=True, alpha = .18, s = 10)"
   ]
  },
  {
   "cell_type": "code",
   "execution_count": null,
   "metadata": {},
   "outputs": [],
   "source": [
    "# Fill in the ...\n",
    "model = sm.ols(formula='...', data = ...)\n",
    "fit = model.fit()\n",
    "fit.summary()"
   ]
  },
  {
   "cell_type": "markdown",
   "metadata": {},
   "source": [
    "**Question:**\n",
    "- Interpret your correlation coefficient\n",
    "- Interpret your graph -- do you notice anything interesting?\n",
    "- Interpret the r-squared"
   ]
  },
  {
   "cell_type": "markdown",
   "metadata": {},
   "source": [
    "*Your Answer Here:*\n",
    "\n",
    "- \n",
    "- \n",
    "- "
   ]
  },
  {
   "cell_type": "markdown",
   "metadata": {},
   "source": [
    "### 2. Health Outcome ~ % Race (Single Regression)"
   ]
  },
  {
   "cell_type": "code",
   "execution_count": null,
   "metadata": {},
   "outputs": [],
   "source": [
    "# Calculate your the correlation coefficient here\n",
    "..."
   ]
  },
  {
   "cell_type": "code",
   "execution_count": null,
   "metadata": {},
   "outputs": [],
   "source": [
    "# Plot your scatter plot and regression line here\n",
    "..."
   ]
  },
  {
   "cell_type": "code",
   "execution_count": null,
   "metadata": {},
   "outputs": [],
   "source": [
    "# Fill in the ...\n",
    "model = sm.ols(formula='...', data = ...)\n",
    "fit = model.fit()\n",
    "fit.summary()"
   ]
  },
  {
   "cell_type": "markdown",
   "metadata": {},
   "source": [
    "**Question:**\n",
    "- Interpret your correlation coefficient\n",
    "- Interpret your graph -- do you notice anything interesting?\n",
    "- Interpret the r-squared"
   ]
  },
  {
   "cell_type": "markdown",
   "metadata": {},
   "source": [
    "*Your Answer Here:*\n",
    "\n",
    "- \n",
    "- \n",
    "- "
   ]
  },
  {
   "cell_type": "markdown",
   "metadata": {},
   "source": [
    "So you see that linear regression of two variables (X and Y) is really just a line that goes through the scatter plot in a way that gives us the best estimate of what the Y value might be given an X value. If we are told that a Census Tract is made up 100% of Hispanics, looking at the plot above our prediction of frequency of Asthma attacks for that Census tract would be about 75; if we are told that a Census Tract has 0% Hispanics, our prediction would be a little less than 50. This is what the regression line allows us to do -- it allows us to see how one variable (X, i.e. % Hispanic) affects another variable (Y, i.e. number of asthma attacks), what the magnitude of this effect is, and, ultimately, it allows us to make predictions based on what we know about X."
   ]
  },
  {
   "cell_type": "markdown",
   "metadata": {},
   "source": [
    "# Part IV: Multiple Regression!<a id='section multreg'></a>\n",
    "\n",
    "Regression isn't limited to just two variables! We saw above that we predicted a `Y` variable based on just one `X` variable. As the name suggests, **Multiple** regression allows us to use more than one `X` variable to predict an outcome. If you know the age of a patient for example, that alone can help predict health outcomes like whether s/he has cancer: a teenager is less likely to have lung cancer than a 70 year old. But if you had more information on patients, like how many packs of cigarettes s/he smokes a week, you can imagine that our prediction will be more accurate since it is not solely dependent on age.\n",
    "\n",
    "This is the idea behind Multiple Regression. In the last section, we explored how frequency of asthma attacks in census tracts is related to the proportion of Hispanics in the census tract and, separately, the pollution burden score. We saw that the `r-squared` values for both of these relationships were `0.247` and `0.249`, respectively (pretty bad). In this section, we'll explore how the **combination** of these two variables helps to more accurately predict Asthma attacks.\n",
    "\n",
    "- In *single* regression, our regression line was in the form: $Y = slope*X + intercept$\n",
    "\n",
    "- In *multiple* regression, our regression \\*\\*\"line\" is defined very similarly as: $Y = slope1*X_1 + slope2*X_2 + incercept$\n",
    "\n",
    "\\*\\*You'll understand why \"line\" is in quotes when you see the multiple regression plot.\n",
    "\n",
    "The slopes and intercept are calculated very similarly to what you saw before in single regression, but don't worry about the math behind this -- we'll just focus on how to **interpret** the predictive power of multipe regression as well as the 3-dimensional (!!) visualization of the regression plot."
   ]
  },
  {
   "cell_type": "code",
   "execution_count": null,
   "metadata": {
    "scrolled": false
   },
   "outputs": [],
   "source": [
    "#this line makes the plot below interactive!\n",
    "%matplotlib notebook\n",
    "\n",
    "model = sm.ols(formula='asthma ~ african_american + ces_pollution_score', data = clean_data)\n",
    "fit = model.fit()\n",
    "\n",
    "fig = plots.figure(figsize=(10,8))\n",
    "ax = fig.add_subplot(111, projection='3d')\n",
    "\n",
    "x_surf = np.arange(0, 100, 20)                # generate a mesh\n",
    "y_surf = np.arange(0, 100, 20)\n",
    "x_surf, y_surf = np.meshgrid(x_surf, y_surf)\n",
    "\n",
    "exog = pd.core.frame.DataFrame({'african_american': x_surf.ravel(), 'ces_pollution_score': y_surf.ravel()})\n",
    "out = fit.predict(exog = exog)\n",
    "\n",
    "ax.plot_surface(x_surf, y_surf,\n",
    "                out.values.reshape(x_surf.shape),\n",
    "                rstride=1,\n",
    "                cstride=1,\n",
    "                color='None',\n",
    "                alpha = 0.15)\n",
    "\n",
    "ax.scatter(clean_data['african_american'], clean_data['ces_pollution_score'], clean_data['asthma'],\n",
    "           c='blue',\n",
    "           marker='o',\n",
    "           alpha=.15)\n",
    "\n",
    "ax.set_xlabel('african_american')\n",
    "ax.set_ylabel('ces_pollution_score')\n",
    "ax.set_zlabel('asthma')\n",
    "ax.set_title('Effect of Census % African American and Pollution on Asthma Attacks')\n",
    "\n",
    "plots.show()"
   ]
  },
  {
   "cell_type": "code",
   "execution_count": null,
   "metadata": {},
   "outputs": [],
   "source": [
    "fit.summary()"
   ]
  },
  {
   "cell_type": "markdown",
   "metadata": {},
   "source": [
    "What do you notice about the R-Squared for multiple regression?\n",
    "\n",
    "It's a little higher! 0.424 is still not the best, but it's certainly better than ~0.25. We see that the combination of pollution score **and** african american composition predicts the number of asthma attacks better than either of the individual simple regressions.\n",
    "\n",
    "**The Big Picture**\n",
    "\n",
    "Let's think about this for a moment. We saw that pollution score by itself does not predict asthma well; knowing the percent composition of african americans by itself does not predict asthma well. But, our multiple regression analysis shows that the **combination** of pollution and african american composition predicts asthma a lot better: a **higher** pollution score and a **higher** composition of african americans in a census tract tends to result in a **higher** incident of asthma. We might infer, then, that pollution more negatively affects african american communities than white communities, since we don't see this phenomenon at all. Perhaps environmental factors do disproportionately affect African American communities after all.\n",
    "\n",
    "\n",
    "## Your Turn!!\n",
    "\n",
    "Recall that in the previous section on Single Linear Regression, you analyzed the relationship between a ethnicity variable and a health outcome variable, and an environmental factor variable and the same health outcome variable.\n",
    "\n",
    "Using the **same** variables you chose above, interpret now a multiple regression of these variables. No need to code anything here: simply save the column names as variables below in the following format:\n",
    "\n",
    "- $y$: your **health outcome** variable\n",
    "- $x_1$: your **ethnicity** variable\n",
    "- $x_2$: your **environmental factor** variable\n"
   ]
  },
  {
   "cell_type": "code",
   "execution_count": null,
   "metadata": {},
   "outputs": [],
   "source": [
    "# input your previously chosen variables\n",
    "#EXAMPLE\n",
    "y_variable = 'asthma'\n",
    "x1_variable = 'white'\n",
    "x2_variable = 'ces_pollution_score'"
   ]
  },
  {
   "cell_type": "code",
   "execution_count": null,
   "metadata": {},
   "outputs": [],
   "source": [
    "# input your previously chosen variables\n",
    "y_variable = '...'\n",
    "x1_variable = '...'\n",
    "x2_variable = '...'"
   ]
  },
  {
   "cell_type": "markdown",
   "metadata": {},
   "source": [
    "*Now simply run this cell below to see your plot!*"
   ]
  },
  {
   "cell_type": "code",
   "execution_count": null,
   "metadata": {},
   "outputs": [],
   "source": [
    "### DO NOT CHANGE ###\n",
    "%matplotlib notebook\n",
    "\n",
    "eqn = y_variable + ' ~ ' + x1_variable + ' + ' + x2_variable\n",
    "\n",
    "model = sm.ols(formula= eqn, data = clean_data)\n",
    "fit = model.fit()\n",
    "\n",
    "fig = plots.figure(figsize=(10,8))\n",
    "ax = fig.add_subplot(111, projection='3d')\n",
    "\n",
    "x_surf = np.arange(0, 100, 20)                # generate a mesh\n",
    "y_surf = np.arange(0, 100, 20)\n",
    "x_surf, y_surf = np.meshgrid(x_surf, y_surf)\n",
    "\n",
    "exog = pd.core.frame.DataFrame({x1_variable: x_surf.ravel(), x2_variable: y_surf.ravel()})\n",
    "out = fit.predict(exog = exog)\n",
    "\n",
    "ax.plot_surface(x_surf, y_surf,\n",
    "                out.values.reshape(x_surf.shape),\n",
    "                rstride=1,\n",
    "                cstride=1,\n",
    "                color='None',\n",
    "                alpha = 0.15)\n",
    "\n",
    "ax.scatter(clean_data[x1_variable], clean_data[x2_variable], clean_data[y_variable],\n",
    "           c='blue',\n",
    "           marker='o',\n",
    "           alpha=.15)\n",
    "\n",
    "ax.set_xlabel(x1_variable)\n",
    "ax.set_ylabel(x2_variable)\n",
    "ax.set_zlabel(y_variable)\n",
    "ax.set_title('Effect of ' + x1_variable + ' and ' +  x2_variable + ' on ' + y_variable)\n",
    "\n",
    "plots.show()"
   ]
  },
  {
   "cell_type": "code",
   "execution_count": null,
   "metadata": {},
   "outputs": [],
   "source": [
    "correlation(clean_data, 'white', 'asthma')"
   ]
  },
  {
   "cell_type": "code",
   "execution_count": null,
   "metadata": {},
   "outputs": [],
   "source": [
    "# Run this cell to find the R-Squared value for your graph!\n",
    "fit.summary()"
   ]
  },
  {
   "cell_type": "markdown",
   "metadata": {},
   "source": [
    "**Inperpret this graph!** In the Markdown Cell below, answer the following questions:\n",
    "\n",
    "1. What do you see in the graph above? Does it look like a combination of the `x_1` and `x_2` variables helps to predict your `y` variable?\n",
    "2. How does the resulting R-square of this multiple regression plot compare to your the two single regression R-square values you got earlier? \n",
    "3. Does your answer to question 2 support your anwswer to question 1? How so?"
   ]
  },
  {
   "cell_type": "markdown",
   "metadata": {},
   "source": [
    "*YOUR ANSWER:*\n",
    "1. ...\n",
    "2. ...\n",
    "3. ..."
   ]
  },
  {
   "cell_type": "markdown",
   "metadata": {},
   "source": [
    "**Your Take on the Big Picture:**\n",
    "\n",
    "*Your answer here*"
   ]
  },
  {
   "cell_type": "markdown",
   "metadata": {},
   "source": [
    "\n",
    "\n",
    "**CONGRATULATIONS!!** In the past two weeks, you learned the fundamentals of Jupyter Notebook and Python, practiced manipulating tables, explored concepts of statistics like correlation and linear regression, and applied all of the above to study the effect of race and environmental factors on health outcomes. Phew! This concludes the interactive data exploration segment of the course. \n",
    "\n",
    "---\n",
    "\n",
    "## Peer Consulting Office Hours\n",
    "If you had trouble with any content in this notebook or you'd like to know more about data enabled courses at Berkeley, Data Peer Consultants are here to help! You can check for availability of Peer Consultants in the **first floor of Moffitt library** with this detailed [Office Hours schedule](https://data.berkeley.edu/education/peer-consulting).\n",
    "\n",
    "\n",
    "## Feedback Form!\n",
    "We'd love to get your feedback! **Please [take this short survey](https://docs.google.com/forms/d/e/1FAIpQLSeNqihorZpaqKZPEUfGp45llXEqliSK9-mNGf4qJCwb4MapAw/viewform) to help us make module experience better for future courses!**\n",
    "\n",
    "\n",
    "### Bibliography:\n",
    "\n",
    "- [DS Modules](https://github.com/ds-modules)\n",
    "\n",
    "*Notebook developed by: Aarish Irfan and Keiko Kamei*"
   ]
  }
 ],
 "metadata": {
  "kernelspec": {
   "display_name": "Python 3",
   "language": "python",
   "name": "python3"
  },
  "language_info": {
   "codemirror_mode": {
    "name": "ipython",
    "version": 3
   },
   "file_extension": ".py",
   "mimetype": "text/x-python",
   "name": "python",
   "nbconvert_exporter": "python",
   "pygments_lexer": "ipython3",
   "version": "3.6.5"
  }
 },
 "nbformat": 4,
 "nbformat_minor": 2
}
