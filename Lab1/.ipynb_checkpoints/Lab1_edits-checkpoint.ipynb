{
 "cells": [
  {
   "cell_type": "markdown",
   "metadata": {},
   "source": [
    "# [ESPM-163ac]: Lab1 - Introduction to Jupyter\n",
    "\n",
    "*Estimated Time: ~45 minutes*\n",
    "\n",
    "Welcome to your first lab! We will take you step-by-step through some data analysis tools you'll need to analyze the CalEnviroScreen data we discussed in lecture this week. You will learn some coding skills, how to import and manipulate a table, and how to plot some cool graphs to turn numbers into visualizations. Don't worry about memorizing everything contained in this notebook -- we provide a \"cheat sheet\" you can refer to toward the end! These are skills we will build on next lecture and lab to analyze relationships between race, environmental factors and health outcomes -- have this big picture in mind as you go through the lab today. Have fun!\n",
    "\n",
    "## The Jupyter Notebook\n",
    "\n",
    "First of all, note that this page is divided into what are called *cells*. You can navigate cells by clicking on them or by using the up and down arrows. Cells will be highlighted as you navigate them.\n",
    "\n",
    "### Text cells\n",
    "\n",
    "Text cells (like this one) can be edited by double-clicking on them. They're written in a simple format called [Markdown](http://daringfireball.net/projects/markdown/syntax) to add formatting and section headings.  You don't need to learn Markdown, but know the difference between Text Cells and Code Cells."
   ]
  },
  {
   "cell_type": "markdown",
   "metadata": {},
   "source": [
    "### Code cells\n",
    "Other cells contain code in the Python 3 language. Don't worry -- we'll show you everything you need to know to succeed in this part of the class. \n",
    "\n",
    "The fundamental building block of Python code is an **expression**. Cells can contain multiple lines with multiple expressions.  We'll explain what exactly we mean by \"expressions\" in just a moment: first, let's learn how to \"run\" cells."
   ]
  },
  {
   "cell_type": "markdown",
   "metadata": {},
   "source": [
    "### Running cells\n",
    "\n",
    "\"Running a cell\" is equivalent to pressing \"Enter\" on a calculator once you've typed in the expression you want to evaluate: it produces an **output**. When you run a text cell, it outputs clean, organized writing. When you run a code cell, it **computes** all of the expressions you want to evaluate, and can **output** the result of the computation.\n",
    "\n",
    "<p></p>\n",
    "\n",
    "<div class=\"alert alert-info\">\n",
    "To run the code in a code cell, first click on that cell to activate it.  It'll be highlighted with a little green or blue rectangle.  Next, you can either the press <code><b>▶|</b> Run </code> button above or press <b><code>Shift + Return</code></b> or <b><code>Shift + Enter</code></b>. This will run the current cell and select the next one.\n",
    "</div>\n",
    "\n",
    "Text cells are useful for taking notes and keeping your notebook organized, but your data analysis will be done in code cells. We will focus on code cells for the rest of the class.\n",
    "\n",
    "\n"
   ]
  },
  {
   "cell_type": "markdown",
   "metadata": {},
   "source": [
    "### Expressions\n",
    "\n",
    "An expression is a combination of number, variables, operators, and/or other Python elements that the language interprets and acts upon. Expressions act as a set of **instructions** to be followed, with the goal of generating specific outcomes.\n",
    "\n",
    "You can start by thinking of code cells as really smart calculators that computes these expressions. For instance, code cells can evaluate simple arithmetic:"
   ]
  },
  {
   "cell_type": "code",
   "execution_count": 9,
   "metadata": {},
   "outputs": [
    {
     "data": {
      "text/plain": [
       "20"
      ]
     },
     "execution_count": 9,
     "metadata": {},
     "output_type": "execute_result"
    }
   ],
   "source": [
    "#Run me!\n",
    "#This is an expression\n",
    "10 + 10"
   ]
  },
  {
   "cell_type": "code",
   "execution_count": 10,
   "metadata": {},
   "outputs": [
    {
     "data": {
      "text/plain": [
       "4.0"
      ]
     },
     "execution_count": 10,
     "metadata": {},
     "output_type": "execute_result"
    }
   ],
   "source": [
    "#Run me too!\n",
    "#This is another expression\n",
    "(10 + 10) / 5"
   ]
  },
  {
   "cell_type": "markdown",
   "metadata": {},
   "source": [
    "### Variables!\n",
    "\n",
    "But the point of coding is that you can save these outputs and to be used later without computing it again. So, we set **variables** to these values! Just like in your standard algebra class, you can set the letter `x` to be 10. You can set letter `y` to be 5. You can add variables `x` and `y` to get 15."
   ]
  },
  {
   "cell_type": "code",
   "execution_count": 11,
   "metadata": {},
   "outputs": [],
   "source": [
    "#this won't output anything: you're just telling the cell to set x to 10\n",
    "x = 10"
   ]
  },
  {
   "cell_type": "code",
   "execution_count": 12,
   "metadata": {},
   "outputs": [],
   "source": [
    "y = 5"
   ]
  },
  {
   "cell_type": "code",
   "execution_count": 13,
   "metadata": {},
   "outputs": [
    {
     "data": {
      "text/plain": [
       "15"
      ]
     },
     "execution_count": 13,
     "metadata": {},
     "output_type": "execute_result"
    }
   ],
   "source": [
    "#This will output the answer to the addition: you're asking it to compute the number\n",
    "x + y"
   ]
  },
  {
   "cell_type": "markdown",
   "metadata": {},
   "source": [
    "You can then **redefine** variables you'ved used before to hold new values. If you run the following cell, `x` and `y` will now hold different values:"
   ]
  },
  {
   "cell_type": "code",
   "execution_count": 14,
   "metadata": {},
   "outputs": [
    {
     "data": {
      "text/plain": [
       "11"
      ]
     },
     "execution_count": 14,
     "metadata": {},
     "output_type": "execute_result"
    }
   ],
   "source": [
    "#You can put all of the different expressions above into one code cell.\n",
    "#When you run this code cell, everything will be evaluated in order, from top to bottom.\n",
    "x = 3\n",
    "y = 8\n",
    "x+y"
   ]
  },
  {
   "cell_type": "markdown",
   "metadata": {},
   "source": [
    "In algebra class, you were limited to using the letters of the alphabet as variable names. Here, you can use any combination of words **as long as there are no spaces in the names:**"
   ]
  },
  {
   "cell_type": "code",
   "execution_count": 15,
   "metadata": {},
   "outputs": [
    {
     "data": {
      "text/plain": [
       "4"
      ]
     },
     "execution_count": 15,
     "metadata": {},
     "output_type": "execute_result"
    }
   ],
   "source": [
    "test = 4\n",
    "test"
   ]
  },
  {
   "cell_type": "code",
   "execution_count": 16,
   "metadata": {},
   "outputs": [
    {
     "data": {
      "text/plain": [
       "234"
      ]
     },
     "execution_count": 16,
     "metadata": {},
     "output_type": "execute_result"
    }
   ],
   "source": [
    "another_test = 234\n",
    "another_test"
   ]
  },
  {
   "cell_type": "markdown",
   "metadata": {},
   "source": [
    "Variables are assigned to some value. This means everything to the right side of the equals sign is **first evaluated** and **then saved** as the variable:"
   ]
  },
  {
   "cell_type": "code",
   "execution_count": 17,
   "metadata": {},
   "outputs": [
    {
     "data": {
      "text/plain": [
       "12"
      ]
     },
     "execution_count": 17,
     "metadata": {},
     "output_type": "execute_result"
    }
   ],
   "source": [
    "#Notice y is still the same value as before\n",
    "# test + y is evaluated to 12\n",
    "# 12 is set to the varible answer_to_above\n",
    "\n",
    "answer_to_above = test+y\n",
    "answer_to_above"
   ]
  },
  {
   "cell_type": "markdown",
   "metadata": {},
   "source": [
    "**You Try:** What should be the answer to \"2 times `test` plus `answer_to_above`\"? \n",
    "\n",
    "*Hint:* the astrisk symbol \\* is used for the multiplication sign"
   ]
  },
  {
   "cell_type": "code",
   "execution_count": 18,
   "metadata": {},
   "outputs": [],
   "source": [
    "#Calculate your answer in this code block\n"
   ]
  },
  {
   "cell_type": "markdown",
   "metadata": {},
   "source": [
    "Does your answer make sense?"
   ]
  },
  {
   "cell_type": "markdown",
   "metadata": {},
   "source": [
    "### Variables vs. Strings\n",
    "We have to be careful when working with words in a code cell. Words carry different meanings and uses when they are **in quotes** and **not in quotes**.\n",
    "\n",
    "When words are in quotes, they often signify some sort of **identification**. In this lab (and future notebooks), you'll use identification to specify **column names of tables**. In quotes, words have meaning: Python understands these as the name of something. If a table has a column named \"Gender\", we can ask the notebook to find the column named \"Gender\" and the data contained in this column. Thefore, these quotations are **values**, just like numbers. In Python, this value type is called a **string**. "
   ]
  },
  {
   "cell_type": "code",
   "execution_count": 19,
   "metadata": {},
   "outputs": [
    {
     "data": {
      "text/plain": [
       "123"
      ]
     },
     "execution_count": 19,
     "metadata": {},
     "output_type": "execute_result"
    }
   ],
   "source": [
    "#I output a number\n",
    "123"
   ]
  },
  {
   "cell_type": "code",
   "execution_count": 20,
   "metadata": {},
   "outputs": [
    {
     "data": {
      "text/plain": [
       "'Woohoo'"
      ]
     },
     "execution_count": 20,
     "metadata": {},
     "output_type": "execute_result"
    }
   ],
   "source": [
    "#I output a string\n",
    "\"Woohoo\""
   ]
  },
  {
   "cell_type": "markdown",
   "metadata": {},
   "source": [
    "What if we try to a word in a code cell **without** putting it in quotes?"
   ]
  },
  {
   "cell_type": "code",
   "execution_count": 21,
   "metadata": {},
   "outputs": [
    {
     "ename": "NameError",
     "evalue": "name 'Woohoo' is not defined",
     "output_type": "error",
     "traceback": [
      "\u001b[0;31m---------------------------------------------------------------------------\u001b[0m",
      "\u001b[0;31mNameError\u001b[0m                                 Traceback (most recent call last)",
      "\u001b[0;32m<ipython-input-21-ef692140c666>\u001b[0m in \u001b[0;36m<module>\u001b[0;34m\u001b[0m\n\u001b[1;32m      1\u001b[0m \u001b[0;31m#This will Error!\u001b[0m\u001b[0;34m\u001b[0m\u001b[0;34m\u001b[0m\u001b[0;34m\u001b[0m\u001b[0m\n\u001b[0;32m----> 2\u001b[0;31m \u001b[0mWoohoo\u001b[0m\u001b[0;34m\u001b[0m\u001b[0;34m\u001b[0m\u001b[0m\n\u001b[0m",
      "\u001b[0;31mNameError\u001b[0m: name 'Woohoo' is not defined"
     ]
    }
   ],
   "source": [
    "#This will Error!\n",
    "Woohoo"
   ]
  },
  {
   "cell_type": "markdown",
   "metadata": {},
   "source": [
    "It throws out an error! Why? Because code cells think in terms of math, and any word **not** in quotes is considered to be a **variable** that stores information or means something. In this notebook, we haven't told it what `Woohoo` means -- it's just an empty variable holding no information, so it complains and says \"I don't know what `Woohoo` is supposed to be.\" It's like taking an algebra exam and telling your teacher: \"The answer is `x`\". Your teacher would write back, \"...and what, exactly, is `x`?\" That's essentially what the notebook is saying."
   ]
  },
  {
   "cell_type": "markdown",
   "metadata": {},
   "source": [
    "### Defining Functions\n",
    "- what functions are\n",
    "- how to define functions (break down each component)\n",
    "- examples (include docstrings)\n",
    "- how to read docstrings\n",
    "\n",
    "Functions are useful when you want to repeat a series of steps on multiple different objects, but don't want to type out the steps over and over again. Many functions are built into Python already such as the table functions you will see later in this lab. \n",
    "\n",
    "Functions generally take a set of __parameters__ (also called inputs), which define the objects they will use when they are run. For example, take a look at the function defined below. The green \"def\" begins the definition of a function. The blue \"add_two\" is the name of the function which you can use later to repeat the operation and the \"n\" is the parameter/input. The line above the function is called a __doc-string__ and gives an explanation as to what the function is supposed to do."
   ]
  },
  {
   "cell_type": "code",
   "execution_count": 22,
   "metadata": {},
   "outputs": [],
   "source": [
    "# An adder function that adds 2 to the given n. \n",
    "def add_two(n):\n",
    "    return n + 2"
   ]
  },
  {
   "cell_type": "code",
   "execution_count": 23,
   "metadata": {},
   "outputs": [
    {
     "data": {
      "text/plain": [
       "5"
      ]
     },
     "execution_count": 23,
     "metadata": {},
     "output_type": "execute_result"
    }
   ],
   "source": [
    "add_two(3)"
   ]
  },
  {
   "cell_type": "markdown",
   "metadata": {},
   "source": [
    "Now let's look at a function that takes two parameters, compares them somehow, and then returns a boolean value (True or False) depending on the comparison. The is_multiple function below takes as parameters an integer m and an integer n, checks if m is a multiple of n, and returns True if it is. Otherwise, it returns False."
   ]
  },
  {
   "cell_type": "code",
   "execution_count": 24,
   "metadata": {},
   "outputs": [],
   "source": [
    "#A function that takes in two integers, m and n, and returns True if m is a multiple of n. Otherwise returns False.\n",
    "def is_multiple(m, n):\n",
    "    if (m % n == 0):\n",
    "        return True\n",
    "    else:\n",
    "        return False"
   ]
  },
  {
   "cell_type": "code",
   "execution_count": 25,
   "metadata": {},
   "outputs": [
    {
     "data": {
      "text/plain": [
       "True"
      ]
     },
     "execution_count": 25,
     "metadata": {},
     "output_type": "execute_result"
    }
   ],
   "source": [
    "is_multiple(12, 4)"
   ]
  },
  {
   "cell_type": "code",
   "execution_count": 26,
   "metadata": {},
   "outputs": [
    {
     "data": {
      "text/plain": [
       "False"
      ]
     },
     "execution_count": 26,
     "metadata": {},
     "output_type": "execute_result"
    }
   ],
   "source": [
    "is_multiple(12, 7)"
   ]
  },
  {
   "cell_type": "markdown",
   "metadata": {},
   "source": [
    "### Understanding Errors\n",
    "Python is a language, and like natural human languages, it has rules.  It differs from natural language in two important ways:\n",
    "1. The rules are *simple*.  You can learn most of them in a few weeks and gain reasonable proficiency with the language in a semester.\n",
    "2. The rules are *rigid*.  If you're proficient in a natural language, you can understand a non-proficient speaker, glossing over small mistakes.  A computer running Python code is not smart enough to do that.\n",
    "\n",
    "Whenever you write code, you'll make mistakes.  When you run a code cell that has errors, Python will sometimes produce error messages to tell you what you did wrong.\n",
    "\n",
    "Errors are okay; even experienced programmers make many errors.  When you make an error, you just have to find the source of the problem, fix it, and move on.\n",
    "\n",
    "We have made an error in the next cell.  Run it and see what happens."
   ]
  },
  {
   "cell_type": "code",
   "execution_count": 27,
   "metadata": {},
   "outputs": [
    {
     "ename": "SyntaxError",
     "evalue": "EOL while scanning string literal (<ipython-input-27-7833cd56cab4>, line 1)",
     "output_type": "error",
     "traceback": [
      "\u001b[0;36m  File \u001b[0;32m\"<ipython-input-27-7833cd56cab4>\"\u001b[0;36m, line \u001b[0;32m1\u001b[0m\n\u001b[0;31m    \"This line is missing something\u001b[0m\n\u001b[0m                                   ^\u001b[0m\n\u001b[0;31mSyntaxError\u001b[0m\u001b[0;31m:\u001b[0m EOL while scanning string literal\n"
     ]
    }
   ],
   "source": [
    "\"This line is missing something"
   ]
  },
  {
   "cell_type": "markdown",
   "metadata": {},
   "source": [
    "Fix the error below:"
   ]
  },
  {
   "cell_type": "code",
   "execution_count": 28,
   "metadata": {},
   "outputs": [],
   "source": [
    "#Your Answer Here\n"
   ]
  },
  {
   "cell_type": "markdown",
   "metadata": {},
   "source": [
    "# Tables!\n",
    "\n",
    "\n",
    "Now run this cell to import some tools we'll use today. Don't worry about anything printing out -- simply run the cell."
   ]
  },
  {
   "cell_type": "code",
   "execution_count": 1,
   "metadata": {},
   "outputs": [],
   "source": [
    "import numpy as np\n",
    "import matplotlib.pyplot as plt\n",
    "from datascience import *\n",
    "%matplotlib inline \n",
    "plt.style.use(\"fivethirtyeight\")"
   ]
  },
  {
   "cell_type": "markdown",
   "metadata": {},
   "source": [
    "### Importing\n",
    "\n",
    "In data analytics, there is almost always a file holding your data that already exists. There are thousands of databases online that contain information on topics from all domains. In general, to import data from a file, we write:\n",
    "\n",
    "```python\n",
    "Table.read_table(\"file_name\")\n",
    "```\n",
    "\n",
    "Most often, these file names end in `.csv` to show the data format. `.csv` format is popular for spreadsheets and can be imported/exported from programs such as Microsoft Excel, OpenOffice Calc, or Google spreadsheets. \n",
    " \n",
    "An example is shown below using [U.S. Census data](http://www2.census.gov/programs-surveys/popest/datasets/2010-2015/national/asrh/nc-est2015-agesex-res.csv). "
   ]
  },
  {
   "cell_type": "code",
   "execution_count": 2,
   "metadata": {},
   "outputs": [
    {
     "data": {
      "text/html": [
       "<table border=\"1\" class=\"dataframe\">\n",
       "    <thead>\n",
       "        <tr>\n",
       "            <th>Census Tract</th> <th>CES 3.0 Score</th> <th>CES 3.0 Percentile</th> <th>CES 3.0 Percentile Range</th> <th>Total Population</th> <th>California County</th> <th>Children < 10 (%)</th> <th>Pop 11-64 years (%)</th> <th>Elderly > 65 (%)</th> <th>Hispanic (%)</th> <th>White (%)</th> <th>African American (%)</th> <th>Native American (%)</th> <th>Asian American (%)</th> <th>Other (%)</th> <th>ZIP</th> <th>Nearby City \r\n",
       "(to help approximate location only)</th> <th>Longitude</th> <th>Latitude</th> <th> CES 3.0 Percentile</th> <th>CES 3.0 \r\n",
       "Percentile Range</th> <th>SB 535 Disadvantaged Community</th> <th>Ozone</th> <th>Ozone Pctl</th> <th>PM2.5</th> <th>PM2.5 Pctl</th> <th>Diesel PM</th> <th>Diesel PM Pctl</th> <th>Drinking Water</th> <th>Drinking Water Pctl</th> <th>Pesticides</th> <th>Pesticides Pctl</th> <th>Tox. Release</th> <th>Tox. Release Pctl</th> <th>Traffic</th> <th>Traffic Pctl</th> <th>Cleanup Sites</th> <th>Cleanup Sites Pctl</th> <th>Groundwater Threats</th> <th>Groundwater Threats Pctl</th> <th>Haz. Waste</th> <th>Haz. Waste Pctl</th> <th>Imp. Water Bodies</th> <th>Imp. Water Bodies Pctl</th> <th>Solid Waste</th> <th>Solid Waste Pctl</th> <th>Pollution Burden</th> <th>Pollution Burden Score</th> <th>Pollution Burden Pctl</th> <th>Asthma</th> <th>Asthma Pctl</th> <th>Low Birth Weight</th> <th>Low Birth Weight Pctl</th> <th>Cardiovascular Disease</th> <th>Cardiovascular Disease Pctl</th> <th>Education</th> <th>Education Pctl</th> <th>Linguistic Isolation</th> <th>Linguistic Isolation Pctl</th> <th>Poverty</th> <th>Poverty Pctl</th> <th>Unemployment</th> <th>Unemployment Pctl</th> <th>Housing Burden</th> <th>Housing Burden Pctl</th> <th>Pop. Char. </th> <th>Pop. Char. Score</th> <th>Pop. Char. Pctl</th>\n",
       "        </tr>\n",
       "    </thead>\n",
       "    <tbody>\n",
       "        <tr>\n",
       "            <td>6.019e+09   </td> <td>94.09        </td> <td>100               </td> <td>95-100% (highest scores)</td> <td>3174            </td> <td>Fresno           </td> <td>18.8             </td> <td>73.6               </td> <td>7.6             </td> <td>65.3        </td> <td>4.2      </td> <td>24.6                </td> <td>0.5                </td> <td>3.5               </td> <td>1.8      </td> <td>93706</td> <td>Fresno                                           </td> <td>-119.782 </td> <td>36.7097 </td> <td>100                </td> <td>95-100% (highest scores)  </td> <td>Yes                           </td> <td>0.065</td> <td>98.18     </td> <td>15.4 </td> <td>97.22     </td> <td>48.524   </td> <td>95.54         </td> <td>681.2         </td> <td>80.92              </td> <td>2.75      </td> <td>47.82          </td> <td>18552       </td> <td>97.46            </td> <td>909.14 </td> <td>62.98       </td> <td>80.5         </td> <td>98.67             </td> <td>45.75              </td> <td>89.85                   </td> <td>0.795     </td> <td>84.32          </td> <td>0                </td> <td>0                     </td> <td>21.75      </td> <td>97.81           </td> <td>79.96           </td> <td>9.85                  </td> <td>99.95                </td> <td>131.64</td> <td>97.67      </td> <td>7.44            </td> <td>93.84                </td> <td>14.13                 </td> <td>96.31                      </td> <td>53.3     </td> <td>95.76         </td> <td>16.2                </td> <td>77.51                    </td> <td>76.3   </td> <td>97.12       </td> <td>17.6        </td> <td>91.72            </td> <td>26            </td> <td>79.4               </td> <td>92.12      </td> <td>9.55            </td> <td>99.7           </td>\n",
       "        </tr>\n",
       "        <tr>\n",
       "            <td>6.071e+09   </td> <td>90.68        </td> <td>99.99             </td> <td>95-100% (highest scores)</td> <td>6133            </td> <td>San Bernardino   </td> <td>19.7             </td> <td>76.1               </td> <td>4.2             </td> <td>91.1        </td> <td>5.8      </td> <td>0.7                 </td> <td>0.3                </td> <td>1.4               </td> <td>0.7      </td> <td>91761</td> <td>Ontario                                          </td> <td>-117.618 </td> <td>34.0578 </td> <td>99.99              </td> <td>95-100% (highest scores)  </td> <td>Yes                           </td> <td>0.062</td> <td>91.1      </td> <td>13.31</td> <td>93.64     </td> <td>38.556   </td> <td>92.12         </td> <td>904.66        </td> <td>96.11              </td> <td>1.37      </td> <td>41.34          </td> <td>7494.24     </td> <td>89.05            </td> <td>782.26 </td> <td>55.66       </td> <td>66.2         </td> <td>97.68             </td> <td>36                 </td> <td>85.57                   </td> <td>1.25      </td> <td>88.77          </td> <td>5                </td> <td>55.01                 </td> <td>12         </td> <td>92.17           </td> <td>81.19           </td> <td>10                    </td> <td>100                  </td> <td>60.66 </td> <td>69.78      </td> <td>7.04            </td> <td>90.85                </td> <td>12.94                 </td> <td>92.66                      </td> <td>53.3     </td> <td>95.76         </td> <td>33.4                </td> <td>96.25                    </td> <td>72.5   </td> <td>94.63       </td> <td>12.3        </td> <td>71.82            </td> <td>34.1          </td> <td>93.75              </td> <td>87.44      </td> <td>9.07            </td> <td>98.11          </td>\n",
       "        </tr>\n",
       "        <tr>\n",
       "            <td>6.019e+09   </td> <td>85.97        </td> <td>99.97             </td> <td>95-100% (highest scores)</td> <td>3167            </td> <td>Fresno           </td> <td>21.5             </td> <td>72.5               </td> <td>6               </td> <td>63.6        </td> <td>5.3      </td> <td>18.9                </td> <td>0.6                </td> <td>9.8               </td> <td>1.8      </td> <td>93706</td> <td>Fresno                                           </td> <td>-119.806 </td> <td>36.7355 </td> <td>99.97              </td> <td>95-100% (highest scores)  </td> <td>Yes                           </td> <td>0.062</td> <td>91.1      </td> <td>15.4 </td> <td>97.22     </td> <td>47.445   </td> <td>95.42         </td> <td>681.2         </td> <td>80.92              </td> <td>3.03      </td> <td>48.75          </td> <td>12454.9     </td> <td>95.42            </td> <td>576.52 </td> <td>39          </td> <td>22           </td> <td>85.13             </td> <td>30.25              </td> <td>81.93                   </td> <td>0.2       </td> <td>60.5           </td> <td>0                </td> <td>0                     </td> <td>2.5        </td> <td>57.18           </td> <td>71.16           </td> <td>8.76                  </td> <td>99                   </td> <td>142.12</td> <td>98.33      </td> <td>10.16           </td> <td>99.78                </td> <td>14.96                 </td> <td>97.67                      </td> <td>42.3     </td> <td>89.06         </td> <td>16.7                </td> <td>78.39                    </td> <td>86.8   </td> <td>99.56       </td> <td>16.1        </td> <td>87.98            </td> <td>40.1          </td> <td>97.85              </td> <td>94.58      </td> <td>9.81            </td> <td>99.99          </td>\n",
       "        </tr>\n",
       "        <tr>\n",
       "            <td>6.077e+09   </td> <td>82.49        </td> <td>99.96             </td> <td>95-100% (highest scores)</td> <td>6692            </td> <td>San Joaquin      </td> <td>18.7             </td> <td>74.5               </td> <td>6.8             </td> <td>57.4        </td> <td>6        </td> <td>12.5                </td> <td>0.3                </td> <td>20.9              </td> <td>2.8      </td> <td>95203</td> <td>Stockton                                         </td> <td>-121.315 </td> <td>37.9405 </td> <td>99.96              </td> <td>95-100% (highest scores)  </td> <td>Yes                           </td> <td>0.046</td> <td>53.02     </td> <td>12.54</td> <td>84.02     </td> <td>24.117   </td> <td>73.52         </td> <td>278.76        </td> <td>29.11              </td> <td>12.93     </td> <td>60.56          </td> <td>2387.78     </td> <td>69.97            </td> <td>1305.01</td> <td>78.29       </td> <td>50.1         </td> <td>96.1              </td> <td>132.1              </td> <td>98.41                   </td> <td>0.795     </td> <td>84.32          </td> <td>19               </td> <td>98.63                 </td> <td>27         </td> <td>99.1            </td> <td>74.48           </td> <td>9.17                  </td> <td>99.59                </td> <td>142.17</td> <td>98.34      </td> <td>6.23            </td> <td>80.65                </td> <td>14.72                 </td> <td>97.17                      </td> <td>40.8     </td> <td>87.52         </td> <td>15.3                </td> <td>75.14                    </td> <td>61.3   </td> <td>85.57       </td> <td>19.6        </td> <td>94.97            </td> <td>21.1          </td> <td>63.54              </td> <td>86.7       </td> <td>8.99            </td> <td>97.72          </td>\n",
       "        </tr>\n",
       "        <tr>\n",
       "            <td>6.019e+09   </td> <td>82.03        </td> <td>99.95             </td> <td>95-100% (highest scores)</td> <td>2206            </td> <td>Fresno           </td> <td>14.8             </td> <td>72.1               </td> <td>13.1            </td> <td>71.8        </td> <td>21.4     </td> <td>1.2                 </td> <td>0.5                </td> <td>4.5               </td> <td>0.6      </td> <td>93725</td> <td>Fresno                                           </td> <td>-119.718 </td> <td>36.6816 </td> <td>99.95              </td> <td>95-100% (highest scores)  </td> <td>Yes                           </td> <td>0.065</td> <td>98.18     </td> <td>15.4 </td> <td>97.22     </td> <td>18.846   </td> <td>58.22         </td> <td>1000.24       </td> <td>98.64              </td> <td>3518.41   </td> <td>95.15          </td> <td>21790.7     </td> <td>98.15            </td> <td>435.16 </td> <td>24.3        </td> <td>60           </td> <td>97.15             </td> <td>54.2               </td> <td>92.09                   </td> <td>13.1      </td> <td>99.7           </td> <td>0                </td> <td>0                     </td> <td>50.8       </td> <td>99.91           </td> <td>80.2            </td> <td>9.88                  </td> <td>99.99                </td> <td>90.48 </td> <td>89.54      </td> <td>4.5             </td> <td>38.92                </td> <td>12.82                 </td> <td>92.36                      </td> <td>45.1     </td> <td>91.13         </td> <td>14.7                </td> <td>73.72                    </td> <td>66.4   </td> <td>90.23       </td> <td>18.6        </td> <td>93.65            </td> <td>28.1          </td> <td>83.98              </td> <td>80.08      </td> <td>8.3             </td> <td>92.76          </td>\n",
       "        </tr>\n",
       "        <tr>\n",
       "            <td>6.0372e+09  </td> <td>80.73        </td> <td>99.94             </td> <td>95-100% (highest scores)</td> <td>2598            </td> <td>Los Angeles      </td> <td>15.3             </td> <td>74.5               </td> <td>10.2            </td> <td>98.1        </td> <td>1.2      </td> <td>0.1                 </td> <td>0.1                </td> <td>0.2               </td> <td>0.3      </td> <td>90023</td> <td>Los Angeles                                      </td> <td>-118.197 </td> <td>34.0175 </td> <td>99.94              </td> <td>95-100% (highest scores)  </td> <td>Yes                           </td> <td>0.046</td> <td>53.02     </td> <td>12.89</td> <td>92.89     </td> <td>56.52    </td> <td>96.98         </td> <td>714.48        </td> <td>83.49              </td> <td>0         </td> <td>0              </td> <td>39040.2     </td> <td>99.3             </td> <td>2943.44</td> <td>97.19       </td> <td>36.7         </td> <td>93.14             </td> <td>25                 </td> <td>77.29                   </td> <td>4.93      </td> <td>96.31          </td> <td>7                </td> <td>71.61                 </td> <td>3.85       </td> <td>65.67           </td> <td>76.73           </td> <td>9.45                  </td> <td>99.88                </td> <td>68.74 </td> <td>77.63      </td> <td>7.35            </td> <td>93.21                </td> <td>10.4                  </td> <td>77.62                      </td> <td>53.1     </td> <td>95.67         </td> <td>23.7                </td> <td>89.15                    </td> <td>66.4   </td> <td>90.23       </td> <td>11.6        </td> <td>67.42            </td> <td>22            </td> <td>67.03              </td> <td>82.36      </td> <td>8.54            </td> <td>94.89          </td>\n",
       "        </tr>\n",
       "        <tr>\n",
       "            <td>6.077e+09   </td> <td>80.18        </td> <td>99.92             </td> <td>95-100% (highest scores)</td> <td>2396            </td> <td>San Joaquin      </td> <td>16.7             </td> <td>69.8               </td> <td>13.5            </td> <td>51.8        </td> <td>16.4     </td> <td>16.4                </td> <td>1.3                </td> <td>9.9               </td> <td>4.1      </td> <td>95203</td> <td>Stockton                                         </td> <td>-121.302 </td> <td>37.9524 </td> <td>99.92              </td> <td>95-100% (highest scores)  </td> <td>Yes                           </td> <td>0.046</td> <td>53.02     </td> <td>13.44</td> <td>94        </td> <td>21.76    </td> <td>66.48         </td> <td>278.76        </td> <td>29.11              </td> <td>172.49    </td> <td>79.19          </td> <td>707.536     </td> <td>56.11            </td> <td>885.52 </td> <td>61.94       </td> <td>89.7         </td> <td>98.89             </td> <td>149.05             </td> <td>98.74                   </td> <td>0.135     </td> <td>50.68          </td> <td>14               </td> <td>94.41                 </td> <td>2.3        </td> <td>52.98           </td> <td>68.27           </td> <td>8.41                  </td> <td>98.07                </td> <td>169.56</td> <td>99.36      </td> <td>8.36            </td> <td>97.86                </td> <td>12.7                  </td> <td>91.68                      </td> <td>46       </td> <td>91.72         </td> <td>27.1                </td> <td>92.4                     </td> <td>76.2   </td> <td>97.03       </td> <td>14.4        </td> <td>82               </td> <td>24.3          </td> <td>74.73              </td> <td>91.94      </td> <td>9.53            </td> <td>99.65          </td>\n",
       "        </tr>\n",
       "        <tr>\n",
       "            <td>6.019e+09   </td> <td>80.13        </td> <td>99.91             </td> <td>95-100% (highest scores)</td> <td>4106            </td> <td>Fresno           </td> <td>21               </td> <td>71.3               </td> <td>7.7             </td> <td>52.7        </td> <td>2.7      </td> <td>28.7                </td> <td>0.4                </td> <td>14.3              </td> <td>1.2      </td> <td>93706</td> <td>Fresno                                           </td> <td>-119.804 </td> <td>36.6978 </td> <td>99.91              </td> <td>95-100% (highest scores)  </td> <td>Yes                           </td> <td>0.065</td> <td>98.18     </td> <td>15.4 </td> <td>97.22     </td> <td>20.848   </td> <td>64.14         </td> <td>788.02        </td> <td>89.12              </td> <td>1435.93   </td> <td>90.89          </td> <td>6996.96     </td> <td>88.06            </td> <td>243.54 </td> <td>7.97        </td> <td>15.45        </td> <td>77.6              </td> <td>20                 </td> <td>71.07                   </td> <td>0         </td> <td>0              </td> <td>0                </td> <td>0                     </td> <td>10         </td> <td>89.46           </td> <td>66.88           </td> <td>8.24                  </td> <td>97.35                </td> <td>142.28</td> <td>98.42      </td> <td>7.83            </td> <td>95.91                </td> <td>14.96                 </td> <td>97.67                      </td> <td>47.4     </td> <td>92.58         </td> <td>15.8                </td> <td>76.58                    </td> <td>74.5   </td> <td>95.9        </td> <td>20          </td> <td>95.49            </td> <td>31.8          </td> <td>90.72              </td> <td>93.79      </td> <td>9.73            </td> <td>99.91          </td>\n",
       "        </tr>\n",
       "        <tr>\n",
       "            <td>6.03721e+09 </td> <td>79.03        </td> <td>99.9              </td> <td>95-100% (highest scores)</td> <td>2146            </td> <td>Los Angeles      </td> <td>12.4             </td> <td>63.2               </td> <td>24.4            </td> <td>79.3        </td> <td>8.9      </td> <td>4.1                 </td> <td>0.1                </td> <td>7.2               </td> <td>0.5      </td> <td>90023</td> <td>Los Angeles                                      </td> <td>-118.224 </td> <td>34.0299 </td> <td>99.9               </td> <td>95-100% (highest scores)  </td> <td>Yes                           </td> <td>0.046</td> <td>53.02     </td> <td>12.89</td> <td>92.89     </td> <td>53.958   </td> <td>96.42         </td> <td>664.07        </td> <td>78.57              </td> <td>0         </td> <td>0              </td> <td>10378.2     </td> <td>94.06            </td> <td>2810.82</td> <td>96.63       </td> <td>36.05        </td> <td>92.96             </td> <td>16.25              </td> <td>63.8                    </td> <td>10.025    </td> <td>99.13          </td> <td>7                </td> <td>71.61                 </td> <td>22.1       </td> <td>98.02           </td> <td>77.09           </td> <td>9.5                   </td> <td>99.9                 </td> <td>58.03 </td> <td>66.53      </td> <td>6.71            </td> <td>87.5                 </td> <td>7.24                  </td> <td>40.56                      </td> <td>50.4     </td> <td>94.36         </td> <td>35.7                </td> <td>97.12                    </td> <td>75.7   </td> <td>96.64       </td> <td>28.5        </td> <td>99.51            </td> <td>31.7          </td> <td>90.56              </td> <td>80.25      </td> <td>8.32            </td> <td>92.96          </td>\n",
       "        </tr>\n",
       "        <tr>\n",
       "            <td>6.019e+09   </td> <td>78.53        </td> <td>99.89             </td> <td>95-100% (highest scores)</td> <td>6343            </td> <td>Fresno           </td> <td>18.3             </td> <td>75.8               </td> <td>5.9             </td> <td>78          </td> <td>9.1      </td> <td>5.8                 </td> <td>0.8                </td> <td>5.3               </td> <td>0.9      </td> <td>93721</td> <td>Fresno                                           </td> <td>-119.776 </td> <td>36.7277 </td> <td>99.89              </td> <td>95-100% (highest scores)  </td> <td>Yes                           </td> <td>0.065</td> <td>98.18     </td> <td>15.4 </td> <td>97.22     </td> <td>54.356   </td> <td>96.74         </td> <td>681.2         </td> <td>80.92              </td> <td>114.96    </td> <td>76.84          </td> <td>125384      </td> <td>99.93            </td> <td>815.36 </td> <td>57.96       </td> <td>15.95        </td> <td>78.24             </td> <td>13.5               </td> <td>57.6                    </td> <td>0.755     </td> <td>83.84          </td> <td>0                </td> <td>0                     </td> <td>0.5        </td> <td>20.49           </td> <td>73.89           </td> <td>9.1                   </td> <td>99.48                </td> <td>107.8 </td> <td>94.23      </td> <td>4.79            </td> <td>46.47                </td> <td>14.75                 </td> <td>97.26                      </td> <td>52.5     </td> <td>95.32         </td> <td>13.7                </td> <td>71.35                    </td> <td>83.4   </td> <td>99.08       </td> <td>23.5        </td> <td>98.27            </td> <td>23.2          </td> <td>71.34              </td> <td>83.2       </td> <td>8.63            </td> <td>95.71          </td>\n",
       "        </tr>\n",
       "    </tbody>\n",
       "</table>\n",
       "<p>... (8025 rows omitted)</p>"
      ],
      "text/plain": [
       "Census Tract | CES 3.0 Score | CES 3.0 Percentile | CES 3.0 Percentile Range | Total Population | California County | Children < 10 (%) | Pop 11-64 years (%) | Elderly > 65 (%) | Hispanic (%) | White (%) | African American (%) | Native American (%) | Asian American (%) | Other (%) | ZIP   | Nearby City \n",
       "(to help approximate location only) | Longitude | Latitude |  CES 3.0 Percentile | CES 3.0 \n",
       "Percentile Range | SB 535 Disadvantaged Community | Ozone | Ozone Pctl | PM2.5 | PM2.5 Pctl | Diesel PM | Diesel PM Pctl | Drinking Water | Drinking Water Pctl | Pesticides | Pesticides Pctl | Tox. Release | Tox. Release Pctl | Traffic | Traffic Pctl | Cleanup Sites | Cleanup Sites Pctl | Groundwater Threats | Groundwater Threats Pctl | Haz. Waste | Haz. Waste Pctl | Imp. Water Bodies | Imp. Water Bodies Pctl | Solid Waste | Solid Waste Pctl | Pollution Burden | Pollution Burden Score | Pollution Burden Pctl | Asthma | Asthma Pctl | Low Birth Weight | Low Birth Weight Pctl | Cardiovascular Disease | Cardiovascular Disease Pctl | Education | Education Pctl | Linguistic Isolation | Linguistic Isolation Pctl | Poverty | Poverty Pctl | Unemployment | Unemployment Pctl | Housing Burden | Housing Burden Pctl | Pop. Char.  | Pop. Char. Score | Pop. Char. Pctl\n",
       "6.019e+09    | 94.09         | 100                | 95-100% (highest scores) | 3174             | Fresno            | 18.8              | 73.6                | 7.6              | 65.3         | 4.2       | 24.6                 | 0.5                 | 3.5                | 1.8       | 93706 | Fresno                                            | -119.782  | 36.7097  | 100                 | 95-100% (highest scores)   | Yes                            | 0.065 | 98.18      | 15.4  | 97.22      | 48.524    | 95.54          | 681.2          | 80.92               | 2.75       | 47.82           | 18552        | 97.46             | 909.14  | 62.98        | 80.5          | 98.67              | 45.75               | 89.85                    | 0.795      | 84.32           | 0                 | 0                      | 21.75       | 97.81            | 79.96            | 9.85                   | 99.95                 | 131.64 | 97.67       | 7.44             | 93.84                 | 14.13                  | 96.31                       | 53.3      | 95.76          | 16.2                 | 77.51                     | 76.3    | 97.12        | 17.6         | 91.72             | 26             | 79.4                | 92.12       | 9.55             | 99.7\n",
       "6.071e+09    | 90.68         | 99.99              | 95-100% (highest scores) | 6133             | San Bernardino    | 19.7              | 76.1                | 4.2              | 91.1         | 5.8       | 0.7                  | 0.3                 | 1.4                | 0.7       | 91761 | Ontario                                           | -117.618  | 34.0578  | 99.99               | 95-100% (highest scores)   | Yes                            | 0.062 | 91.1       | 13.31 | 93.64      | 38.556    | 92.12          | 904.66         | 96.11               | 1.37       | 41.34           | 7494.24      | 89.05             | 782.26  | 55.66        | 66.2          | 97.68              | 36                  | 85.57                    | 1.25       | 88.77           | 5                 | 55.01                  | 12          | 92.17            | 81.19            | 10                     | 100                   | 60.66  | 69.78       | 7.04             | 90.85                 | 12.94                  | 92.66                       | 53.3      | 95.76          | 33.4                 | 96.25                     | 72.5    | 94.63        | 12.3         | 71.82             | 34.1           | 93.75               | 87.44       | 9.07             | 98.11\n",
       "6.019e+09    | 85.97         | 99.97              | 95-100% (highest scores) | 3167             | Fresno            | 21.5              | 72.5                | 6                | 63.6         | 5.3       | 18.9                 | 0.6                 | 9.8                | 1.8       | 93706 | Fresno                                            | -119.806  | 36.7355  | 99.97               | 95-100% (highest scores)   | Yes                            | 0.062 | 91.1       | 15.4  | 97.22      | 47.445    | 95.42          | 681.2          | 80.92               | 3.03       | 48.75           | 12454.9      | 95.42             | 576.52  | 39           | 22            | 85.13              | 30.25               | 81.93                    | 0.2        | 60.5            | 0                 | 0                      | 2.5         | 57.18            | 71.16            | 8.76                   | 99                    | 142.12 | 98.33       | 10.16            | 99.78                 | 14.96                  | 97.67                       | 42.3      | 89.06          | 16.7                 | 78.39                     | 86.8    | 99.56        | 16.1         | 87.98             | 40.1           | 97.85               | 94.58       | 9.81             | 99.99\n",
       "6.077e+09    | 82.49         | 99.96              | 95-100% (highest scores) | 6692             | San Joaquin       | 18.7              | 74.5                | 6.8              | 57.4         | 6         | 12.5                 | 0.3                 | 20.9               | 2.8       | 95203 | Stockton                                          | -121.315  | 37.9405  | 99.96               | 95-100% (highest scores)   | Yes                            | 0.046 | 53.02      | 12.54 | 84.02      | 24.117    | 73.52          | 278.76         | 29.11               | 12.93      | 60.56           | 2387.78      | 69.97             | 1305.01 | 78.29        | 50.1          | 96.1               | 132.1               | 98.41                    | 0.795      | 84.32           | 19                | 98.63                  | 27          | 99.1             | 74.48            | 9.17                   | 99.59                 | 142.17 | 98.34       | 6.23             | 80.65                 | 14.72                  | 97.17                       | 40.8      | 87.52          | 15.3                 | 75.14                     | 61.3    | 85.57        | 19.6         | 94.97             | 21.1           | 63.54               | 86.7        | 8.99             | 97.72\n",
       "6.019e+09    | 82.03         | 99.95              | 95-100% (highest scores) | 2206             | Fresno            | 14.8              | 72.1                | 13.1             | 71.8         | 21.4      | 1.2                  | 0.5                 | 4.5                | 0.6       | 93725 | Fresno                                            | -119.718  | 36.6816  | 99.95               | 95-100% (highest scores)   | Yes                            | 0.065 | 98.18      | 15.4  | 97.22      | 18.846    | 58.22          | 1000.24        | 98.64               | 3518.41    | 95.15           | 21790.7      | 98.15             | 435.16  | 24.3         | 60            | 97.15              | 54.2                | 92.09                    | 13.1       | 99.7            | 0                 | 0                      | 50.8        | 99.91            | 80.2             | 9.88                   | 99.99                 | 90.48  | 89.54       | 4.5              | 38.92                 | 12.82                  | 92.36                       | 45.1      | 91.13          | 14.7                 | 73.72                     | 66.4    | 90.23        | 18.6         | 93.65             | 28.1           | 83.98               | 80.08       | 8.3              | 92.76\n",
       "6.0372e+09   | 80.73         | 99.94              | 95-100% (highest scores) | 2598             | Los Angeles       | 15.3              | 74.5                | 10.2             | 98.1         | 1.2       | 0.1                  | 0.1                 | 0.2                | 0.3       | 90023 | Los Angeles                                       | -118.197  | 34.0175  | 99.94               | 95-100% (highest scores)   | Yes                            | 0.046 | 53.02      | 12.89 | 92.89      | 56.52     | 96.98          | 714.48         | 83.49               | 0          | 0               | 39040.2      | 99.3              | 2943.44 | 97.19        | 36.7          | 93.14              | 25                  | 77.29                    | 4.93       | 96.31           | 7                 | 71.61                  | 3.85        | 65.67            | 76.73            | 9.45                   | 99.88                 | 68.74  | 77.63       | 7.35             | 93.21                 | 10.4                   | 77.62                       | 53.1      | 95.67          | 23.7                 | 89.15                     | 66.4    | 90.23        | 11.6         | 67.42             | 22             | 67.03               | 82.36       | 8.54             | 94.89\n",
       "6.077e+09    | 80.18         | 99.92              | 95-100% (highest scores) | 2396             | San Joaquin       | 16.7              | 69.8                | 13.5             | 51.8         | 16.4      | 16.4                 | 1.3                 | 9.9                | 4.1       | 95203 | Stockton                                          | -121.302  | 37.9524  | 99.92               | 95-100% (highest scores)   | Yes                            | 0.046 | 53.02      | 13.44 | 94         | 21.76     | 66.48          | 278.76         | 29.11               | 172.49     | 79.19           | 707.536      | 56.11             | 885.52  | 61.94        | 89.7          | 98.89              | 149.05              | 98.74                    | 0.135      | 50.68           | 14                | 94.41                  | 2.3         | 52.98            | 68.27            | 8.41                   | 98.07                 | 169.56 | 99.36       | 8.36             | 97.86                 | 12.7                   | 91.68                       | 46        | 91.72          | 27.1                 | 92.4                      | 76.2    | 97.03        | 14.4         | 82                | 24.3           | 74.73               | 91.94       | 9.53             | 99.65\n",
       "6.019e+09    | 80.13         | 99.91              | 95-100% (highest scores) | 4106             | Fresno            | 21                | 71.3                | 7.7              | 52.7         | 2.7       | 28.7                 | 0.4                 | 14.3               | 1.2       | 93706 | Fresno                                            | -119.804  | 36.6978  | 99.91               | 95-100% (highest scores)   | Yes                            | 0.065 | 98.18      | 15.4  | 97.22      | 20.848    | 64.14          | 788.02         | 89.12               | 1435.93    | 90.89           | 6996.96      | 88.06             | 243.54  | 7.97         | 15.45         | 77.6               | 20                  | 71.07                    | 0          | 0               | 0                 | 0                      | 10          | 89.46            | 66.88            | 8.24                   | 97.35                 | 142.28 | 98.42       | 7.83             | 95.91                 | 14.96                  | 97.67                       | 47.4      | 92.58          | 15.8                 | 76.58                     | 74.5    | 95.9         | 20           | 95.49             | 31.8           | 90.72               | 93.79       | 9.73             | 99.91\n",
       "6.03721e+09  | 79.03         | 99.9               | 95-100% (highest scores) | 2146             | Los Angeles       | 12.4              | 63.2                | 24.4             | 79.3         | 8.9       | 4.1                  | 0.1                 | 7.2                | 0.5       | 90023 | Los Angeles                                       | -118.224  | 34.0299  | 99.9                | 95-100% (highest scores)   | Yes                            | 0.046 | 53.02      | 12.89 | 92.89      | 53.958    | 96.42          | 664.07         | 78.57               | 0          | 0               | 10378.2      | 94.06             | 2810.82 | 96.63        | 36.05         | 92.96              | 16.25               | 63.8                     | 10.025     | 99.13           | 7                 | 71.61                  | 22.1        | 98.02            | 77.09            | 9.5                    | 99.9                  | 58.03  | 66.53       | 6.71             | 87.5                  | 7.24                   | 40.56                       | 50.4      | 94.36          | 35.7                 | 97.12                     | 75.7    | 96.64        | 28.5         | 99.51             | 31.7           | 90.56               | 80.25       | 8.32             | 92.96\n",
       "6.019e+09    | 78.53         | 99.89              | 95-100% (highest scores) | 6343             | Fresno            | 18.3              | 75.8                | 5.9              | 78           | 9.1       | 5.8                  | 0.8                 | 5.3                | 0.9       | 93721 | Fresno                                            | -119.776  | 36.7277  | 99.89               | 95-100% (highest scores)   | Yes                            | 0.065 | 98.18      | 15.4  | 97.22      | 54.356    | 96.74          | 681.2          | 80.92               | 114.96     | 76.84           | 125384       | 99.93             | 815.36  | 57.96        | 15.95         | 78.24              | 13.5                | 57.6                     | 0.755      | 83.84           | 0                 | 0                      | 0.5         | 20.49            | 73.89            | 9.1                    | 99.48                 | 107.8  | 94.23       | 4.79             | 46.47                 | 14.75                  | 97.26                       | 52.5      | 95.32          | 13.7                 | 71.35                     | 83.4    | 99.08        | 23.5         | 98.27             | 23.2           | 71.34               | 83.2        | 8.63             | 95.71\n",
       "... (8025 rows omitted)"
      ]
     },
     "execution_count": 2,
     "metadata": {},
     "output_type": "execute_result"
    }
   ],
   "source": [
    "Table.read_table(\"../data/ces_data.csv\")"
   ]
  },
  {
   "cell_type": "markdown",
   "metadata": {},
   "source": [
    "That's a lot of information. As you can see from the labels on top, this table shows location, environmental and health factors, as well as population and demographic information."
   ]
  },
  {
   "cell_type": "markdown",
   "metadata": {},
   "source": [
    "### Using Tables\n",
    "\n",
    "We can make criteria to cut down tables. Accessing only the rows, columns, or values specfic to our purpose makes information easier understood. Analysis and conclusions can be made when data is more digestible. \n",
    "\n",
    "We need to access the [CalEnviroScreen data](https://oehha.ca.gov/calenviroscreen/report/calenviroscreen-30) above and name it for further use. We assign the table to a **variable** we call `ces_data` so that we can reference it later!"
   ]
  },
  {
   "cell_type": "code",
   "execution_count": 7,
   "metadata": {},
   "outputs": [
    {
     "data": {
      "text/html": [
       "<table border=\"1\" class=\"dataframe\">\n",
       "    <thead>\n",
       "        <tr>\n",
       "            <th>Census Tract</th> <th>CES 3.0 Score</th> <th>CES 3.0 Percentile</th> <th>CES 3.0 Percentile Range</th> <th>Total Population</th> <th>California County</th> <th>Children < 10 (%)</th> <th>Pop 11-64 years (%)</th> <th>Elderly > 65 (%)</th> <th>Hispanic (%)</th> <th>White (%)</th> <th>African American (%)</th> <th>Native American (%)</th> <th>Asian American (%)</th> <th>Other (%)</th> <th>ZIP</th> <th>Nearby City \r\n",
       "(to help approximate location only)</th> <th>Longitude</th> <th>Latitude</th> <th> CES 3.0 Percentile</th> <th>CES 3.0 \r\n",
       "Percentile Range</th> <th>SB 535 Disadvantaged Community</th> <th>Ozone</th> <th>Ozone Pctl</th> <th>PM2.5</th> <th>PM2.5 Pctl</th> <th>Diesel PM</th> <th>Diesel PM Pctl</th> <th>Drinking Water</th> <th>Drinking Water Pctl</th> <th>Pesticides</th> <th>Pesticides Pctl</th> <th>Tox. Release</th> <th>Tox. Release Pctl</th> <th>Traffic</th> <th>Traffic Pctl</th> <th>Cleanup Sites</th> <th>Cleanup Sites Pctl</th> <th>Groundwater Threats</th> <th>Groundwater Threats Pctl</th> <th>Haz. Waste</th> <th>Haz. Waste Pctl</th> <th>Imp. Water Bodies</th> <th>Imp. Water Bodies Pctl</th> <th>Solid Waste</th> <th>Solid Waste Pctl</th> <th>Pollution Burden</th> <th>Pollution Burden Score</th> <th>Pollution Burden Pctl</th> <th>Asthma</th> <th>Asthma Pctl</th> <th>Low Birth Weight</th> <th>Low Birth Weight Pctl</th> <th>Cardiovascular Disease</th> <th>Cardiovascular Disease Pctl</th> <th>Education</th> <th>Education Pctl</th> <th>Linguistic Isolation</th> <th>Linguistic Isolation Pctl</th> <th>Poverty</th> <th>Poverty Pctl</th> <th>Unemployment</th> <th>Unemployment Pctl</th> <th>Housing Burden</th> <th>Housing Burden Pctl</th> <th>Pop. Char. </th> <th>Pop. Char. Score</th> <th>Pop. Char. Pctl</th>\n",
       "        </tr>\n",
       "    </thead>\n",
       "    <tbody>\n",
       "        <tr>\n",
       "            <td>6.019e+09   </td> <td>94.09        </td> <td>100               </td> <td>95-100% (highest scores)</td> <td>3174            </td> <td>Fresno           </td> <td>18.8             </td> <td>73.6               </td> <td>7.6             </td> <td>65.3        </td> <td>4.2      </td> <td>24.6                </td> <td>0.5                </td> <td>3.5               </td> <td>1.8      </td> <td>93706</td> <td>Fresno                                           </td> <td>-119.782 </td> <td>36.7097 </td> <td>100                </td> <td>95-100% (highest scores)  </td> <td>Yes                           </td> <td>0.065</td> <td>98.18     </td> <td>15.4 </td> <td>97.22     </td> <td>48.524   </td> <td>95.54         </td> <td>681.2         </td> <td>80.92              </td> <td>2.75      </td> <td>47.82          </td> <td>18552       </td> <td>97.46            </td> <td>909.14 </td> <td>62.98       </td> <td>80.5         </td> <td>98.67             </td> <td>45.75              </td> <td>89.85                   </td> <td>0.795     </td> <td>84.32          </td> <td>0                </td> <td>0                     </td> <td>21.75      </td> <td>97.81           </td> <td>79.96           </td> <td>9.85                  </td> <td>99.95                </td> <td>131.64</td> <td>97.67      </td> <td>7.44            </td> <td>93.84                </td> <td>14.13                 </td> <td>96.31                      </td> <td>53.3     </td> <td>95.76         </td> <td>16.2                </td> <td>77.51                    </td> <td>76.3   </td> <td>97.12       </td> <td>17.6        </td> <td>91.72            </td> <td>26            </td> <td>79.4               </td> <td>92.12      </td> <td>9.55            </td> <td>99.7           </td>\n",
       "        </tr>\n",
       "        <tr>\n",
       "            <td>6.071e+09   </td> <td>90.68        </td> <td>99.99             </td> <td>95-100% (highest scores)</td> <td>6133            </td> <td>San Bernardino   </td> <td>19.7             </td> <td>76.1               </td> <td>4.2             </td> <td>91.1        </td> <td>5.8      </td> <td>0.7                 </td> <td>0.3                </td> <td>1.4               </td> <td>0.7      </td> <td>91761</td> <td>Ontario                                          </td> <td>-117.618 </td> <td>34.0578 </td> <td>99.99              </td> <td>95-100% (highest scores)  </td> <td>Yes                           </td> <td>0.062</td> <td>91.1      </td> <td>13.31</td> <td>93.64     </td> <td>38.556   </td> <td>92.12         </td> <td>904.66        </td> <td>96.11              </td> <td>1.37      </td> <td>41.34          </td> <td>7494.24     </td> <td>89.05            </td> <td>782.26 </td> <td>55.66       </td> <td>66.2         </td> <td>97.68             </td> <td>36                 </td> <td>85.57                   </td> <td>1.25      </td> <td>88.77          </td> <td>5                </td> <td>55.01                 </td> <td>12         </td> <td>92.17           </td> <td>81.19           </td> <td>10                    </td> <td>100                  </td> <td>60.66 </td> <td>69.78      </td> <td>7.04            </td> <td>90.85                </td> <td>12.94                 </td> <td>92.66                      </td> <td>53.3     </td> <td>95.76         </td> <td>33.4                </td> <td>96.25                    </td> <td>72.5   </td> <td>94.63       </td> <td>12.3        </td> <td>71.82            </td> <td>34.1          </td> <td>93.75              </td> <td>87.44      </td> <td>9.07            </td> <td>98.11          </td>\n",
       "        </tr>\n",
       "        <tr>\n",
       "            <td>6.019e+09   </td> <td>85.97        </td> <td>99.97             </td> <td>95-100% (highest scores)</td> <td>3167            </td> <td>Fresno           </td> <td>21.5             </td> <td>72.5               </td> <td>6               </td> <td>63.6        </td> <td>5.3      </td> <td>18.9                </td> <td>0.6                </td> <td>9.8               </td> <td>1.8      </td> <td>93706</td> <td>Fresno                                           </td> <td>-119.806 </td> <td>36.7355 </td> <td>99.97              </td> <td>95-100% (highest scores)  </td> <td>Yes                           </td> <td>0.062</td> <td>91.1      </td> <td>15.4 </td> <td>97.22     </td> <td>47.445   </td> <td>95.42         </td> <td>681.2         </td> <td>80.92              </td> <td>3.03      </td> <td>48.75          </td> <td>12454.9     </td> <td>95.42            </td> <td>576.52 </td> <td>39          </td> <td>22           </td> <td>85.13             </td> <td>30.25              </td> <td>81.93                   </td> <td>0.2       </td> <td>60.5           </td> <td>0                </td> <td>0                     </td> <td>2.5        </td> <td>57.18           </td> <td>71.16           </td> <td>8.76                  </td> <td>99                   </td> <td>142.12</td> <td>98.33      </td> <td>10.16           </td> <td>99.78                </td> <td>14.96                 </td> <td>97.67                      </td> <td>42.3     </td> <td>89.06         </td> <td>16.7                </td> <td>78.39                    </td> <td>86.8   </td> <td>99.56       </td> <td>16.1        </td> <td>87.98            </td> <td>40.1          </td> <td>97.85              </td> <td>94.58      </td> <td>9.81            </td> <td>99.99          </td>\n",
       "        </tr>\n",
       "        <tr>\n",
       "            <td>6.077e+09   </td> <td>82.49        </td> <td>99.96             </td> <td>95-100% (highest scores)</td> <td>6692            </td> <td>San Joaquin      </td> <td>18.7             </td> <td>74.5               </td> <td>6.8             </td> <td>57.4        </td> <td>6        </td> <td>12.5                </td> <td>0.3                </td> <td>20.9              </td> <td>2.8      </td> <td>95203</td> <td>Stockton                                         </td> <td>-121.315 </td> <td>37.9405 </td> <td>99.96              </td> <td>95-100% (highest scores)  </td> <td>Yes                           </td> <td>0.046</td> <td>53.02     </td> <td>12.54</td> <td>84.02     </td> <td>24.117   </td> <td>73.52         </td> <td>278.76        </td> <td>29.11              </td> <td>12.93     </td> <td>60.56          </td> <td>2387.78     </td> <td>69.97            </td> <td>1305.01</td> <td>78.29       </td> <td>50.1         </td> <td>96.1              </td> <td>132.1              </td> <td>98.41                   </td> <td>0.795     </td> <td>84.32          </td> <td>19               </td> <td>98.63                 </td> <td>27         </td> <td>99.1            </td> <td>74.48           </td> <td>9.17                  </td> <td>99.59                </td> <td>142.17</td> <td>98.34      </td> <td>6.23            </td> <td>80.65                </td> <td>14.72                 </td> <td>97.17                      </td> <td>40.8     </td> <td>87.52         </td> <td>15.3                </td> <td>75.14                    </td> <td>61.3   </td> <td>85.57       </td> <td>19.6        </td> <td>94.97            </td> <td>21.1          </td> <td>63.54              </td> <td>86.7       </td> <td>8.99            </td> <td>97.72          </td>\n",
       "        </tr>\n",
       "        <tr>\n",
       "            <td>6.019e+09   </td> <td>82.03        </td> <td>99.95             </td> <td>95-100% (highest scores)</td> <td>2206            </td> <td>Fresno           </td> <td>14.8             </td> <td>72.1               </td> <td>13.1            </td> <td>71.8        </td> <td>21.4     </td> <td>1.2                 </td> <td>0.5                </td> <td>4.5               </td> <td>0.6      </td> <td>93725</td> <td>Fresno                                           </td> <td>-119.718 </td> <td>36.6816 </td> <td>99.95              </td> <td>95-100% (highest scores)  </td> <td>Yes                           </td> <td>0.065</td> <td>98.18     </td> <td>15.4 </td> <td>97.22     </td> <td>18.846   </td> <td>58.22         </td> <td>1000.24       </td> <td>98.64              </td> <td>3518.41   </td> <td>95.15          </td> <td>21790.7     </td> <td>98.15            </td> <td>435.16 </td> <td>24.3        </td> <td>60           </td> <td>97.15             </td> <td>54.2               </td> <td>92.09                   </td> <td>13.1      </td> <td>99.7           </td> <td>0                </td> <td>0                     </td> <td>50.8       </td> <td>99.91           </td> <td>80.2            </td> <td>9.88                  </td> <td>99.99                </td> <td>90.48 </td> <td>89.54      </td> <td>4.5             </td> <td>38.92                </td> <td>12.82                 </td> <td>92.36                      </td> <td>45.1     </td> <td>91.13         </td> <td>14.7                </td> <td>73.72                    </td> <td>66.4   </td> <td>90.23       </td> <td>18.6        </td> <td>93.65            </td> <td>28.1          </td> <td>83.98              </td> <td>80.08      </td> <td>8.3             </td> <td>92.76          </td>\n",
       "        </tr>\n",
       "        <tr>\n",
       "            <td>6.0372e+09  </td> <td>80.73        </td> <td>99.94             </td> <td>95-100% (highest scores)</td> <td>2598            </td> <td>Los Angeles      </td> <td>15.3             </td> <td>74.5               </td> <td>10.2            </td> <td>98.1        </td> <td>1.2      </td> <td>0.1                 </td> <td>0.1                </td> <td>0.2               </td> <td>0.3      </td> <td>90023</td> <td>Los Angeles                                      </td> <td>-118.197 </td> <td>34.0175 </td> <td>99.94              </td> <td>95-100% (highest scores)  </td> <td>Yes                           </td> <td>0.046</td> <td>53.02     </td> <td>12.89</td> <td>92.89     </td> <td>56.52    </td> <td>96.98         </td> <td>714.48        </td> <td>83.49              </td> <td>0         </td> <td>0              </td> <td>39040.2     </td> <td>99.3             </td> <td>2943.44</td> <td>97.19       </td> <td>36.7         </td> <td>93.14             </td> <td>25                 </td> <td>77.29                   </td> <td>4.93      </td> <td>96.31          </td> <td>7                </td> <td>71.61                 </td> <td>3.85       </td> <td>65.67           </td> <td>76.73           </td> <td>9.45                  </td> <td>99.88                </td> <td>68.74 </td> <td>77.63      </td> <td>7.35            </td> <td>93.21                </td> <td>10.4                  </td> <td>77.62                      </td> <td>53.1     </td> <td>95.67         </td> <td>23.7                </td> <td>89.15                    </td> <td>66.4   </td> <td>90.23       </td> <td>11.6        </td> <td>67.42            </td> <td>22            </td> <td>67.03              </td> <td>82.36      </td> <td>8.54            </td> <td>94.89          </td>\n",
       "        </tr>\n",
       "        <tr>\n",
       "            <td>6.077e+09   </td> <td>80.18        </td> <td>99.92             </td> <td>95-100% (highest scores)</td> <td>2396            </td> <td>San Joaquin      </td> <td>16.7             </td> <td>69.8               </td> <td>13.5            </td> <td>51.8        </td> <td>16.4     </td> <td>16.4                </td> <td>1.3                </td> <td>9.9               </td> <td>4.1      </td> <td>95203</td> <td>Stockton                                         </td> <td>-121.302 </td> <td>37.9524 </td> <td>99.92              </td> <td>95-100% (highest scores)  </td> <td>Yes                           </td> <td>0.046</td> <td>53.02     </td> <td>13.44</td> <td>94        </td> <td>21.76    </td> <td>66.48         </td> <td>278.76        </td> <td>29.11              </td> <td>172.49    </td> <td>79.19          </td> <td>707.536     </td> <td>56.11            </td> <td>885.52 </td> <td>61.94       </td> <td>89.7         </td> <td>98.89             </td> <td>149.05             </td> <td>98.74                   </td> <td>0.135     </td> <td>50.68          </td> <td>14               </td> <td>94.41                 </td> <td>2.3        </td> <td>52.98           </td> <td>68.27           </td> <td>8.41                  </td> <td>98.07                </td> <td>169.56</td> <td>99.36      </td> <td>8.36            </td> <td>97.86                </td> <td>12.7                  </td> <td>91.68                      </td> <td>46       </td> <td>91.72         </td> <td>27.1                </td> <td>92.4                     </td> <td>76.2   </td> <td>97.03       </td> <td>14.4        </td> <td>82               </td> <td>24.3          </td> <td>74.73              </td> <td>91.94      </td> <td>9.53            </td> <td>99.65          </td>\n",
       "        </tr>\n",
       "        <tr>\n",
       "            <td>6.019e+09   </td> <td>80.13        </td> <td>99.91             </td> <td>95-100% (highest scores)</td> <td>4106            </td> <td>Fresno           </td> <td>21               </td> <td>71.3               </td> <td>7.7             </td> <td>52.7        </td> <td>2.7      </td> <td>28.7                </td> <td>0.4                </td> <td>14.3              </td> <td>1.2      </td> <td>93706</td> <td>Fresno                                           </td> <td>-119.804 </td> <td>36.6978 </td> <td>99.91              </td> <td>95-100% (highest scores)  </td> <td>Yes                           </td> <td>0.065</td> <td>98.18     </td> <td>15.4 </td> <td>97.22     </td> <td>20.848   </td> <td>64.14         </td> <td>788.02        </td> <td>89.12              </td> <td>1435.93   </td> <td>90.89          </td> <td>6996.96     </td> <td>88.06            </td> <td>243.54 </td> <td>7.97        </td> <td>15.45        </td> <td>77.6              </td> <td>20                 </td> <td>71.07                   </td> <td>0         </td> <td>0              </td> <td>0                </td> <td>0                     </td> <td>10         </td> <td>89.46           </td> <td>66.88           </td> <td>8.24                  </td> <td>97.35                </td> <td>142.28</td> <td>98.42      </td> <td>7.83            </td> <td>95.91                </td> <td>14.96                 </td> <td>97.67                      </td> <td>47.4     </td> <td>92.58         </td> <td>15.8                </td> <td>76.58                    </td> <td>74.5   </td> <td>95.9        </td> <td>20          </td> <td>95.49            </td> <td>31.8          </td> <td>90.72              </td> <td>93.79      </td> <td>9.73            </td> <td>99.91          </td>\n",
       "        </tr>\n",
       "        <tr>\n",
       "            <td>6.03721e+09 </td> <td>79.03        </td> <td>99.9              </td> <td>95-100% (highest scores)</td> <td>2146            </td> <td>Los Angeles      </td> <td>12.4             </td> <td>63.2               </td> <td>24.4            </td> <td>79.3        </td> <td>8.9      </td> <td>4.1                 </td> <td>0.1                </td> <td>7.2               </td> <td>0.5      </td> <td>90023</td> <td>Los Angeles                                      </td> <td>-118.224 </td> <td>34.0299 </td> <td>99.9               </td> <td>95-100% (highest scores)  </td> <td>Yes                           </td> <td>0.046</td> <td>53.02     </td> <td>12.89</td> <td>92.89     </td> <td>53.958   </td> <td>96.42         </td> <td>664.07        </td> <td>78.57              </td> <td>0         </td> <td>0              </td> <td>10378.2     </td> <td>94.06            </td> <td>2810.82</td> <td>96.63       </td> <td>36.05        </td> <td>92.96             </td> <td>16.25              </td> <td>63.8                    </td> <td>10.025    </td> <td>99.13          </td> <td>7                </td> <td>71.61                 </td> <td>22.1       </td> <td>98.02           </td> <td>77.09           </td> <td>9.5                   </td> <td>99.9                 </td> <td>58.03 </td> <td>66.53      </td> <td>6.71            </td> <td>87.5                 </td> <td>7.24                  </td> <td>40.56                      </td> <td>50.4     </td> <td>94.36         </td> <td>35.7                </td> <td>97.12                    </td> <td>75.7   </td> <td>96.64       </td> <td>28.5        </td> <td>99.51            </td> <td>31.7          </td> <td>90.56              </td> <td>80.25      </td> <td>8.32            </td> <td>92.96          </td>\n",
       "        </tr>\n",
       "        <tr>\n",
       "            <td>6.019e+09   </td> <td>78.53        </td> <td>99.89             </td> <td>95-100% (highest scores)</td> <td>6343            </td> <td>Fresno           </td> <td>18.3             </td> <td>75.8               </td> <td>5.9             </td> <td>78          </td> <td>9.1      </td> <td>5.8                 </td> <td>0.8                </td> <td>5.3               </td> <td>0.9      </td> <td>93721</td> <td>Fresno                                           </td> <td>-119.776 </td> <td>36.7277 </td> <td>99.89              </td> <td>95-100% (highest scores)  </td> <td>Yes                           </td> <td>0.065</td> <td>98.18     </td> <td>15.4 </td> <td>97.22     </td> <td>54.356   </td> <td>96.74         </td> <td>681.2         </td> <td>80.92              </td> <td>114.96    </td> <td>76.84          </td> <td>125384      </td> <td>99.93            </td> <td>815.36 </td> <td>57.96       </td> <td>15.95        </td> <td>78.24             </td> <td>13.5               </td> <td>57.6                    </td> <td>0.755     </td> <td>83.84          </td> <td>0                </td> <td>0                     </td> <td>0.5        </td> <td>20.49           </td> <td>73.89           </td> <td>9.1                   </td> <td>99.48                </td> <td>107.8 </td> <td>94.23      </td> <td>4.79            </td> <td>46.47                </td> <td>14.75                 </td> <td>97.26                      </td> <td>52.5     </td> <td>95.32         </td> <td>13.7                </td> <td>71.35                    </td> <td>83.4   </td> <td>99.08       </td> <td>23.5        </td> <td>98.27            </td> <td>23.2          </td> <td>71.34              </td> <td>83.2       </td> <td>8.63            </td> <td>95.71          </td>\n",
       "        </tr>\n",
       "    </tbody>\n",
       "</table>\n",
       "<p>... (8025 rows omitted)</p>"
      ],
      "text/plain": [
       "Census Tract | CES 3.0 Score | CES 3.0 Percentile | CES 3.0 Percentile Range | Total Population | California County | Children < 10 (%) | Pop 11-64 years (%) | Elderly > 65 (%) | Hispanic (%) | White (%) | African American (%) | Native American (%) | Asian American (%) | Other (%) | ZIP   | Nearby City \n",
       "(to help approximate location only) | Longitude | Latitude |  CES 3.0 Percentile | CES 3.0 \n",
       "Percentile Range | SB 535 Disadvantaged Community | Ozone | Ozone Pctl | PM2.5 | PM2.5 Pctl | Diesel PM | Diesel PM Pctl | Drinking Water | Drinking Water Pctl | Pesticides | Pesticides Pctl | Tox. Release | Tox. Release Pctl | Traffic | Traffic Pctl | Cleanup Sites | Cleanup Sites Pctl | Groundwater Threats | Groundwater Threats Pctl | Haz. Waste | Haz. Waste Pctl | Imp. Water Bodies | Imp. Water Bodies Pctl | Solid Waste | Solid Waste Pctl | Pollution Burden | Pollution Burden Score | Pollution Burden Pctl | Asthma | Asthma Pctl | Low Birth Weight | Low Birth Weight Pctl | Cardiovascular Disease | Cardiovascular Disease Pctl | Education | Education Pctl | Linguistic Isolation | Linguistic Isolation Pctl | Poverty | Poverty Pctl | Unemployment | Unemployment Pctl | Housing Burden | Housing Burden Pctl | Pop. Char.  | Pop. Char. Score | Pop. Char. Pctl\n",
       "6.019e+09    | 94.09         | 100                | 95-100% (highest scores) | 3174             | Fresno            | 18.8              | 73.6                | 7.6              | 65.3         | 4.2       | 24.6                 | 0.5                 | 3.5                | 1.8       | 93706 | Fresno                                            | -119.782  | 36.7097  | 100                 | 95-100% (highest scores)   | Yes                            | 0.065 | 98.18      | 15.4  | 97.22      | 48.524    | 95.54          | 681.2          | 80.92               | 2.75       | 47.82           | 18552        | 97.46             | 909.14  | 62.98        | 80.5          | 98.67              | 45.75               | 89.85                    | 0.795      | 84.32           | 0                 | 0                      | 21.75       | 97.81            | 79.96            | 9.85                   | 99.95                 | 131.64 | 97.67       | 7.44             | 93.84                 | 14.13                  | 96.31                       | 53.3      | 95.76          | 16.2                 | 77.51                     | 76.3    | 97.12        | 17.6         | 91.72             | 26             | 79.4                | 92.12       | 9.55             | 99.7\n",
       "6.071e+09    | 90.68         | 99.99              | 95-100% (highest scores) | 6133             | San Bernardino    | 19.7              | 76.1                | 4.2              | 91.1         | 5.8       | 0.7                  | 0.3                 | 1.4                | 0.7       | 91761 | Ontario                                           | -117.618  | 34.0578  | 99.99               | 95-100% (highest scores)   | Yes                            | 0.062 | 91.1       | 13.31 | 93.64      | 38.556    | 92.12          | 904.66         | 96.11               | 1.37       | 41.34           | 7494.24      | 89.05             | 782.26  | 55.66        | 66.2          | 97.68              | 36                  | 85.57                    | 1.25       | 88.77           | 5                 | 55.01                  | 12          | 92.17            | 81.19            | 10                     | 100                   | 60.66  | 69.78       | 7.04             | 90.85                 | 12.94                  | 92.66                       | 53.3      | 95.76          | 33.4                 | 96.25                     | 72.5    | 94.63        | 12.3         | 71.82             | 34.1           | 93.75               | 87.44       | 9.07             | 98.11\n",
       "6.019e+09    | 85.97         | 99.97              | 95-100% (highest scores) | 3167             | Fresno            | 21.5              | 72.5                | 6                | 63.6         | 5.3       | 18.9                 | 0.6                 | 9.8                | 1.8       | 93706 | Fresno                                            | -119.806  | 36.7355  | 99.97               | 95-100% (highest scores)   | Yes                            | 0.062 | 91.1       | 15.4  | 97.22      | 47.445    | 95.42          | 681.2          | 80.92               | 3.03       | 48.75           | 12454.9      | 95.42             | 576.52  | 39           | 22            | 85.13              | 30.25               | 81.93                    | 0.2        | 60.5            | 0                 | 0                      | 2.5         | 57.18            | 71.16            | 8.76                   | 99                    | 142.12 | 98.33       | 10.16            | 99.78                 | 14.96                  | 97.67                       | 42.3      | 89.06          | 16.7                 | 78.39                     | 86.8    | 99.56        | 16.1         | 87.98             | 40.1           | 97.85               | 94.58       | 9.81             | 99.99\n",
       "6.077e+09    | 82.49         | 99.96              | 95-100% (highest scores) | 6692             | San Joaquin       | 18.7              | 74.5                | 6.8              | 57.4         | 6         | 12.5                 | 0.3                 | 20.9               | 2.8       | 95203 | Stockton                                          | -121.315  | 37.9405  | 99.96               | 95-100% (highest scores)   | Yes                            | 0.046 | 53.02      | 12.54 | 84.02      | 24.117    | 73.52          | 278.76         | 29.11               | 12.93      | 60.56           | 2387.78      | 69.97             | 1305.01 | 78.29        | 50.1          | 96.1               | 132.1               | 98.41                    | 0.795      | 84.32           | 19                | 98.63                  | 27          | 99.1             | 74.48            | 9.17                   | 99.59                 | 142.17 | 98.34       | 6.23             | 80.65                 | 14.72                  | 97.17                       | 40.8      | 87.52          | 15.3                 | 75.14                     | 61.3    | 85.57        | 19.6         | 94.97             | 21.1           | 63.54               | 86.7        | 8.99             | 97.72\n",
       "6.019e+09    | 82.03         | 99.95              | 95-100% (highest scores) | 2206             | Fresno            | 14.8              | 72.1                | 13.1             | 71.8         | 21.4      | 1.2                  | 0.5                 | 4.5                | 0.6       | 93725 | Fresno                                            | -119.718  | 36.6816  | 99.95               | 95-100% (highest scores)   | Yes                            | 0.065 | 98.18      | 15.4  | 97.22      | 18.846    | 58.22          | 1000.24        | 98.64               | 3518.41    | 95.15           | 21790.7      | 98.15             | 435.16  | 24.3         | 60            | 97.15              | 54.2                | 92.09                    | 13.1       | 99.7            | 0                 | 0                      | 50.8        | 99.91            | 80.2             | 9.88                   | 99.99                 | 90.48  | 89.54       | 4.5              | 38.92                 | 12.82                  | 92.36                       | 45.1      | 91.13          | 14.7                 | 73.72                     | 66.4    | 90.23        | 18.6         | 93.65             | 28.1           | 83.98               | 80.08       | 8.3              | 92.76\n",
       "6.0372e+09   | 80.73         | 99.94              | 95-100% (highest scores) | 2598             | Los Angeles       | 15.3              | 74.5                | 10.2             | 98.1         | 1.2       | 0.1                  | 0.1                 | 0.2                | 0.3       | 90023 | Los Angeles                                       | -118.197  | 34.0175  | 99.94               | 95-100% (highest scores)   | Yes                            | 0.046 | 53.02      | 12.89 | 92.89      | 56.52     | 96.98          | 714.48         | 83.49               | 0          | 0               | 39040.2      | 99.3              | 2943.44 | 97.19        | 36.7          | 93.14              | 25                  | 77.29                    | 4.93       | 96.31           | 7                 | 71.61                  | 3.85        | 65.67            | 76.73            | 9.45                   | 99.88                 | 68.74  | 77.63       | 7.35             | 93.21                 | 10.4                   | 77.62                       | 53.1      | 95.67          | 23.7                 | 89.15                     | 66.4    | 90.23        | 11.6         | 67.42             | 22             | 67.03               | 82.36       | 8.54             | 94.89\n",
       "6.077e+09    | 80.18         | 99.92              | 95-100% (highest scores) | 2396             | San Joaquin       | 16.7              | 69.8                | 13.5             | 51.8         | 16.4      | 16.4                 | 1.3                 | 9.9                | 4.1       | 95203 | Stockton                                          | -121.302  | 37.9524  | 99.92               | 95-100% (highest scores)   | Yes                            | 0.046 | 53.02      | 13.44 | 94         | 21.76     | 66.48          | 278.76         | 29.11               | 172.49     | 79.19           | 707.536      | 56.11             | 885.52  | 61.94        | 89.7          | 98.89              | 149.05              | 98.74                    | 0.135      | 50.68           | 14                | 94.41                  | 2.3         | 52.98            | 68.27            | 8.41                   | 98.07                 | 169.56 | 99.36       | 8.36             | 97.86                 | 12.7                   | 91.68                       | 46        | 91.72          | 27.1                 | 92.4                      | 76.2    | 97.03        | 14.4         | 82                | 24.3           | 74.73               | 91.94       | 9.53             | 99.65\n",
       "6.019e+09    | 80.13         | 99.91              | 95-100% (highest scores) | 4106             | Fresno            | 21                | 71.3                | 7.7              | 52.7         | 2.7       | 28.7                 | 0.4                 | 14.3               | 1.2       | 93706 | Fresno                                            | -119.804  | 36.6978  | 99.91               | 95-100% (highest scores)   | Yes                            | 0.065 | 98.18      | 15.4  | 97.22      | 20.848    | 64.14          | 788.02         | 89.12               | 1435.93    | 90.89           | 6996.96      | 88.06             | 243.54  | 7.97         | 15.45         | 77.6               | 20                  | 71.07                    | 0          | 0               | 0                 | 0                      | 10          | 89.46            | 66.88            | 8.24                   | 97.35                 | 142.28 | 98.42       | 7.83             | 95.91                 | 14.96                  | 97.67                       | 47.4      | 92.58          | 15.8                 | 76.58                     | 74.5    | 95.9         | 20           | 95.49             | 31.8           | 90.72               | 93.79       | 9.73             | 99.91\n",
       "6.03721e+09  | 79.03         | 99.9               | 95-100% (highest scores) | 2146             | Los Angeles       | 12.4              | 63.2                | 24.4             | 79.3         | 8.9       | 4.1                  | 0.1                 | 7.2                | 0.5       | 90023 | Los Angeles                                       | -118.224  | 34.0299  | 99.9                | 95-100% (highest scores)   | Yes                            | 0.046 | 53.02      | 12.89 | 92.89      | 53.958    | 96.42          | 664.07         | 78.57               | 0          | 0               | 10378.2      | 94.06             | 2810.82 | 96.63        | 36.05         | 92.96              | 16.25               | 63.8                     | 10.025     | 99.13           | 7                 | 71.61                  | 22.1        | 98.02            | 77.09            | 9.5                    | 99.9                  | 58.03  | 66.53       | 6.71             | 87.5                  | 7.24                   | 40.56                       | 50.4      | 94.36          | 35.7                 | 97.12                     | 75.7    | 96.64        | 28.5         | 99.51             | 31.7           | 90.56               | 80.25       | 8.32             | 92.96\n",
       "6.019e+09    | 78.53         | 99.89              | 95-100% (highest scores) | 6343             | Fresno            | 18.3              | 75.8                | 5.9              | 78           | 9.1       | 5.8                  | 0.8                 | 5.3                | 0.9       | 93721 | Fresno                                            | -119.776  | 36.7277  | 99.89               | 95-100% (highest scores)   | Yes                            | 0.065 | 98.18      | 15.4  | 97.22      | 54.356    | 96.74          | 681.2          | 80.92               | 114.96     | 76.84           | 125384       | 99.93             | 815.36  | 57.96        | 15.95         | 78.24              | 13.5                | 57.6                     | 0.755      | 83.84           | 0                 | 0                      | 0.5         | 20.49            | 73.89            | 9.1                    | 99.48                 | 107.8  | 94.23       | 4.79             | 46.47                 | 14.75                  | 97.26                       | 52.5      | 95.32          | 13.7                 | 71.35                     | 83.4    | 99.08        | 23.5         | 98.27             | 23.2           | 71.34               | 83.2        | 8.63             | 95.71\n",
       "... (8025 rows omitted)"
      ]
     },
     "execution_count": 7,
     "metadata": {},
     "output_type": "execute_result"
    }
   ],
   "source": [
    "ces_data = Table.read_table(\"../data/ces_data.csv\")\n",
    "ces_data"
   ]
  },
  {
   "cell_type": "markdown",
   "metadata": {},
   "source": [
    "This notebook can calculate how large this table is with two functions: num_rows and num_columns. The general form for these functions are table.num_rows and table.num_columns. \n",
    "\n",
    "Let's use these on the table above. "
   ]
  },
  {
   "cell_type": "code",
   "execution_count": 8,
   "metadata": {},
   "outputs": [
    {
     "data": {
      "text/plain": [
       "8035"
      ]
     },
     "execution_count": 8,
     "metadata": {},
     "output_type": "execute_result"
    }
   ],
   "source": [
    "ces_data.num_rows"
   ]
  },
  {
   "cell_type": "code",
   "execution_count": 9,
   "metadata": {},
   "outputs": [
    {
     "data": {
      "text/plain": [
       "68"
      ]
     },
     "execution_count": 9,
     "metadata": {},
     "output_type": "execute_result"
    }
   ],
   "source": [
    "ces_data.num_columns"
   ]
  },
  {
   "cell_type": "markdown",
   "metadata": {},
   "source": [
    "That's a 8035 x 65 table! We can first start to cut down this table using only some columns. Let's only include Asthma, African American, Total Population, Unemployment, Poverty, Hispanic, and White columns. \n",
    "\n",
    "\n",
    "There are two methods to make a table with select columns included. We could either use the 'select' function or the 'drop' function. \n",
    "\n",
    "- `select` can create a new table with only the columns indicated in the parameters \n",
    "- `drop` can create a new table with columns NOT indicated in the parameters\n",
    "\n",
    "\n",
    "Here's an example of two codes that result in smaller tables: (keep in mind that we assign each new table to a new variable, to make organization easier). "
   ]
  },
  {
   "cell_type": "code",
   "execution_count": 10,
   "metadata": {},
   "outputs": [
    {
     "data": {
      "text/html": [
       "<table border=\"1\" class=\"dataframe\">\n",
       "    <thead>\n",
       "        <tr>\n",
       "            <th>Asthma</th> <th>African American (%)</th> <th>Total Population</th> <th>Unemployment</th> <th>Poverty</th> <th>Hispanic (%)</th> <th>White (%)</th>\n",
       "        </tr>\n",
       "    </thead>\n",
       "    <tbody>\n",
       "        <tr>\n",
       "            <td>131.64</td> <td>24.6                </td> <td>3174            </td> <td>17.6        </td> <td>76.3   </td> <td>65.3        </td> <td>4.2      </td>\n",
       "        </tr>\n",
       "        <tr>\n",
       "            <td>60.66 </td> <td>0.7                 </td> <td>6133            </td> <td>12.3        </td> <td>72.5   </td> <td>91.1        </td> <td>5.8      </td>\n",
       "        </tr>\n",
       "        <tr>\n",
       "            <td>142.12</td> <td>18.9                </td> <td>3167            </td> <td>16.1        </td> <td>86.8   </td> <td>63.6        </td> <td>5.3      </td>\n",
       "        </tr>\n",
       "        <tr>\n",
       "            <td>142.17</td> <td>12.5                </td> <td>6692            </td> <td>19.6        </td> <td>61.3   </td> <td>57.4        </td> <td>6        </td>\n",
       "        </tr>\n",
       "        <tr>\n",
       "            <td>90.48 </td> <td>1.2                 </td> <td>2206            </td> <td>18.6        </td> <td>66.4   </td> <td>71.8        </td> <td>21.4     </td>\n",
       "        </tr>\n",
       "        <tr>\n",
       "            <td>68.74 </td> <td>0.1                 </td> <td>2598            </td> <td>11.6        </td> <td>66.4   </td> <td>98.1        </td> <td>1.2      </td>\n",
       "        </tr>\n",
       "        <tr>\n",
       "            <td>169.56</td> <td>16.4                </td> <td>2396            </td> <td>14.4        </td> <td>76.2   </td> <td>51.8        </td> <td>16.4     </td>\n",
       "        </tr>\n",
       "        <tr>\n",
       "            <td>142.28</td> <td>28.7                </td> <td>4106            </td> <td>20          </td> <td>74.5   </td> <td>52.7        </td> <td>2.7      </td>\n",
       "        </tr>\n",
       "        <tr>\n",
       "            <td>58.03 </td> <td>4.1                 </td> <td>2146            </td> <td>28.5        </td> <td>75.7   </td> <td>79.3        </td> <td>8.9      </td>\n",
       "        </tr>\n",
       "        <tr>\n",
       "            <td>107.8 </td> <td>5.8                 </td> <td>6343            </td> <td>23.5        </td> <td>83.4   </td> <td>78          </td> <td>9.1      </td>\n",
       "        </tr>\n",
       "    </tbody>\n",
       "</table>\n",
       "<p>... (8025 rows omitted)</p>"
      ],
      "text/plain": [
       "Asthma | African American (%) | Total Population | Unemployment | Poverty | Hispanic (%) | White (%)\n",
       "131.64 | 24.6                 | 3174             | 17.6         | 76.3    | 65.3         | 4.2\n",
       "60.66  | 0.7                  | 6133             | 12.3         | 72.5    | 91.1         | 5.8\n",
       "142.12 | 18.9                 | 3167             | 16.1         | 86.8    | 63.6         | 5.3\n",
       "142.17 | 12.5                 | 6692             | 19.6         | 61.3    | 57.4         | 6\n",
       "90.48  | 1.2                  | 2206             | 18.6         | 66.4    | 71.8         | 21.4\n",
       "68.74  | 0.1                  | 2598             | 11.6         | 66.4    | 98.1         | 1.2\n",
       "169.56 | 16.4                 | 2396             | 14.4         | 76.2    | 51.8         | 16.4\n",
       "142.28 | 28.7                 | 4106             | 20           | 74.5    | 52.7         | 2.7\n",
       "58.03  | 4.1                  | 2146             | 28.5         | 75.7    | 79.3         | 8.9\n",
       "107.8  | 5.8                  | 6343             | 23.5         | 83.4    | 78           | 9.1\n",
       "... (8025 rows omitted)"
      ]
     },
     "execution_count": 10,
     "metadata": {},
     "output_type": "execute_result"
    }
   ],
   "source": [
    "select_ces_data = ces_data.select(\"Asthma\", \"African American (%)\", \"Total Population\", \"Unemployment\", \"Poverty\", \"Hispanic (%)\", \"White (%)\")\n",
    "select_ces_data"
   ]
  },
  {
   "cell_type": "code",
   "execution_count": 11,
   "metadata": {},
   "outputs": [
    {
     "data": {
      "text/html": [
       "<table border=\"1\" class=\"dataframe\">\n",
       "    <thead>\n",
       "        <tr>\n",
       "            <th>Total Population</th> <th>Children < 10 (%)</th> <th>Pop 11-64 years (%)</th> <th>Elderly > 65 (%)</th> <th>Hispanic (%)</th> <th>White (%)</th> <th>African American (%)</th> <th>Native American (%)</th> <th>Asian American (%)</th> <th>Other (%)</th> <th>Nearby City \r\n",
       "(to help approximate location only)</th> <th> CES 3.0 Percentile</th> <th>CES 3.0 \r\n",
       "Percentile Range</th> <th>Pop. Char. </th>\n",
       "        </tr>\n",
       "    </thead>\n",
       "    <tbody>\n",
       "        <tr>\n",
       "            <td>3174            </td> <td>18.8             </td> <td>73.6               </td> <td>7.6             </td> <td>65.3        </td> <td>4.2      </td> <td>24.6                </td> <td>0.5                </td> <td>3.5               </td> <td>1.8      </td> <td>Fresno                                           </td> <td>100                </td> <td>95-100% (highest scores)  </td> <td>92.12      </td>\n",
       "        </tr>\n",
       "        <tr>\n",
       "            <td>6133            </td> <td>19.7             </td> <td>76.1               </td> <td>4.2             </td> <td>91.1        </td> <td>5.8      </td> <td>0.7                 </td> <td>0.3                </td> <td>1.4               </td> <td>0.7      </td> <td>Ontario                                          </td> <td>99.99              </td> <td>95-100% (highest scores)  </td> <td>87.44      </td>\n",
       "        </tr>\n",
       "        <tr>\n",
       "            <td>3167            </td> <td>21.5             </td> <td>72.5               </td> <td>6               </td> <td>63.6        </td> <td>5.3      </td> <td>18.9                </td> <td>0.6                </td> <td>9.8               </td> <td>1.8      </td> <td>Fresno                                           </td> <td>99.97              </td> <td>95-100% (highest scores)  </td> <td>94.58      </td>\n",
       "        </tr>\n",
       "        <tr>\n",
       "            <td>6692            </td> <td>18.7             </td> <td>74.5               </td> <td>6.8             </td> <td>57.4        </td> <td>6        </td> <td>12.5                </td> <td>0.3                </td> <td>20.9              </td> <td>2.8      </td> <td>Stockton                                         </td> <td>99.96              </td> <td>95-100% (highest scores)  </td> <td>86.7       </td>\n",
       "        </tr>\n",
       "        <tr>\n",
       "            <td>2206            </td> <td>14.8             </td> <td>72.1               </td> <td>13.1            </td> <td>71.8        </td> <td>21.4     </td> <td>1.2                 </td> <td>0.5                </td> <td>4.5               </td> <td>0.6      </td> <td>Fresno                                           </td> <td>99.95              </td> <td>95-100% (highest scores)  </td> <td>80.08      </td>\n",
       "        </tr>\n",
       "    </tbody>\n",
       "</table>\n",
       "<p>... (8030 rows omitted)</p>"
      ],
      "text/plain": [
       "<IPython.core.display.HTML object>"
      ]
     },
     "metadata": {},
     "output_type": "display_data"
    }
   ],
   "source": [
    "drop_ces_data = ces_data.drop(\"CENSUS2010POP\",\"POPESTIMATE2010\",\"POPESTIMATE2011\",\"POPESTIMATE2012\",\"POPESTIMATE2013\",\"POPESTIMATE2014\",\"POPESTIMATE2015\", \"Census Tract\", \"CES 3.0 Score\", \"CES 3.0 Percentile\", \"CES 3.0 Percentile Range\" \"Total Population\", \"California County\", \"73.6\", \"7.6\", \"65.3\", \"4.2\", \"24.6\", \"0.5\", \"3.5\", \"1.8\", \"ZIP\", \"Nearby City (to help approximate location only)\", \"Longitude\", \"Latitude\", \"CES 3.0 Percentile\", \"CES 3.0 Percentile Range\", \"SB 535 Disadvantaged Community\", \"Ozone\", \"Ozone Pctl\", \"PM2.5\", \"PM2.5 Pctl\", \"Diesel PM\", \"Diesel PM Pctl\", \"Drinking Water\", \"Drinking Water Pctl\", \"Pesticides\", \"Pesticides Pctl\", \"Tox. Release\", \"Tox. Release Pctl\", \"Traffic\", \"Traffic Pctl\", \"Cleanup Sites\", \"Cleanup Sites Pctl\", \"Groundwater Threats\", \"Groundwater Threats Pctl\", \"Haz. Waste\", \"Haz. Waste Pctl\", \"Imp. Water Bodies\", \"Imp. Water Bodies Pctl\", \"Solid Waste\", \"Solid Waste Pctl\", \"Pollution Burden\", \"Pollution Burden Score\", \"Pollution Burden Pctl\", \"Asthma\", \"Asthma Pctl\", \"Low Birth Weight\", \"Low Birth Weight Pctl\", \"Cardiovascular Disease\", \"Cardiovascular Disease Pctl\", \"Education\", \"Education Pctl\", \"Linguistic Isolation\", \"Linguistic Isolation Pctl\", \"Poverty\", \"Poverty Pctl\", \"Unemployment\", \"Unemployment Pctl\", \"Housing Burden\", \"Housing Burden Pctl\", \"Pop. Char.\", \"Pop. Char. Score\", \"Pop. Char. Pctl\")\n",
    "drop_ces_data.show(5)"
   ]
  },
  {
   "cell_type": "markdown",
   "metadata": {},
   "source": [
    "As you can see underneath the table, there are still 8025 rows omitted! Our next step is to only include the data with larger populations (larger than 4000).\n",
    "\n",
    "To do this, we need to use a new function `where`. The general form of this function is:\n",
    "\n",
    "```python\n",
    "table_name.where(column_name, predicate)\n",
    "```\n",
    "\n",
    "Note that we are assigning the new table to a new variable. We are referencing the table stored in an older variable (`select_ces_data`), and modifying it. That modification is what is stored in the new variable. "
   ]
  },
  {
   "cell_type": "code",
   "execution_count": 12,
   "metadata": {},
   "outputs": [
    {
     "data": {
      "text/html": [
       "<table border=\"1\" class=\"dataframe\">\n",
       "    <thead>\n",
       "        <tr>\n",
       "            <th>Asthma</th> <th>African American (%)</th> <th>Total Population</th> <th>Unemployment</th> <th>Poverty</th> <th>Hispanic (%)</th> <th>White (%)</th>\n",
       "        </tr>\n",
       "    </thead>\n",
       "    <tbody>\n",
       "        <tr>\n",
       "            <td>60.66 </td> <td>0.7                 </td> <td>6133            </td> <td>12.3        </td> <td>72.5   </td> <td>91.1        </td> <td>5.8      </td>\n",
       "        </tr>\n",
       "        <tr>\n",
       "            <td>142.17</td> <td>12.5                </td> <td>6692            </td> <td>19.6        </td> <td>61.3   </td> <td>57.4        </td> <td>6        </td>\n",
       "        </tr>\n",
       "        <tr>\n",
       "            <td>142.28</td> <td>28.7                </td> <td>4106            </td> <td>20          </td> <td>74.5   </td> <td>52.7        </td> <td>2.7      </td>\n",
       "        </tr>\n",
       "        <tr>\n",
       "            <td>107.8 </td> <td>5.8                 </td> <td>6343            </td> <td>23.5        </td> <td>83.4   </td> <td>78          </td> <td>9.1      </td>\n",
       "        </tr>\n",
       "        <tr>\n",
       "            <td>94.54 </td> <td>2.4                 </td> <td>4165            </td> <td>19.3        </td> <td>78.3   </td> <td>66.5        </td> <td>25.6     </td>\n",
       "        </tr>\n",
       "        <tr>\n",
       "            <td>89.83 </td> <td>15.9                </td> <td>9122            </td> <td>28.5        </td> <td>73.8   </td> <td>76.7        </td> <td>5.1      </td>\n",
       "        </tr>\n",
       "        <tr>\n",
       "            <td>118.86</td> <td>6.8                 </td> <td>6161            </td> <td>21.7        </td> <td>89.5   </td> <td>70.8        </td> <td>15.2     </td>\n",
       "        </tr>\n",
       "        <tr>\n",
       "            <td>89.51 </td> <td>3.7                 </td> <td>5936            </td> <td>20.1        </td> <td>70.7   </td> <td>83.1        </td> <td>5.1      </td>\n",
       "        </tr>\n",
       "        <tr>\n",
       "            <td>142.28</td> <td>21.3                </td> <td>5252            </td> <td>21.8        </td> <td>77.5   </td> <td>57.9        </td> <td>1.5      </td>\n",
       "        </tr>\n",
       "        <tr>\n",
       "            <td>78.61 </td> <td>11.7                </td> <td>4756            </td> <td>21.6        </td> <td>77.8   </td> <td>72.5        </td> <td>2.5      </td>\n",
       "        </tr>\n",
       "    </tbody>\n",
       "</table>\n",
       "<p>... (4833 rows omitted)</p>"
      ],
      "text/plain": [
       "Asthma | African American (%) | Total Population | Unemployment | Poverty | Hispanic (%) | White (%)\n",
       "60.66  | 0.7                  | 6133             | 12.3         | 72.5    | 91.1         | 5.8\n",
       "142.17 | 12.5                 | 6692             | 19.6         | 61.3    | 57.4         | 6\n",
       "142.28 | 28.7                 | 4106             | 20           | 74.5    | 52.7         | 2.7\n",
       "107.8  | 5.8                  | 6343             | 23.5         | 83.4    | 78           | 9.1\n",
       "94.54  | 2.4                  | 4165             | 19.3         | 78.3    | 66.5         | 25.6\n",
       "89.83  | 15.9                 | 9122             | 28.5         | 73.8    | 76.7         | 5.1\n",
       "118.86 | 6.8                  | 6161             | 21.7         | 89.5    | 70.8         | 15.2\n",
       "89.51  | 3.7                  | 5936             | 20.1         | 70.7    | 83.1         | 5.1\n",
       "142.28 | 21.3                 | 5252             | 21.8         | 77.5    | 57.9         | 1.5\n",
       "78.61  | 11.7                 | 4756             | 21.6         | 77.8    | 72.5         | 2.5\n",
       "... (4833 rows omitted)"
      ]
     },
     "execution_count": 12,
     "metadata": {},
     "output_type": "execute_result"
    }
   ],
   "source": [
    "new_ces_data = select_ces_data.where(\"Total Population\", are.above(4000))\n",
    "new_ces_data"
   ]
  },
  {
   "cell_type": "markdown",
   "metadata": {},
   "source": [
    "There are still 4833 rows omitted! Let's take every 10th entry to cut this table down a little more. \n",
    "\n",
    "To do this we need to use the `take` function. The `take` function creates a new table with rows from the original table whose indices(row number) are given. In Python, indices start at 0! \n",
    "\n",
    "Here's taking every 10th entry. Inside of the take parentheses is a Python list of numbers from 0 to 90, increasing by 10s. This indicates exactly which rows we want to keep (every 10th row)."
   ]
  },
  {
   "cell_type": "code",
   "execution_count": 13,
   "metadata": {
    "scrolled": true
   },
   "outputs": [
    {
     "data": {
      "text/html": [
       "<table border=\"1\" class=\"dataframe\">\n",
       "    <thead>\n",
       "        <tr>\n",
       "            <th>Asthma</th> <th>African American (%)</th> <th>Total Population</th> <th>Unemployment</th> <th>Poverty</th> <th>Hispanic (%)</th> <th>White (%)</th>\n",
       "        </tr>\n",
       "    </thead>\n",
       "    <tbody>\n",
       "        <tr>\n",
       "            <td>60.66 </td> <td>0.7                 </td> <td>6133            </td> <td>12.3        </td> <td>72.5   </td> <td>91.1        </td> <td>5.8      </td>\n",
       "        </tr>\n",
       "        <tr>\n",
       "            <td>91.39 </td> <td>16.1                </td> <td>4724            </td> <td>13.6        </td> <td>76.3   </td> <td>82.6        </td> <td>0.7      </td>\n",
       "        </tr>\n",
       "        <tr>\n",
       "            <td>94.01 </td> <td>10.9                </td> <td>5592            </td> <td>15.6        </td> <td>75.5   </td> <td>74.1        </td> <td>7.7      </td>\n",
       "        </tr>\n",
       "        <tr>\n",
       "            <td>115.44</td> <td>3.6                 </td> <td>5431            </td> <td>23.1        </td> <td>87.5   </td> <td>66.6        </td> <td>5.2      </td>\n",
       "        </tr>\n",
       "        <tr>\n",
       "            <td>69.46 </td> <td>1.8                 </td> <td>5840            </td> <td>10.4        </td> <td>50     </td> <td>88.5        </td> <td>7.6      </td>\n",
       "        </tr>\n",
       "        <tr>\n",
       "            <td>87.56 </td> <td>17.7                </td> <td>7330            </td> <td>14.8        </td> <td>52.6   </td> <td>64.5        </td> <td>7.1      </td>\n",
       "        </tr>\n",
       "        <tr>\n",
       "            <td>65.14 </td> <td>7.3                 </td> <td>4916            </td> <td>12.4        </td> <td>76.2   </td> <td>91.3        </td> <td>0.4      </td>\n",
       "        </tr>\n",
       "        <tr>\n",
       "            <td>46.23 </td> <td>0.5                 </td> <td>5516            </td> <td>12.3        </td> <td>42.3   </td> <td>94.6        </td> <td>3.7      </td>\n",
       "        </tr>\n",
       "        <tr>\n",
       "            <td>50.32 </td> <td>15.8                </td> <td>4750            </td> <td>12          </td> <td>47.9   </td> <td>75          </td> <td>4.6      </td>\n",
       "        </tr>\n",
       "        <tr>\n",
       "            <td>111.82</td> <td>14.9                </td> <td>8618            </td> <td>29.5        </td> <td>82.1   </td> <td>73.6        </td> <td>7.8      </td>\n",
       "        </tr>\n",
       "    </tbody>\n",
       "</table>\n",
       "<p>... (1 rows omitted)</p>"
      ],
      "text/plain": [
       "Asthma | African American (%) | Total Population | Unemployment | Poverty | Hispanic (%) | White (%)\n",
       "60.66  | 0.7                  | 6133             | 12.3         | 72.5    | 91.1         | 5.8\n",
       "91.39  | 16.1                 | 4724             | 13.6         | 76.3    | 82.6         | 0.7\n",
       "94.01  | 10.9                 | 5592             | 15.6         | 75.5    | 74.1         | 7.7\n",
       "115.44 | 3.6                  | 5431             | 23.1         | 87.5    | 66.6         | 5.2\n",
       "69.46  | 1.8                  | 5840             | 10.4         | 50      | 88.5         | 7.6\n",
       "87.56  | 17.7                 | 7330             | 14.8         | 52.6    | 64.5         | 7.1\n",
       "65.14  | 7.3                  | 4916             | 12.4         | 76.2    | 91.3         | 0.4\n",
       "46.23  | 0.5                  | 5516             | 12.3         | 42.3    | 94.6         | 3.7\n",
       "50.32  | 15.8                 | 4750             | 12           | 47.9    | 75           | 4.6\n",
       "111.82 | 14.9                 | 8618             | 29.5         | 82.1    | 73.6         | 7.8\n",
       "... (1 rows omitted)"
      ]
     },
     "execution_count": 13,
     "metadata": {},
     "output_type": "execute_result"
    }
   ],
   "source": [
    "ces_10_row = new_ces_data.take([0,10,20,30,40,50,60,70,80,90,100])\n",
    "ces_10_row"
   ]
  },
  {
   "cell_type": "code",
   "execution_count": 14,
   "metadata": {},
   "outputs": [
    {
     "data": {
      "text/html": [
       "<table border=\"1\" class=\"dataframe\">\n",
       "    <thead>\n",
       "        <tr>\n",
       "            <th>Asthma</th> <th>African American (%)</th> <th>Total Population</th> <th>Unemployment</th> <th>Poverty</th> <th>Hispanic (%)</th> <th>White (%)</th>\n",
       "        </tr>\n",
       "    </thead>\n",
       "    <tbody>\n",
       "        <tr>\n",
       "            <td>60.66 </td> <td>0.7                 </td> <td>6133            </td> <td>12.3        </td> <td>72.5   </td> <td>91.1        </td> <td>5.8      </td>\n",
       "        </tr>\n",
       "        <tr>\n",
       "            <td>91.39 </td> <td>16.1                </td> <td>4724            </td> <td>13.6        </td> <td>76.3   </td> <td>82.6        </td> <td>0.7      </td>\n",
       "        </tr>\n",
       "        <tr>\n",
       "            <td>94.01 </td> <td>10.9                </td> <td>5592            </td> <td>15.6        </td> <td>75.5   </td> <td>74.1        </td> <td>7.7      </td>\n",
       "        </tr>\n",
       "        <tr>\n",
       "            <td>115.44</td> <td>3.6                 </td> <td>5431            </td> <td>23.1        </td> <td>87.5   </td> <td>66.6        </td> <td>5.2      </td>\n",
       "        </tr>\n",
       "        <tr>\n",
       "            <td>69.46 </td> <td>1.8                 </td> <td>5840            </td> <td>10.4        </td> <td>50     </td> <td>88.5        </td> <td>7.6      </td>\n",
       "        </tr>\n",
       "        <tr>\n",
       "            <td>87.56 </td> <td>17.7                </td> <td>7330            </td> <td>14.8        </td> <td>52.6   </td> <td>64.5        </td> <td>7.1      </td>\n",
       "        </tr>\n",
       "        <tr>\n",
       "            <td>65.14 </td> <td>7.3                 </td> <td>4916            </td> <td>12.4        </td> <td>76.2   </td> <td>91.3        </td> <td>0.4      </td>\n",
       "        </tr>\n",
       "        <tr>\n",
       "            <td>46.23 </td> <td>0.5                 </td> <td>5516            </td> <td>12.3        </td> <td>42.3   </td> <td>94.6        </td> <td>3.7      </td>\n",
       "        </tr>\n",
       "        <tr>\n",
       "            <td>50.32 </td> <td>15.8                </td> <td>4750            </td> <td>12          </td> <td>47.9   </td> <td>75          </td> <td>4.6      </td>\n",
       "        </tr>\n",
       "        <tr>\n",
       "            <td>111.82</td> <td>14.9                </td> <td>8618            </td> <td>29.5        </td> <td>82.1   </td> <td>73.6        </td> <td>7.8      </td>\n",
       "        </tr>\n",
       "    </tbody>\n",
       "</table>\n",
       "<p>... (1 rows omitted)</p>"
      ],
      "text/plain": [
       "Asthma | African American (%) | Total Population | Unemployment | Poverty | Hispanic (%) | White (%)\n",
       "60.66  | 0.7                  | 6133             | 12.3         | 72.5    | 91.1         | 5.8\n",
       "91.39  | 16.1                 | 4724             | 13.6         | 76.3    | 82.6         | 0.7\n",
       "94.01  | 10.9                 | 5592             | 15.6         | 75.5    | 74.1         | 7.7\n",
       "115.44 | 3.6                  | 5431             | 23.1         | 87.5    | 66.6         | 5.2\n",
       "69.46  | 1.8                  | 5840             | 10.4         | 50      | 88.5         | 7.6\n",
       "87.56  | 17.7                 | 7330             | 14.8         | 52.6    | 64.5         | 7.1\n",
       "65.14  | 7.3                  | 4916             | 12.4         | 76.2    | 91.3         | 0.4\n",
       "46.23  | 0.5                  | 5516             | 12.3         | 42.3    | 94.6         | 3.7\n",
       "50.32  | 15.8                 | 4750             | 12           | 47.9    | 75           | 4.6\n",
       "111.82 | 14.9                 | 8618             | 29.5         | 82.1    | 73.6         | 7.8\n",
       "... (1 rows omitted)"
      ]
     },
     "execution_count": 14,
     "metadata": {},
     "output_type": "execute_result"
    }
   ],
   "source": [
    "final_ces_table = ces_10_row\n",
    "final_ces_table"
   ]
  },
  {
   "cell_type": "markdown",
   "metadata": {},
   "source": [
    "---\n",
    "\n",
    "### Tables Essentials!\n",
    "\n",
    "For your reference, here's a table of useful `Table` functions:\n",
    "\n",
    "|Name|Example|Purpose|\n",
    "|-|-|-|\n",
    "|`Table`|`Table()`|Create an empty table, usually to extend with data|\n",
    "|`Table.read_table`|`Table.read_table(\"my_data.csv\")`|Create a table from a data file|\n",
    "|`with_columns`|`tbl = Table().with_columns(\"N\", np.arange(5), \"2*N\", np.arange(0, 10, 2))`|Create a copy of a table with more columns|\n",
    "|`column`|`tbl.column(\"N\")`|Create an array containing the elements of a column|\n",
    "|`sort`|`tbl.sort(\"N\")`|Create a copy of a table sorted by the values in a column|\n",
    "|`where`|`tbl.where(\"N\", are.above(2))`|Create a copy of a table with only the rows that match some *predicate*|\n",
    "|`num_rows`|`tbl.num_rows`|Compute the number of rows in a table|\n",
    "|`num_columns`|`tbl.num_columns`|Compute the number of columns in a table|\n",
    "|`select`|`tbl.select(\"N\")`|Create a copy of a table with only some of the columns|\n",
    "|`drop`|`tbl.drop(\"2*N\")`|Create a copy of a table without some of the columns|\n",
    "|`take`|`tbl.take(np.arange(0, 6, 2))`|Create a copy of the table with only the rows whose indices are in the given array|\n",
    "|`join`|`tbl1.join(\"shared_column_name\", tbl2)`|Join together two tables with a common column name\n",
    "|`are.equal_to()`|`tbl.where(\"Popeulation\", are.equal_to(0))`|find values equal to that indicated|\n",
    "|`are.not_equal_to()`|`tbl.where(\"Population\", are.not_equal_to(0))` | find values not including the one indicated|\n",
    "|`are.above()`| `tbl.where(\"AGE\", are.above(30))` | find values greater to that indicated|\n",
    "|`are.below()`| `tbl.where(\"AGE\", are.below(40))` | find values less than that indicated |\n",
    "|`are.between()`| `tbl.where(\"Population\", are.between(18, 60))` | find values between the two indicated |\n",
    "\n",
    "---"
   ]
  },
  {
   "cell_type": "markdown",
   "metadata": {},
   "source": [
    "## Visualizations \n",
    "\n",
    "Now that we have a manageable table we can start making visualizations! Due to the numerical nature of the census table above, let's first try a scatter plot. \n",
    "\n",
    "To create a scatter plot, we need to use the `scatter()` function. The general form is:\n",
    "\n",
    "```python\n",
    "table.scatter(\"column for x axis\", \"column for y axis\")\n",
    "```\n",
    "\n",
    "An example is shown below:"
   ]
  },
  {
   "cell_type": "code",
   "execution_count": 15,
   "metadata": {
    "scrolled": true
   },
   "outputs": [
    {
     "data": {
      "image/png": "[encoded data removed]",
      "text/plain": [
       "<Figure size 360x360 with 1 Axes>"
      ]
     },
     "metadata": {},
     "output_type": "display_data"
    }
   ],
   "source": [
    "final_ces_table.scatter(\"Asthma\", \"Unemployment\") "
   ]
  },
  {
   "cell_type": "markdown",
   "metadata": {},
   "source": [
    "With this data, we can also make a line plot. To do this, we need to use the `plot()` function. This works a lot like `scatter()` where the general form is:\n",
    "\n",
    "```python\n",
    "table.plot(\"x column\", \"y column\")\n",
    "```"
   ]
  },
  {
   "cell_type": "code",
   "execution_count": 16,
   "metadata": {},
   "outputs": [
    {
     "data": {
      "image/png": "[encoded data removed]",
      "text/plain": [
       "<Figure size 432x288 with 1 Axes>"
      ]
     },
     "metadata": {},
     "output_type": "display_data"
    }
   ],
   "source": [
    "final_ces_table.plot(\"Poverty\", \"Asthma\") "
   ]
  },
  {
   "cell_type": "markdown",
   "metadata": {},
   "source": [
    "Now try plotting a graph in the next cell using any of the two columns from the table below! You can play around with different columns and either the scatter( ) or plot( ) function."
   ]
  },
  {
   "cell_type": "code",
   "execution_count": 17,
   "metadata": {},
   "outputs": [
    {
     "data": {
      "text/html": [
       "<table border=\"1\" class=\"dataframe\">\n",
       "    <thead>\n",
       "        <tr>\n",
       "            <th>Asthma</th> <th>African American (%)</th> <th>Total Population</th> <th>Unemployment</th> <th>Poverty</th> <th>Hispanic (%)</th> <th>White (%)</th>\n",
       "        </tr>\n",
       "    </thead>\n",
       "    <tbody>\n",
       "        <tr>\n",
       "            <td>60.66 </td> <td>0.7                 </td> <td>6133            </td> <td>12.3        </td> <td>72.5   </td> <td>91.1        </td> <td>5.8      </td>\n",
       "        </tr>\n",
       "        <tr>\n",
       "            <td>91.39 </td> <td>16.1                </td> <td>4724            </td> <td>13.6        </td> <td>76.3   </td> <td>82.6        </td> <td>0.7      </td>\n",
       "        </tr>\n",
       "        <tr>\n",
       "            <td>94.01 </td> <td>10.9                </td> <td>5592            </td> <td>15.6        </td> <td>75.5   </td> <td>74.1        </td> <td>7.7      </td>\n",
       "        </tr>\n",
       "        <tr>\n",
       "            <td>115.44</td> <td>3.6                 </td> <td>5431            </td> <td>23.1        </td> <td>87.5   </td> <td>66.6        </td> <td>5.2      </td>\n",
       "        </tr>\n",
       "        <tr>\n",
       "            <td>69.46 </td> <td>1.8                 </td> <td>5840            </td> <td>10.4        </td> <td>50     </td> <td>88.5        </td> <td>7.6      </td>\n",
       "        </tr>\n",
       "        <tr>\n",
       "            <td>87.56 </td> <td>17.7                </td> <td>7330            </td> <td>14.8        </td> <td>52.6   </td> <td>64.5        </td> <td>7.1      </td>\n",
       "        </tr>\n",
       "        <tr>\n",
       "            <td>65.14 </td> <td>7.3                 </td> <td>4916            </td> <td>12.4        </td> <td>76.2   </td> <td>91.3        </td> <td>0.4      </td>\n",
       "        </tr>\n",
       "        <tr>\n",
       "            <td>46.23 </td> <td>0.5                 </td> <td>5516            </td> <td>12.3        </td> <td>42.3   </td> <td>94.6        </td> <td>3.7      </td>\n",
       "        </tr>\n",
       "        <tr>\n",
       "            <td>50.32 </td> <td>15.8                </td> <td>4750            </td> <td>12          </td> <td>47.9   </td> <td>75          </td> <td>4.6      </td>\n",
       "        </tr>\n",
       "        <tr>\n",
       "            <td>111.82</td> <td>14.9                </td> <td>8618            </td> <td>29.5        </td> <td>82.1   </td> <td>73.6        </td> <td>7.8      </td>\n",
       "        </tr>\n",
       "    </tbody>\n",
       "</table>\n",
       "<p>... (1 rows omitted)</p>"
      ],
      "text/plain": [
       "Asthma | African American (%) | Total Population | Unemployment | Poverty | Hispanic (%) | White (%)\n",
       "60.66  | 0.7                  | 6133             | 12.3         | 72.5    | 91.1         | 5.8\n",
       "91.39  | 16.1                 | 4724             | 13.6         | 76.3    | 82.6         | 0.7\n",
       "94.01  | 10.9                 | 5592             | 15.6         | 75.5    | 74.1         | 7.7\n",
       "115.44 | 3.6                  | 5431             | 23.1         | 87.5    | 66.6         | 5.2\n",
       "69.46  | 1.8                  | 5840             | 10.4         | 50      | 88.5         | 7.6\n",
       "87.56  | 17.7                 | 7330             | 14.8         | 52.6    | 64.5         | 7.1\n",
       "65.14  | 7.3                  | 4916             | 12.4         | 76.2    | 91.3         | 0.4\n",
       "46.23  | 0.5                  | 5516             | 12.3         | 42.3    | 94.6         | 3.7\n",
       "50.32  | 15.8                 | 4750             | 12           | 47.9    | 75           | 4.6\n",
       "111.82 | 14.9                 | 8618             | 29.5         | 82.1    | 73.6         | 7.8\n",
       "... (1 rows omitted)"
      ]
     },
     "execution_count": 17,
     "metadata": {},
     "output_type": "execute_result"
    }
   ],
   "source": [
    "# run this cell\n",
    "final_ces_table"
   ]
  },
  {
   "cell_type": "code",
   "execution_count": null,
   "metadata": {},
   "outputs": [],
   "source": [
    "# Put your code here!\n",
    "your_plot = ...\n",
    "your_plot"
   ]
  },
  {
   "cell_type": "markdown",
   "metadata": {},
   "source": [
    "Though a bar may be better. Bar graphs follow the same formula as scatter plots and line graphs above, with the general form:\n",
    "\n",
    "```python\n",
    "table.bar(\"x axis\", \"y axis\")\n",
    "```"
   ]
  },
  {
   "cell_type": "code",
   "execution_count": 16,
   "metadata": {},
   "outputs": [
    {
     "data": {
      "image/png": "[encoded data removed]",
      "text/plain": [
       "<Figure size 432x288 with 1 Axes>"
      ]
     },
     "metadata": {},
     "output_type": "display_data"
    }
   ],
   "source": [
    "final_ces_table.bar(\"Asthma\", \"African American (%)\") "
   ]
  },
  {
   "cell_type": "markdown",
   "metadata": {},
   "source": [
    "You can also use the functino `barh()` instead of `bar()` in order to flip the bar graph horizontally. Sometimes, this makes for a cleaner visualization."
   ]
  },
  {
   "cell_type": "code",
   "execution_count": 17,
   "metadata": {},
   "outputs": [
    {
     "data": {
      "image/png": "[encoded data removed]",
      "text/plain": [
       "<Figure size 432x288 with 1 Axes>"
      ]
     },
     "metadata": {},
     "output_type": "display_data"
    }
   ],
   "source": [
    "ces_data.hist(\"Asthma\")"
   ]
  },
  {
   "cell_type": "markdown",
   "metadata": {},
   "source": [
    "---\n",
    "\n",
    "## SUMMARY \n",
    "\n",
    "### You've learned a lot in this module! Let's look back on the key parts. \n",
    "\n",
    "- To import data from a .csv/.txt file, we write `Table.read_table(\"file_name\")`.\n",
    "\n",
    "- To create our own table, we write `Table( ).with_columns(\"Column Name\", array_name, . . .)` . \n",
    "\n",
    "- To count number of rows, we use `table_name.num_rows`.\n",
    "\n",
    "- To count number of columns, we use `table_name.num_columns`.\n",
    "\n",
    "- To create a new table with only the columns indicated in the parameters, we use `table_name.select(\"COLUMN NAME\", ...)`. \n",
    "\n",
    "- To create a new table without the columns indicated in the parameters, we use `table_name.drop(\"COLUMN NAME\", ...)`. \n",
    "\n",
    "- To create a table with only certain values, we can use `table_name.where(column_name, predicate)`.\n",
    "\n",
    "- To create a new table with indicated rows from the original table, we use `table_name.take([index 1, index 2, . . . ])`. Remember in Python indices start at 0!\n",
    "\n",
    "- To create a scatter plot, we use `table.scatter(column for x axis, column for y axis)`.\n",
    "\n",
    "- To create a line plot, we use `table.plot(x column, y column)`.\n",
    "\n",
    "- To make a bar graphs, we can use either `table.bar(x column, y column)` or `table.barh(x column, y column)`. \n",
    "\n",
    "- To make a histogram, we use `table.hist(x axis, bins(optional), unit(optional))`. \n",
    "\n",
    "- To merge tables, we use either `append` or `append_column`.\n",
    "\n",
    "- To merge two tables with a common column name we use the `join` method.\n",
    "\n",
    "---\n",
    "\n",
    "With just some simple code, we were able to do an incredible amount of data analysis! Play around with the examples until you feel comfortable with the content of this notebook. We will be using notebooks to analyze your own data sets in the future! Please ask if you have questions!\n",
    "\n",
    "\n",
    "\n",
    "## Peer Consulting Office Hours\n",
    "If you had trouble with any content in this notebook, Data Peer Consultants are here to help! You can check for availability of Peer Consultants in the **first floor of Moffitt library** with this detailed [Office Hours schedule](https://data.berkeley.edu/education/peer-consulting). \n",
    "\n",
    "\n",
    "**Congratulations!** You have completed your first lab and introduction to Jupyter Notebook! In the next lecture and lab, we will use these new skills to explore statistical concepts like correlation and prediction. Stay tuned!\n",
    "\n",
    "---\n",
    "\n",
    "**Bibliography**\n",
    "\n",
    "Content adapted from Psych167AC module: https://github.com/ds-modules/PSYCH-167AC/blob/master/01-Intro-to-Importing-Data-Tables-Graphs.ipynb\n",
    "\n",
    "*Notebook Developed by: Alleanna Clark*"
   ]
  },
  {
   "cell_type": "code",
   "execution_count": null,
   "metadata": {},
   "outputs": [],
   "source": []
  }
 ],
 "metadata": {
  "anaconda-cloud": {},
  "kernelspec": {
   "display_name": "Python 3",
   "language": "python",
   "name": "python3"
  },
  "language_info": {
   "codemirror_mode": {
    "name": "ipython",
    "version": 3
   },
   "file_extension": ".py",
   "mimetype": "text/x-python",
   "name": "python",
   "nbconvert_exporter": "python",
   "pygments_lexer": "ipython3",
   "version": "3.6.5"
  }
 },
 "nbformat": 4,
 "nbformat_minor": 2
}
