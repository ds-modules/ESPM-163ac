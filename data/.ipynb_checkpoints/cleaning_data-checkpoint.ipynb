{
 "cells": [
  {
   "cell_type": "code",
   "execution_count": 1,
   "metadata": {},
   "outputs": [],
   "source": [
    "import pandas as pd"
   ]
  },
  {
   "cell_type": "code",
   "execution_count": 2,
   "metadata": {},
   "outputs": [],
   "source": [
    "df = pd.read_csv('./data/ces_data.csv')\n",
    "df = df.dropna()"
   ]
  },
  {
   "cell_type": "code",
   "execution_count": 3,
   "metadata": {},
   "outputs": [
    {
     "data": {
      "text/plain": [
       "7557"
      ]
     },
     "execution_count": 3,
     "metadata": {},
     "output_type": "execute_result"
    }
   ],
   "source": [
    "len(df)"
   ]
  },
  {
   "cell_type": "code",
   "execution_count": 6,
   "metadata": {},
   "outputs": [
    {
     "data": {
      "text/plain": [
       "Index(['Census Tract', 'CES 3.0 Score', 'CES 3.0 Percentile',\n",
       "       'CES 3.0 Percentile Range', 'Total Population', 'California County',\n",
       "       'Children < 10 (%)', 'Pop 11-64 years (%)', 'Elderly > 65 (%)',\n",
       "       'Hispanic (%)', 'White (%)', 'African American (%)',\n",
       "       'Native American (%)', 'Asian American (%)', 'Other (%)', 'ZIP',\n",
       "       'Nearby City \\r\\n(to help approximate location only)', 'Longitude',\n",
       "       'Latitude', ' CES 3.0 Percentile', 'CES 3.0 \\r\\nPercentile Range',\n",
       "       'SB 535 Disadvantaged Community', 'Ozone', 'Ozone Pctl', 'PM2.5',\n",
       "       'PM2.5 Pctl', 'Diesel PM', 'Diesel PM Pctl', 'Drinking Water',\n",
       "       'Drinking Water Pctl', 'Pesticides', 'Pesticides Pctl', 'Tox. Release',\n",
       "       'Tox. Release Pctl', 'Traffic', 'Traffic Pctl', 'Cleanup Sites',\n",
       "       'Cleanup Sites Pctl', 'Groundwater Threats', 'Groundwater Threats Pctl',\n",
       "       'Haz. Waste', 'Haz. Waste Pctl', 'Imp. Water Bodies',\n",
       "       'Imp. Water Bodies Pctl', 'Solid Waste', 'Solid Waste Pctl',\n",
       "       'Pollution Burden', 'Pollution Burden Score', 'Pollution Burden Pctl',\n",
       "       'Asthma', 'Asthma Pctl', 'Low Birth Weight', 'Low Birth Weight Pctl',\n",
       "       'Cardiovascular Disease', 'Cardiovascular Disease Pctl', 'Education',\n",
       "       'Education Pctl', 'Linguistic Isolation', 'Linguistic Isolation Pctl',\n",
       "       'Poverty', 'Poverty Pctl', 'Unemployment', 'Unemployment Pctl',\n",
       "       'Housing Burden', 'Housing Burden Pctl', 'Pop. Char. ',\n",
       "       'Pop. Char. Score', 'Pop. Char. Pctl'],\n",
       "      dtype='object')"
      ]
     },
     "execution_count": 6,
     "metadata": {},
     "output_type": "execute_result"
    }
   ],
   "source": [
    "df.columns"
   ]
  },
  {
   "cell_type": "code",
   "execution_count": 13,
   "metadata": {},
   "outputs": [],
   "source": [
    "df = df.loc[:,['Census Tract', 'Hispanic (%)', 'White (%)', 'African American (%)', 'Native American (%)', 'Asian American (%)', \n",
    "          'Other (%)', 'Unemployment', 'Poverty','CES 3.0 Score', 'Ozone', 'Pesticides', 'Tox. Release', \n",
    "          'Asthma', 'Cardiovascular Disease', 'Low Birth Weight']]"
   ]
  },
  {
   "cell_type": "code",
   "execution_count": 14,
   "metadata": {},
   "outputs": [],
   "source": [
    "df.to_csv?"
   ]
  },
  {
   "cell_type": "code",
   "execution_count": 15,
   "metadata": {},
   "outputs": [],
   "source": [
    "df.to_csv('./cleaned_data_new.csv', index = False)"
   ]
  },
  {
   "cell_type": "code",
   "execution_count": null,
   "metadata": {},
   "outputs": [],
   "source": []
  }
 ],
 "metadata": {
  "kernelspec": {
   "display_name": "Python 3",
   "language": "python",
   "name": "python3"
  },
  "language_info": {
   "codemirror_mode": {
    "name": "ipython",
    "version": 3
   },
   "file_extension": ".py",
   "mimetype": "text/x-python",
   "name": "python",
   "nbconvert_exporter": "python",
   "pygments_lexer": "ipython3",
   "version": "3.6.5"
  }
 },
 "nbformat": 4,
 "nbformat_minor": 2
}
