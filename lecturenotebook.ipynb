{
 "cells": [
  {
   "cell_type": "markdown",
   "metadata": {},
   "source": [
    "# Correlation - Lecture"
   ]
  },
  {
   "cell_type": "code",
   "execution_count": 2,
   "metadata": {},
   "outputs": [
    {
     "name": "stdout",
     "output_type": "stream",
     "text": [
      "Requirement already satisfied: datascience in /Library/Frameworks/Python.framework/Versions/3.6/lib/python3.6/site-packages (0.10.6)\n",
      "Requirement already satisfied: folium==0.2.1 in /Library/Frameworks/Python.framework/Versions/3.6/lib/python3.6/site-packages (from datascience) (0.2.1)\n",
      "Requirement already satisfied: sphinx in /Library/Frameworks/Python.framework/Versions/3.6/lib/python3.6/site-packages (from datascience) (1.8.1)\n",
      "Requirement already satisfied: setuptools in /Library/Frameworks/Python.framework/Versions/3.6/lib/python3.6/site-packages (from datascience) (34.3.2)\n",
      "Requirement already satisfied: pytest in /Library/Frameworks/Python.framework/Versions/3.6/lib/python3.6/site-packages (from datascience) (3.8.2)\n",
      "Requirement already satisfied: coverage==3.7.1 in /Library/Frameworks/Python.framework/Versions/3.6/lib/python3.6/site-packages (from datascience) (3.7.1)\n",
      "Requirement already satisfied: coveralls==0.5 in /Library/Frameworks/Python.framework/Versions/3.6/lib/python3.6/site-packages (from datascience) (0.5)\n",
      "Requirement already satisfied: Jinja2 in /Library/Frameworks/Python.framework/Versions/3.6/lib/python3.6/site-packages (from folium==0.2.1->datascience) (2.10)\n",
      "Requirement already satisfied: sphinxcontrib-websupport in /Library/Frameworks/Python.framework/Versions/3.6/lib/python3.6/site-packages (from sphinx->datascience) (1.1.0)\n",
      "Requirement already satisfied: docutils>=0.11 in /Library/Frameworks/Python.framework/Versions/3.6/lib/python3.6/site-packages (from sphinx->datascience) (0.14)\n",
      "Requirement already satisfied: six>=1.5 in /Library/Frameworks/Python.framework/Versions/3.6/lib/python3.6/site-packages (from sphinx->datascience) (1.10.0)\n",
      "Requirement already satisfied: imagesize in /Library/Frameworks/Python.framework/Versions/3.6/lib/python3.6/site-packages (from sphinx->datascience) (1.1.0)\n",
      "Requirement already satisfied: requests>=2.0.0 in /Library/Frameworks/Python.framework/Versions/3.6/lib/python3.6/site-packages (from sphinx->datascience) (2.19.1)\n",
      "Requirement already satisfied: alabaster<0.8,>=0.7 in /Library/Frameworks/Python.framework/Versions/3.6/lib/python3.6/site-packages (from sphinx->datascience) (0.7.12)\n",
      "Requirement already satisfied: packaging in /Library/Frameworks/Python.framework/Versions/3.6/lib/python3.6/site-packages (from sphinx->datascience) (16.8)\n",
      "Requirement already satisfied: babel!=2.0,>=1.3 in /Library/Frameworks/Python.framework/Versions/3.6/lib/python3.6/site-packages (from sphinx->datascience) (2.6.0)\n",
      "Requirement already satisfied: Pygments>=2.0 in /Library/Frameworks/Python.framework/Versions/3.6/lib/python3.6/site-packages (from sphinx->datascience) (2.2.0)\n",
      "Requirement already satisfied: snowballstemmer>=1.1 in /Library/Frameworks/Python.framework/Versions/3.6/lib/python3.6/site-packages (from sphinx->datascience) (1.2.1)\n",
      "Requirement already satisfied: appdirs>=1.4.0 in /Library/Frameworks/Python.framework/Versions/3.6/lib/python3.6/site-packages (from setuptools->datascience) (1.4.3)\n",
      "Requirement already satisfied: py>=1.5.0 in /Library/Frameworks/Python.framework/Versions/3.6/lib/python3.6/site-packages (from pytest->datascience) (1.6.0)\n",
      "Requirement already satisfied: atomicwrites>=1.0 in /Library/Frameworks/Python.framework/Versions/3.6/lib/python3.6/site-packages (from pytest->datascience) (1.2.1)\n",
      "Requirement already satisfied: attrs>=17.4.0 in /Library/Frameworks/Python.framework/Versions/3.6/lib/python3.6/site-packages (from pytest->datascience) (18.2.0)\n",
      "Requirement already satisfied: pluggy>=0.7 in /Library/Frameworks/Python.framework/Versions/3.6/lib/python3.6/site-packages (from pytest->datascience) (0.7.1)\n",
      "Requirement already satisfied: more-itertools>=4.0.0 in /Library/Frameworks/Python.framework/Versions/3.6/lib/python3.6/site-packages (from pytest->datascience) (4.3.0)\n",
      "Requirement already satisfied: PyYAML>=3.10 in /Library/Frameworks/Python.framework/Versions/3.6/lib/python3.6/site-packages (from coveralls==0.5->datascience) (3.13)\n",
      "Requirement already satisfied: docopt>=0.6.1 in /Library/Frameworks/Python.framework/Versions/3.6/lib/python3.6/site-packages (from coveralls==0.5->datascience) (0.6.2)\n",
      "Requirement already satisfied: MarkupSafe>=0.23 in /Library/Frameworks/Python.framework/Versions/3.6/lib/python3.6/site-packages (from Jinja2->folium==0.2.1->datascience) (1.0)\n",
      "Requirement already satisfied: urllib3<1.24,>=1.21.1 in /Library/Frameworks/Python.framework/Versions/3.6/lib/python3.6/site-packages (from requests>=2.0.0->sphinx->datascience) (1.23)\n",
      "Requirement already satisfied: certifi>=2017.4.17 in /Library/Frameworks/Python.framework/Versions/3.6/lib/python3.6/site-packages (from requests>=2.0.0->sphinx->datascience) (2018.8.24)\n",
      "Requirement already satisfied: idna<2.8,>=2.5 in /Library/Frameworks/Python.framework/Versions/3.6/lib/python3.6/site-packages (from requests>=2.0.0->sphinx->datascience) (2.7)\n",
      "Requirement already satisfied: chardet<3.1.0,>=3.0.2 in /Library/Frameworks/Python.framework/Versions/3.6/lib/python3.6/site-packages (from requests>=2.0.0->sphinx->datascience) (3.0.4)\n",
      "Requirement already satisfied: pyparsing in /Library/Frameworks/Python.framework/Versions/3.6/lib/python3.6/site-packages (from packaging->sphinx->datascience) (2.2.0)\n",
      "Requirement already satisfied: pytz>=0a in /Library/Frameworks/Python.framework/Versions/3.6/lib/python3.6/site-packages (from babel!=2.0,>=1.3->sphinx->datascience) (2018.5)\n",
      "Requirement already satisfied: numpy in /Library/Frameworks/Python.framework/Versions/3.6/lib/python3.6/site-packages (1.15.3)\n",
      "Requirement already satisfied: matplotlib in /Library/Frameworks/Python.framework/Versions/3.6/lib/python3.6/site-packages (3.0.0)\n",
      "Requirement already satisfied: pyparsing!=2.0.4,!=2.1.2,!=2.1.6,>=2.0.1 in /Library/Frameworks/Python.framework/Versions/3.6/lib/python3.6/site-packages (from matplotlib) (2.2.0)\n",
      "Requirement already satisfied: python-dateutil>=2.1 in /Library/Frameworks/Python.framework/Versions/3.6/lib/python3.6/site-packages (from matplotlib) (2.7.3)\n",
      "Requirement already satisfied: cycler>=0.10 in /Library/Frameworks/Python.framework/Versions/3.6/lib/python3.6/site-packages (from matplotlib) (0.10.0)\n",
      "Requirement already satisfied: kiwisolver>=1.0.1 in /Library/Frameworks/Python.framework/Versions/3.6/lib/python3.6/site-packages (from matplotlib) (1.0.1)\n",
      "Requirement already satisfied: numpy>=1.10.0 in /Library/Frameworks/Python.framework/Versions/3.6/lib/python3.6/site-packages (from matplotlib) (1.15.3)\n",
      "Requirement already satisfied: six>=1.5 in /Library/Frameworks/Python.framework/Versions/3.6/lib/python3.6/site-packages (from python-dateutil>=2.1->matplotlib) (1.10.0)\n",
      "Requirement already satisfied: setuptools in /Library/Frameworks/Python.framework/Versions/3.6/lib/python3.6/site-packages (from kiwisolver>=1.0.1->matplotlib) (34.3.2)\n",
      "Requirement already satisfied: packaging>=16.8 in /Library/Frameworks/Python.framework/Versions/3.6/lib/python3.6/site-packages (from setuptools->kiwisolver>=1.0.1->matplotlib) (16.8)\n",
      "Requirement already satisfied: appdirs>=1.4.0 in /Library/Frameworks/Python.framework/Versions/3.6/lib/python3.6/site-packages (from setuptools->kiwisolver>=1.0.1->matplotlib) (1.4.3)\n",
      "Collecting statsmodels.formula.api\n",
      "\u001b[31m  Could not find a version that satisfies the requirement statsmodels.formula.api (from versions: )\u001b[0m\n",
      "\u001b[31mNo matching distribution found for statsmodels.formula.api\u001b[0m\n"
     ]
    }
   ],
   "source": [
    "!pip install datascience\n",
    "!pip install numpy\n",
    "!pip install matplotlib\n",
    "!pip install statsmodels.formula.api\n",
    "import datascience\n",
    "import numpy as np\n",
    "import pandas\n",
    "import matplotlib.pyplot as plots\n",
    "import scipy as sp\n",
    "\n",
    "%matplotlib inline"
   ]
  },
  {
   "cell_type": "markdown",
   "metadata": {},
   "source": [
    "Correlation is used to test relationships between quantitative variables or categorical variables. In other words, it’s a measure of how things are related. The study of how variables are correlated is called correlation analysis.\n",
    "\n",
    "Some examples of data that have a high correlation:\n",
    "\n",
    "    Your caloric intake and your weight.\n",
    "    Your eye color and your relatives’ eye colors.\n",
    "    The amount of time your study and your GPA.\n",
    "\n",
    "Some examples of data that have a low correlation (or none at all):\n",
    "\n",
    "    Your sexual preference and the type of cereal you eat.\n",
    "    A dog’s name and the type of dog biscuit they prefer.\n",
    "    The cost of a car wash and how long it takes to buy a soda inside the station.\n",
    "\n",
    "Correlations are useful because if you can find out what relationship variables have, you can make predictions about future behavior. Knowing what the future holds is very important in the social sciences like government and healthcare. Businesses also use these statistics for budgets and business plans."
   ]
  },
  {
   "cell_type": "code",
   "execution_count": null,
   "metadata": {},
   "outputs": [],
   "source": []
  }
 ],
 "metadata": {
  "kernelspec": {
   "display_name": "Python 3",
   "language": "python",
   "name": "python3"
  },
  "language_info": {
   "codemirror_mode": {
    "name": "ipython",
    "version": 3
   },
   "file_extension": ".py",
   "mimetype": "text/x-python",
   "name": "python",
   "nbconvert_exporter": "python",
   "pygments_lexer": "ipython3",
   "version": "3.6.0"
  }
 },
 "nbformat": 4,
 "nbformat_minor": 2
}
