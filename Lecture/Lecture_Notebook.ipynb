{
 "cells": [
  {
   "cell_type": "markdown",
   "metadata": {},
   "source": [
    "# [ESPM-163ac] Lecture - Introduction to Prediction!\n",
    "\n",
    "*Estimated Time: 50 minutes*\n",
    "\n",
    "Now that you have had an introduction to programming, we are going to start using these tools to explore our dataset!"
   ]
  },
  {
   "cell_type": "code",
   "execution_count": 1,
   "metadata": {},
   "outputs": [],
   "source": [
    "# These are tools we will use later. Just run the cell.\n",
    "import numpy as np\n",
    "import matplotlib.pyplot as plots\n",
    "from datascience import *\n",
    "import statsmodels.formula.api as sm\n",
    "%matplotlib inline \n",
    "plots.style.use(\"fivethirtyeight\")"
   ]
  },
  {
   "cell_type": "markdown",
   "metadata": {},
   "source": [
    "## 1. Correlation\n",
    "\n",
    "Correlation is used to test relationships between quantitative variables or categorical variables. In other words, it’s a measure of how things are related. The study of how variables are correlated is called correlation analysis.\n",
    "\n",
    "Some examples of data that have a high correlation:\n",
    "\n",
    "    Your caloric intake vs. your weight.\n",
    "    Your eye color vs. your relatives’ eye colors.\n",
    "    The amount of time you study vs. your GPA.\n",
    "    Alcohol consumed vs. your blood alcohol content.\n",
    "\n",
    "Some examples of data that have a low correlation (or none at all):\n",
    "\n",
    "    Your sexual preference vs. the type of cereal you eat.\n",
    "    A dog’s name vs. the type of dog biscuit they prefer.\n",
    "    The cost of a car wash vs. how long it takes to buy a soda inside the station.\n",
    "\n",
    "Correlations are useful because if you can find out what relationship variables have, you can make predictions about future behavior. Knowing what the future holds is very important in the social sciences like government and healthcare.\n",
    "\n",
    "You make decisions based on relationships of two events all the time: if it's 2pm on a Thursday of Deadweek, you predict the number of seats avaiable in Moffitt Floor 5 would be close to none and would think twice about trying your luck there. As simple as this is, this is correlation and prediction at work: time of semester vs. the number of seats available in Moffitt Floor 5. This is exacltly what we are going in this lecture -- **the correlation coefficient simply assigns a number to the *type* and *strength* of a relationship between two events**."
   ]
  },
  {
   "cell_type": "markdown",
   "metadata": {},
   "source": [
    "The **correlation coefficient** ( r ) puts a value to the relationship and shows how strong it is. The value is between -1 and 1 where 0 is no relationship, -1 is a perfect negative relationship, and 1 is a perfect positive relationship. Correlation is also necessary for regression (which we will get to later)."
   ]
  },
  {
   "cell_type": "markdown",
   "metadata": {},
   "source": [
    "![image](../images/correlation-examples.svg)"
   ]
  },
  {
   "cell_type": "markdown",
   "metadata": {},
   "source": [
    "If we wanted to look at the relationship between two of the variables in our dataset, we could calculate the correlation. For example, asking how race is related to a particular health factor, such as asthma."
   ]
  },
  {
   "cell_type": "code",
   "execution_count": 2,
   "metadata": {},
   "outputs": [
    {
     "data": {
      "text/html": [
       "<table border=\"1\" class=\"dataframe\">\n",
       "    <thead>\n",
       "        <tr>\n",
       "            <th>census_tract</th> <th>hispanic</th> <th>white</th> <th>african_american</th> <th>native_american</th> <th>asian_american</th> <th>other</th> <th>unemployment</th> <th>poverty</th> <th>ces_pollution_score</th> <th>ozone</th> <th>pesticides</th> <th>tox_release</th> <th>asthma</th> <th>cardiovascular_disease</th> <th>low_birth_weight</th>\n",
       "        </tr>\n",
       "    </thead>\n",
       "    <tbody>\n",
       "        <tr>\n",
       "            <td>6.019e+09   </td> <td>65.3    </td> <td>4.2  </td> <td>24.6            </td> <td>0.5            </td> <td>3.5           </td> <td>1.8  </td> <td>17.6        </td> <td>76.3   </td> <td>94.09              </td> <td>0.065</td> <td>2.75      </td> <td>18552      </td> <td>131.64</td> <td>14.13                 </td> <td>7.44            </td>\n",
       "        </tr>\n",
       "        <tr>\n",
       "            <td>6.071e+09   </td> <td>91.1    </td> <td>5.8  </td> <td>0.7             </td> <td>0.3            </td> <td>1.4           </td> <td>0.7  </td> <td>12.3        </td> <td>72.5   </td> <td>90.68              </td> <td>0.062</td> <td>1.37      </td> <td>7494.24    </td> <td>60.66 </td> <td>12.94                 </td> <td>7.04            </td>\n",
       "        </tr>\n",
       "        <tr>\n",
       "            <td>6.019e+09   </td> <td>63.6    </td> <td>5.3  </td> <td>18.9            </td> <td>0.6            </td> <td>9.8           </td> <td>1.8  </td> <td>16.1        </td> <td>86.8   </td> <td>85.97              </td> <td>0.062</td> <td>3.03      </td> <td>12454.9    </td> <td>142.12</td> <td>14.96                 </td> <td>10.16           </td>\n",
       "        </tr>\n",
       "        <tr>\n",
       "            <td>6.077e+09   </td> <td>57.4    </td> <td>6    </td> <td>12.5            </td> <td>0.3            </td> <td>20.9          </td> <td>2.8  </td> <td>19.6        </td> <td>61.3   </td> <td>82.49              </td> <td>0.046</td> <td>12.93     </td> <td>2387.78    </td> <td>142.17</td> <td>14.72                 </td> <td>6.23            </td>\n",
       "        </tr>\n",
       "        <tr>\n",
       "            <td>6.019e+09   </td> <td>71.8    </td> <td>21.4 </td> <td>1.2             </td> <td>0.5            </td> <td>4.5           </td> <td>0.6  </td> <td>18.6        </td> <td>66.4   </td> <td>82.03              </td> <td>0.065</td> <td>3518.41   </td> <td>21790.7    </td> <td>90.48 </td> <td>12.82                 </td> <td>4.5             </td>\n",
       "        </tr>\n",
       "    </tbody>\n",
       "</table>\n",
       "<p>... (7552 rows omitted)</p>"
      ],
      "text/plain": [
       "<IPython.core.display.HTML object>"
      ]
     },
     "metadata": {},
     "output_type": "display_data"
    }
   ],
   "source": [
    "clean_ces_data = Table.read_table(\"../data/cleaned_data_new.csv\")\n",
    "clean_ces_data.show(5)"
   ]
  },
  {
   "cell_type": "code",
   "execution_count": 3,
   "metadata": {},
   "outputs": [
    {
     "data": {
      "image/png": "[encoded data removed]",
      "text/plain": [
       "<Figure size 360x360 with 1 Axes>"
      ]
     },
     "metadata": {},
     "output_type": "display_data"
    }
   ],
   "source": [
    "clean_ces_data.scatter(\"ces_pollution_score\", \"asthma\", alpha = .18, s = 10)"
   ]
  },
  {
   "cell_type": "markdown",
   "metadata": {},
   "source": [
    "#### Based on this scatter plot, what do you think the r-value is?\n",
    "In other words, about how closely are pollution and asthma related? Compare this graph with the charts above to help you identify the **type** (Positive? Negative?) and **strength** (value) of the relationship."
   ]
  },
  {
   "cell_type": "markdown",
   "metadata": {},
   "source": [
    "*Your Guess Here*"
   ]
  },
  {
   "cell_type": "markdown",
   "metadata": {},
   "source": [
    "#### Correlation Function!\n",
    "\n",
    "To see how well your guess matches the actual r-value, we can use the `correlation` function defined below. For the purposes of this lecture on your lab, don't worry about **how** we calculate correlation. If you're interested in the math behind the calculation, take an into to statistics class (Stat 20, Data 8, etc)!\n",
    "\n",
    "Read how to **use** the function (written in red, under the `def` statement). We'll use this function to calculate the actual correlation coefficient between the pollution score and asthma. Remember:\n",
    "* `Parameters` tell you what goes **into** the function\n",
    "* `Returns` tells you what the function **outputs**\n",
    "* `Example` provides an example of the function in use"
   ]
  },
  {
   "cell_type": "code",
   "execution_count": 4,
   "metadata": {},
   "outputs": [],
   "source": [
    "#This is a helper function we use to define the correlation equation: you can ignore this for the purposes of this class\n",
    "def standard_units(xyz): \n",
    "    return (xyz - np.mean(xyz))/np.std(xyz) "
   ]
  },
  {
   "cell_type": "code",
   "execution_count": 5,
   "metadata": {},
   "outputs": [],
   "source": [
    "#Read the doc string for this function!\n",
    "def correlation(table, label_x, label_y):\n",
    "    \"\"\"Calculates the correlation coefficient between two variables in a table\n",
    "    \n",
    "    Parameters\n",
    "    ----------\n",
    "    table:\n",
    "        The data table containing the column to be repeated.\n",
    "    label_x: \n",
    "        The the name of a column (in quotes) of the table containing one of the variables of interest\n",
    "    label_y: \n",
    "        The the name of another column (in quotes) of the table containing the other variables of interest\n",
    "        \n",
    "    Returns\n",
    "    -------\n",
    "    int\n",
    "        A single numeric value which is the correlation coefficient between `label_x` and `label_y`\n",
    "        \n",
    "    Example\n",
    "    -------\n",
    "    >>> correlation(clean_ces_data, 'unemployment', 'poverty')\n",
    "    \n",
    "    0.6046862173005914    \n",
    "    \"\"\"\n",
    "    return np.mean(standard_units(table.column(label_x))*standard_units(table.column(label_y)))"
   ]
  },
  {
   "cell_type": "code",
   "execution_count": 6,
   "metadata": {},
   "outputs": [
    {
     "data": {
      "text/plain": [
       "0.5452274394377603"
      ]
     },
     "execution_count": 6,
     "metadata": {},
     "output_type": "execute_result"
    }
   ],
   "source": [
    "#Run me to find the actual correlation coefficient!\n",
    "correlation(clean_ces_data, 'ces_pollution_score', 'asthma')"
   ]
  },
  {
   "cell_type": "markdown",
   "metadata": {},
   "source": [
    "It's certainly not perfect -- if you are given a pollution score, you can't say that the number of reported asthma attacks **will definitely** be \\_\\_. However, you can see (both from the plot and from the calculated r-value) that there is a positive relationship between a census tract's pollution score and the number of reported asthma attacks."
   ]
  },
  {
   "cell_type": "markdown",
   "metadata": {},
   "source": [
    "---\n",
    "\n",
    "## 2. Predicting with Simple Linear Regression\n",
    "In this section, we'll explore the correlation coefficient in the context of making predictions. To start, let's explore some made up data to get an intuitive idea of what Linear Regression is.\n",
    "\n",
    "### Quick Demo:\n",
    "Run the cell block below."
   ]
  },
  {
   "cell_type": "code",
   "execution_count": 7,
   "metadata": {},
   "outputs": [],
   "source": [
    "###*** Run this Code Block ONCE: ***###\n",
    "noise_highr = np.random.normal(0,.2,50)\n",
    "noise_lowr = np.random.normal(0,.95,50)\n",
    "noise_rand = np.random.normal(0, 1.65, 50)\n",
    "noise_rand = np.array([abs(v) if abs(v)<4 else 0 for v in noise_rand])\n",
    "x = np.linspace(2,4.5,50)\n",
    "\n",
    "demo = Table().with_columns('x', x,\n",
    "                    'y_highr', .8*x + noise_highr,\n",
    "                    'y_lowr', .8*x + noise_lowr,\n",
    "                    'y_rand', noise_rand)"
   ]
  },
  {
   "cell_type": "code",
   "execution_count": 8,
   "metadata": {},
   "outputs": [
    {
     "data": {
      "image/png": "[encoded data removed]",
      "text/plain": [
       "<Figure size 360x360 with 1 Axes>"
      ]
     },
     "metadata": {},
     "output_type": "display_data"
    }
   ],
   "source": [
    "# Interactive Cell: Run as many times as you'd like\n",
    "demo.scatter('x','y_highr', fit_line = True);\n",
    "plots.ylabel('Y: College GPA');\n",
    "plots.xlabel('X: High School GPA');"
   ]
  },
  {
   "cell_type": "markdown",
   "metadata": {},
   "source": [
    "As you can see, Simple Linear Regression is really just a term for **making predictions using a line**.\n",
    "\n",
    "**Question**: Given the plot and regression line above, how would you predict a student's College GPA given that the student had a High School GPA of 3.0?"
   ]
  },
  {
   "cell_type": "markdown",
   "metadata": {},
   "source": [
    "*YOUR ANSWER HERE*"
   ]
  },
  {
   "cell_type": "markdown",
   "metadata": {},
   "source": [
    "\n",
    "### Equation of our Line!\n",
    "\n",
    "To get the actual value of predicted Y value for each X value, we need the equation of the line!\n",
    "From you high school algebra class, remember that any line can be written in the form: \n",
    "\n",
    "<span style=\"color:navy\">$$Y = mX + b$$</span>\n",
    "\n",
    "In the example above:\n",
    "- `Y` is what you are predicting (e.g. University GPA) and\n",
    "- `X` is what you are basing the prediction off of (e.g. High School GPA)\n",
    "\n",
    "So, all we need to make predictions are two values:\n",
    "- the slope (`m`) and\n",
    "- the intercept (`b`) of the line!\n",
    "\n",
    "\n",
    "In a moment, we will define functions to evaluate the slope and intercept of the line for some given data. Before that, let's build some intuition on what these two values signify.\n",
    "\n",
    "If you recall from your algebra classes:\n",
    "\n",
    "- the y-intercept  is just what the Y-value is expected to be when X = 0 (where the line crosses the y-axis), and \n",
    "- the **slope** tell you how much the Y-value changes when the X-value changes by 1. \n",
    "\n",
    "In other words, the **slope** is highly dependent on the **relationship** between X and Y -- it is dependent on the **the correlation coefficient**.\n",
    "\n",
    "_**We need to find the correlation coefficient in order to find the equation for the regression line.**_\n",
    "\n",
    "You don't need to know how any of the following functions are defined: we've given you everything you need to calculate the slope and intercept of the regression line -- all you need to do is to **run the cell below**, and we will show you how to use the functions."
   ]
  },
  {
   "cell_type": "code",
   "execution_count": null,
   "metadata": {},
   "outputs": [],
   "source": [
    "#this is the same correlation function we defined above, here again to remind you we use them to calculate slope and intercept\n",
    "def correlation(table, label_x, label_y):\n",
    "    return np.mean(standard_units(table.column(label_x))*standard_units(table.column(label_y)))\n",
    "\n",
    "# We use these function to construct the regression line. As you can see, correlation is used to \n",
    "# evaluate the slope of the regression line below.\n",
    "def slope(table, label_x, label_y):\n",
    "    r = correlation(table, label_x, label_y) # correlation function used to calculate slope!\n",
    "    return r*np.std(table.column(label_y))/np.std(table.column(label_x))\n",
    "\n",
    "def intercept(table, label_x, label_y):\n",
    "    return np.mean(table.column(label_y)) - slope(table, label_x, label_y)*np.mean(table.column(label_x))"
   ]
  },
  {
   "cell_type": "markdown",
   "metadata": {},
   "source": [
    "---\n",
    "\n",
    "## Back to our data set"
   ]
  },
  {
   "cell_type": "markdown",
   "metadata": {},
   "source": [
    "Given our CalEnviroScreen table, our goal is to discover something about the data that will enhance our understanding of a population. Correlation allows us to determine a preliminary relationship between two variables (such as **asthma** and **race**) and allows us to continue with regression, which explores the relationship further and gives us a best-fit line. In the next lab, we will be putting these skills to use to calculate the correlation coefficients and regression lines with factors from our dataset. We will do this using functions that calculate it for us! They will look something like this:"
   ]
  },
  {
   "cell_type": "code",
   "execution_count": null,
   "metadata": {},
   "outputs": [],
   "source": [
    "clean_ces_data.show()"
   ]
  },
  {
   "cell_type": "code",
   "execution_count": null,
   "metadata": {},
   "outputs": [],
   "source": [
    "# This calculates the slope of our regression line.\n",
    "slope_of_reg_line = slope(clean_ces_data, \"ces_pollution_score\", \"asthma\")\n",
    "slope_of_reg_line"
   ]
  },
  {
   "cell_type": "code",
   "execution_count": null,
   "metadata": {},
   "outputs": [],
   "source": [
    "# This will calculate our intercept.\n",
    "intercept_of_reg_line = intercept(clean_ces_data, \"ces_pollution_score\", \"asthma\")\n",
    "intercept_of_reg_line"
   ]
  },
  {
   "cell_type": "markdown",
   "metadata": {},
   "source": [
    "Now that you have a slope (m) and intercept (b), we can plug them into the equation <span style =\"color:navy\">$Y = mX + b$</span> and create the regression line.\n",
    "What is the regression line for pollution acore and asthma?\n",
    "\n",
    "**Your Answer Below:**"
   ]
  },
  {
   "cell_type": "markdown",
   "metadata": {},
   "source": [
    "Y = "
   ]
  },
  {
   "cell_type": "markdown",
   "metadata": {},
   "source": [
    "Now that we have the equation, we can **plot it over our scatter plot** to visualize the prediction line on top of the actual data. The code cell below takes our slope / intercept and creates the equation above (don't worry about how it is implemented). We can use this function to draw the regression line on top of our scatter plot!"
   ]
  },
  {
   "cell_type": "code",
   "execution_count": null,
   "metadata": {},
   "outputs": [],
   "source": [
    "# defining the equation in Python!\n",
    "y = lambda x: slope_of_reg_line*x+intercept_of_reg_line "
   ]
  },
  {
   "cell_type": "code",
   "execution_count": null,
   "metadata": {},
   "outputs": [],
   "source": [
    "plots.figure(figsize = (5,5));\n",
    "#regular scatter plot\n",
    "clean_ces_data.scatter(\"ces_pollution_score\", \"asthma\", alpha = .16, s = 10);\n",
    "#drawing the regression line\n",
    "plots.plot(clean_ces_data.column('ces_pollution_score'), y(clean_ces_data.column('ces_pollution_score')), c = 'orange'); \n",
    "plots.yticks(np.arange(0,225,50))\n",
    "plots.ylim(ymax=240);\n",
    "plots.title(\"Y = 1.022*X + 23.657\");"
   ]
  },
  {
   "cell_type": "markdown",
   "metadata": {},
   "source": [
    "The gold line above is the equation of the line you derived: <span style='color:orange'>$Y = 1.022*X + 23.657$</span>. Amazingly, this simple line created by the equation in yellow is the **best** linear predictor of the data: out of all the infinitely many possible combinations of slopes and intercepts, the one we get from our functions predicts our data the best. If you know that a census tract is 80% hispanic, how many incidents of asthma would you guess that census tract to report? What if a census tract is 20% hispanic?\n",
    "\n",
    "As you have seen, the `.scatter()` function we learned last lab has a setting that allows us to draw the regression line within the scatterplot (without doing any calculations!). The additional three paramters (inputs) in the `clean_ces_data.scatter(...)` function allows us to do the following:\n",
    "* `fit_line = True` draws the **regression line** onto the normal scatter plot\n",
    "* `s = 10` reduces the **size** of each \"dot\" to get rid of clutter\n",
    "* `alpha = .18` increases the **transparency** of each \"dot\" so we can see which area is more **densely packed**\n",
    "\n",
    "Feel free to change the values and see what they do!\n",
    "\n",
    "Run the cell below and compare it to the plot above."
   ]
  },
  {
   "cell_type": "code",
   "execution_count": null,
   "metadata": {},
   "outputs": [],
   "source": [
    "#the following prints out the correlation coefficient derived from the correlation function\n",
    "print('r: ', correlation(clean_ces_data, 'ces_pollution_score', 'asthma'))\n",
    "clean_ces_data.scatter(\"ces_pollution_score\", \"asthma\", fit_line=True, alpha = .18, s = 10)"
   ]
  },
  {
   "cell_type": "markdown",
   "metadata": {},
   "source": [
    "We have the r-value above from the correlation function: `r = 0.5452274394377603`.\n",
    "Does this make sense given the scatter plot above?"
   ]
  },
  {
   "cell_type": "markdown",
   "metadata": {},
   "source": [
    "### Coefficient of Determination: How Good is our Predictive Model?\n",
    "\n",
    "We know how to assess the relationship between two variables. This relationship is used to derive the linear regression equation. But what if we want to assess how **effective** our linear regression model is?\n",
    "\n",
    "That is where the **Coefficient of Determination**, also called **r-squared**, comes in. It helps us assess the effectiveness of our predictive model and, more importantly, allows us to **compare** the effectiveness amongst various predictive models.\n",
    "\n",
    "Here is all you need to know about **r-squared**:\n",
    "<div class=\"alert alert-info\">\n",
    "It's a number ranging from <b>0 to 1</b> that tells you how well the model predicts the outcome: 1 is a perfect prediction (if you know the X-value, you definitely know the Y-Value) while 0 is a terrible prediction (you might as well guess!)\n",
    "</div>\n",
    "\n",
    "\n",
    "*Side Note:*\n",
    "It's called **r-squared** because in simple linear regression, the **Coefficient of Determination** is just the **square of the Correlation Coefficient r**. However, when we get to Multiple Regression (where we use *TWO* X variables to predict a Y variable), we can't just rely on the relationship between **two** variables to evaluate the effectiveness of the model because the model uses **three or more** variables. So, using r-squared allows us to compare model performance between any type of regression model!\n",
    "\n",
    "Run the cell below to find the R-squared value:"
   ]
  },
  {
   "cell_type": "code",
   "execution_count": null,
   "metadata": {},
   "outputs": [],
   "source": [
    "model = sm.ols(formula='asthma ~ ces_pollution_score', data = clean_ces_data)\n",
    "fit = model.fit()\n",
    "fit.summary()"
   ]
  },
  {
   "cell_type": "markdown",
   "metadata": {},
   "source": [
    "`r:  0.5452274394377603`\n",
    "`r-squared: 0.297`\n",
    "\n",
    "How good do you think our predictive model is, given that our r-squared value is 0.297?\n",
    "\n",
    "---\n",
    "\n",
    "## 3. Your Turn!\n",
    "\n",
    "In previous example, we explored the relationship between an environmental outcome and a health issue. Now let's look at how this health issue compares with a certain demographic."
   ]
  },
  {
   "cell_type": "code",
   "execution_count": null,
   "metadata": {},
   "outputs": [],
   "source": [
    "# This will find the correlation coefficient between African Americans and Asthma.\n",
    "print('r: ', correlation(clean_ces_data, 'african_american', 'asthma'))\n",
    "clean_ces_data.scatter(\"african_american\", \"asthma\", alpha = .18, s = 10)"
   ]
  },
  {
   "cell_type": "markdown",
   "metadata": {},
   "source": [
    "`r:  0.4986847676603604`"
   ]
  },
  {
   "cell_type": "code",
   "execution_count": null,
   "metadata": {},
   "outputs": [],
   "source": [
    "# Now fill this in to find the slope of our regression line.\n",
    "slope_of_reg_line = ...\n",
    "slope_of_reg_line"
   ]
  },
  {
   "cell_type": "code",
   "execution_count": null,
   "metadata": {},
   "outputs": [],
   "source": [
    "# Now fill this in to find the intercept of our regression line.\n",
    "intercept_of_reg_line = ...\n",
    "intercept_of_reg_line"
   ]
  },
  {
   "cell_type": "code",
   "execution_count": null,
   "metadata": {},
   "outputs": [],
   "source": [
    "print('r: ', correlation(clean_ces_data, 'african_american', 'asthma'))\n",
    "clean_ces_data.scatter(\"african_american\", \"asthma\", fit_line=True, alpha = .18, s = 10)"
   ]
  },
  {
   "cell_type": "code",
   "execution_count": null,
   "metadata": {},
   "outputs": [],
   "source": [
    "model = sm.ols(formula='asthma ~ african_american', data = clean_ces_data)\n",
    "fit = model.fit()\n",
    "fit.summary()"
   ]
  },
  {
   "cell_type": "markdown",
   "metadata": {},
   "source": [
    "`r-squared: 0.249`\n",
    "\n",
    "Since our r-value is low (far from 1) it shows us that we need to conduct a multiple regression because a single variable is not sufficient to predict asthma. Usually, there are multiple factors that affect an outcome so it makes sense that we need to do more than a simple analysis."
   ]
  },
  {
   "cell_type": "markdown",
   "metadata": {},
   "source": [
    "---\n",
    "\n",
    "Predictions are a powerful tool that we will explore more in the next lab using these techniques! If you would like to learn more about the theory behind standard units or explore these equations further, statistics classes or data 8 are great places to start!\n",
    "\n",
    "**CONGRATULATIONS!!!** You've made it through an introduction to correlation and prediction! In lab next week, we will revisit these concepts and delve further into analysis. See you then!\n",
    "\n",
    "\n",
    "## Peer Consulting Office Hours\n",
    "If you had trouble with any content in this notebook, Data Peer Consultants are here to help! You can check for availability of Peer Consultants on the **third floor of Moffitt library** (right across from the entrance) with this detailed [Office Hours schedule](https://data.berkeley.edu/education/peer-consulting). Peer Consultants are there to answer all data-related questions, whether it be about the content of this notebook, applications of data science in the world or other data science courses offered at Berkeley -- make sure to take advantage of this wonderful resource!\n",
    "\n",
    "---\n",
    "\n",
    "**Citation:**\n",
    "\n",
    "- [DS Modules](https://github.com/ds-modules)\n",
    "- Online Statistics Education: A Multimedia Course of Study (http://onlinestatbook.com/)\n",
    "- Pierce, Rod. \"Correlation\" Math Is Fun. Ed. Rod Pierce. 5 Nov 2018. 16 Feb 2019 <http://www.mathsisfun.com/data/correlation.html>\n",
    "\n",
    "*Notebook developed by: Aarish Irfan, Alleanna Clark & Keiko Kamei*"
   ]
  }
 ],
 "metadata": {
  "kernelspec": {
   "display_name": "Python 3",
   "language": "python",
   "name": "python3"
  },
  "language_info": {
   "codemirror_mode": {
    "name": "ipython",
    "version": 3
   },
   "file_extension": ".py",
   "mimetype": "text/x-python",
   "name": "python",
   "nbconvert_exporter": "python",
   "pygments_lexer": "ipython3",
   "version": "3.6.5"
  }
 },
 "nbformat": 4,
 "nbformat_minor": 2
}
